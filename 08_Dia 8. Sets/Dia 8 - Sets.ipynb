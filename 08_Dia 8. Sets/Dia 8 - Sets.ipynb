{
 "cells": [
  {
   "cell_type": "markdown",
   "metadata": {},
   "source": [
    "<font size=6 color=red>30 días de Python: Día 8 - Sets (Conjuntos)</font>\n",
    "\n",
    "---\n",
    "\n",
    "<span style=\"font-size: 1.5em; color: red\">Sets</span>\n",
    "\n",
    "Un conjunto es una colección de elementos. Un conjunto en Python es `mutable`. Esto significa que sus elementos pueden ser modificados después de \n",
    "que el conjunto se haya creado. Por ejemplo, podemos agregar o eliminar elementos de un conjunto, o podemos cambiar el orden de los elementos.\n",
    "Déjame llevarte de regreso a tu lección de Matemáticas de primaria o secundaria. La definición matemática de un conjunto también se puede aplicar \n",
    "en Python. Un `conjunto` es una colección de elementos distintos desordenados y no indexados. En Python, el conjunto se usa para almacenar \n",
    "elementos únicos, y es posible encontrar la unión, la intersección, la diferencia, la diferencia simétrica, el subconjunto, el superconjunto y el \n",
    "conjunto disjunto entre conjuntos.\n",
    "\n",
    "---\n",
    "\n",
    "## Crear un conjunto\n",
    "\n",
    "Usamos corchetes, `{}` para crear un conjunto o la función integrada `set()`. \n",
    "\n",
    "---\n",
    "\n",
    "## Crear un conjunto vacío\n",
    "\n",
    "En Python, al asignar `conjunto = {}`, el intérprete de Python no puede determinar automáticamente si estás creando un conjunto (`set`) vacío o un diccionario (`dict`) vacío. Esto se debe a que tanto los conjuntos como los diccionarios utilizan llaves `{}` para su declaración inicial.\n",
    "\n",
    "Para especificar explícitamente que estás creando un conjunto vacío, se debe utilizar la función `set()`:\n",
    "\n",
    "*Sintaxis*:\n",
    "\n",
    "```python\n",
    "conjunto = set()  # Esto crea un conjunto vacío\n",
    "\n",
    "```\n",
    "\n",
    "En resumen, para evitar confusiones, es una buena práctica ser explícito al crear un conjunto vacío utilizando `set()` y un diccionario vacío utilizando `{}`. De esta manera, queda claro para el intérprete de Python y para otros programadores qué tipo de estructura de datos estás creando."
   ]
  },
  {
   "cell_type": "markdown",
   "metadata": {},
   "source": [
    "---\n",
    "\n",
    "## Creación de un conjunto con elementos iniciales\n",
    "\n",
    "*Sintaxis:*\n",
    "\n",
    "```python\n",
    "conjunto = {'elemento_1', 'elemento_2', 'elemento_3', 'elemento_4'}\n",
    "\n",
    "```\n"
   ]
  },
  {
   "cell_type": "markdown",
   "metadata": {},
   "source": [
    "*Ejemplo:*\n",
    "\n",
    "```python\n",
    "frutas = {'platano', 'naranja', 'mango', 'limon'}\n"
   ]
  },
  {
   "cell_type": "markdown",
   "metadata": {},
   "source": [
    "---\n",
    "\n",
    "## Obtener la longitud del conjunto\n",
    "\n",
    "Usamos el método `len()` para encontrar la longitud de un conjunto. \n",
    "\n",
    "*Sintaxis:*"
   ]
  },
  {
   "cell_type": "code",
   "execution_count": null,
   "metadata": {},
   "outputs": [],
   "source": [
    "conjunto = {'elemento_1', 'elemento_2', 'elemento_3', 'elemento_4'}\n",
    "print(len(conjunto))"
   ]
  },
  {
   "cell_type": "markdown",
   "metadata": {},
   "source": [
    "*Ejemplo:*"
   ]
  },
  {
   "cell_type": "code",
   "execution_count": null,
   "metadata": {},
   "outputs": [],
   "source": [
    "frutas = {'platano', 'naranja', 'mango', 'limon'}\n",
    "len(frutas)"
   ]
  },
  {
   "cell_type": "markdown",
   "metadata": {},
   "source": [
    "---\n",
    "\n",
    "## Acceder a elementos en un conjunto\n",
    "\n",
    "Usamos bucles para acceder a los elementos. Veremos esto en la sección de bucle. \n",
    "\n",
    "Comprobación de un elemento, para verificar si existe un elemento en un conjunto, usamos el operador `in`. \n",
    "\n",
    "*Sintaxis:*"
   ]
  },
  {
   "cell_type": "code",
   "execution_count": null,
   "metadata": {},
   "outputs": [],
   "source": [
    "conjunto = {'elemento_1', 'elemento_2', 'elemento_3', 'elemento_4'}\n",
    "print(\"¿El conjunto contiene el elemento_3? \", 'elemento_3' in conjunto)  # El conjunto contiene el elemento_3? True"
   ]
  },
  {
   "cell_type": "markdown",
   "metadata": {},
   "source": [
    "*Ejemplo:*"
   ]
  },
  {
   "cell_type": "code",
   "execution_count": null,
   "metadata": {},
   "outputs": [],
   "source": [
    "frutas = {'platano', 'naranja', 'mango', 'limon'}\n",
    "print('mango' in frutas)  # True"
   ]
  },
  {
   "cell_type": "markdown",
   "metadata": {},
   "source": [
    "---\n",
    "\n",
    "## Añadir elementos a un conjunto\n",
    "\n",
    "Una vez que se crea un conjunto, no podemos cambiar ningún elemento, pero si podemos agregar elementos adicionales. \n",
    "\n",
    "### Agrega un elemento usando `add()`\n",
    "\n",
    "*Sintaxis:*"
   ]
  },
  {
   "cell_type": "code",
   "execution_count": null,
   "metadata": {},
   "outputs": [],
   "source": [
    "conjunto = {'elemento_1', 'elemento_2', 'elemento_3', 'elemento_4'}\n",
    "conjunto.add('elemento_5')"
   ]
  },
  {
   "cell_type": "markdown",
   "metadata": {},
   "source": [
    "*Ejemplo:*"
   ]
  },
  {
   "cell_type": "code",
   "execution_count": null,
   "metadata": {},
   "outputs": [],
   "source": [
    "frutas = {'platano', 'naranja', 'mango', 'limon'}\n",
    "frutas.add('lime')"
   ]
  },
  {
   "cell_type": "markdown",
   "metadata": {},
   "source": [
    "### Agregar múltiples elementos usando `update()`\n",
    "\n",
    "`update()` permite agregar múltiples elementos a un conjunto. \n",
    "\n",
    "El metodo `update()` toma una lista de argumentos.\n",
    "\n",
    "*Sintaxis:*"
   ]
  },
  {
   "cell_type": "code",
   "execution_count": null,
   "metadata": {},
   "outputs": [],
   "source": [
    "conjunto = {'elemento_1', 'elemento_2', 'elemento_3', 'elemento_4'}\n",
    "conjunto.update(['elemento_5','elemento_6','elemento_7'])"
   ]
  },
  {
   "cell_type": "markdown",
   "metadata": {},
   "source": [
    "*Ejemplo:*"
   ]
  },
  {
   "cell_type": "code",
   "execution_count": null,
   "metadata": {},
   "outputs": [],
   "source": [
    "frutas = {'platano', 'naranja', 'mango', 'limon'}\n",
    "vegetales = ('tomate', 'patata', 'col', 'cebolla', 'zanahoria')\n",
    "\n",
    "frutas.update(vegetales)"
   ]
  },
  {
   "cell_type": "markdown",
   "metadata": {},
   "source": [
    "---\n",
    "\n",
    "## Eliminar elementos de un conjunto\n",
    "\n",
    "Podemos eliminar un elemento de un conjunto usando el método `remove()`. \n",
    "Si no se encuentra el elemento, el método `remove()` generará errores, por lo que es bueno verificar si el elemento existe en el \n",
    "conjunto dado. Sin embargo, el método `discard()` no genera ningún error.\n",
    "\n",
    "*Sintaxis:*"
   ]
  },
  {
   "cell_type": "code",
   "execution_count": null,
   "metadata": {},
   "outputs": [],
   "source": [
    "conjunto = {'elemento_1', 'elemento_2', 'elemento_3', 'elemento_4'}\n",
    "conjunto.remove('elemento_2')"
   ]
  },
  {
   "cell_type": "markdown",
   "metadata": {},
   "source": [
    "\n",
    "El método `pop()` elimina un elemento aleatorio de una lista y devuelve el elemento eliminado.\n",
    "\n",
    "*Ejemplo:*"
   ]
  },
  {
   "cell_type": "code",
   "execution_count": null,
   "metadata": {},
   "outputs": [],
   "source": [
    "frutas = {'platano', 'naranja', 'mango', 'limon'}\n",
    "frutas.pop()  # Elimina un elemento aleatorio del conjunto"
   ]
  },
  {
   "cell_type": "markdown",
   "metadata": {},
   "source": [
    "Si estamos interesados en el elemento eliminado."
   ]
  },
  {
   "cell_type": "code",
   "execution_count": null,
   "metadata": {},
   "outputs": [],
   "source": [
    "frutas = {'platano', 'naranja', 'mango', 'limon'}\n",
    "elemento_eliminado = frutas.pop() "
   ]
  },
  {
   "cell_type": "markdown",
   "metadata": {},
   "source": [
    "---\n",
    "\n",
    "## Borrar todos los elementos de un conjunto\n",
    "\n",
    "Si queremos borrar o vaciar un conjunto, usamos el método `clear()`. \n",
    "\n",
    "*Sintaxis:*"
   ]
  },
  {
   "cell_type": "code",
   "execution_count": null,
   "metadata": {},
   "outputs": [],
   "source": [
    "conjunto = {'elemento_1', 'elemento_2', 'elemento_3', 'elemento_4'}\n",
    "conjunto.clear()"
   ]
  },
  {
   "cell_type": "markdown",
   "metadata": {},
   "source": [
    "*Ejemplo:*"
   ]
  },
  {
   "cell_type": "code",
   "execution_count": null,
   "metadata": {},
   "outputs": [],
   "source": [
    "frutas = {'platano', 'naranja', 'mango', 'limon'}\n",
    "frutas.clear()\n",
    "\n",
    "print(frutas)  # set()"
   ]
  },
  {
   "cell_type": "markdown",
   "metadata": {},
   "source": [
    "---\n",
    "\n",
    "## Eliminación de un conjunto\n",
    "\n",
    "Si queremos eliminar el conjunto en sí, usamos el operador `del`. \n",
    "\n",
    "*Sintaxis:*"
   ]
  },
  {
   "cell_type": "code",
   "execution_count": null,
   "metadata": {},
   "outputs": [],
   "source": [
    "conjunto = {'elemento_1', 'elemento_2', 'elemento_3', 'elemento_4'}\n",
    "del conjunto"
   ]
  },
  {
   "cell_type": "markdown",
   "metadata": {},
   "source": [
    "*Ejemplo:*"
   ]
  },
  {
   "cell_type": "code",
   "execution_count": null,
   "metadata": {},
   "outputs": [],
   "source": [
    "frutas = {'platano', 'naranja', 'mango', 'limon'}\n",
    "del frutas"
   ]
  },
  {
   "cell_type": "markdown",
   "metadata": {},
   "source": [
    "---\n",
    "\n",
    "## Convertir lista en conjunto\n",
    "\n",
    "Podemos convertir una lista en conjunto y un conjunto en lista. \n",
    "La conversión de la lista al conjunto elimina los duplicados y solo se reservarán elementos únicos.\n",
    "\n",
    "*Sintaxis:*"
   ]
  },
  {
   "cell_type": "code",
   "execution_count": null,
   "metadata": {},
   "outputs": [],
   "source": [
    "lista = ['elemento_1', 'elemento_2', 'elemento_3', 'elemento_4', 'elemento_1']\n",
    "\n",
    "conjunto = set(lista)  # {'elemento_2', 'elemento_4', 'elemento_1', 'elemento_3'} \n",
    "\n",
    "# El orden es aleatorio, porque los conjuntos en general no están ordenados"
   ]
  },
  {
   "cell_type": "markdown",
   "metadata": {},
   "source": [
    "*Ejemplo:*"
   ]
  },
  {
   "cell_type": "code",
   "execution_count": null,
   "metadata": {},
   "outputs": [],
   "source": [
    "frutas = ['platano', 'naranja', 'mango', 'limon','naranja', 'platano']\n",
    "\n",
    "frutas = set(frutas)  # {'mango', 'limon', 'platano', 'naranja'}"
   ]
  },
  {
   "cell_type": "markdown",
   "metadata": {},
   "source": [
    "---\n",
    "\n",
    "## Unión de conjuntos\n",
    "\n",
    "Podemos unir dos conjuntos usando el método `union()`, `update()` o el operador `|`. \n",
    "\n",
    "El método `union()` devuelve un `nuevo conjunto`.\n",
    "\n",
    "*Sintaxis:*"
   ]
  },
  {
   "cell_type": "code",
   "execution_count": null,
   "metadata": {},
   "outputs": [],
   "source": [
    "conjunto_1 = {'elemento_1', 'elemento_2', 'elemento_3', 'elemento_4'}\n",
    "conjunto_2 = {'elemento_5', 'elemento_6', 'elemento_7', 'elemento_8'}\n",
    "\n",
    "conjunto_3 = conjunto_1.union(conjunto_2)\n",
    "\n",
    "conjunto_3 = conjunto_1 | conjunto_2"
   ]
  },
  {
   "cell_type": "markdown",
   "metadata": {},
   "source": [
    "*Ejemplo:*"
   ]
  },
  {
   "cell_type": "code",
   "execution_count": null,
   "metadata": {},
   "outputs": [],
   "source": [
    "frutas = {'platano', 'naranja', 'mango', 'limon'}\n",
    "vegetales = {'tomate', 'patata', 'col', 'cebolla', 'zanahoria'}\n",
    "\n",
    "print(frutas.union(vegetales))  # {'limon', 'zanahoria', 'tomate', 'platano', 'mango', 'naranja', 'col', 'patata', 'cebolla'}\n",
    "print(frutas | vegetales)"
   ]
  },
  {
   "cell_type": "markdown",
   "metadata": {},
   "source": [
    "El método `update()` inserta un conjunto en un conjunto dado.\n",
    "\n",
    "*Sintaxis:*"
   ]
  },
  {
   "cell_type": "code",
   "execution_count": null,
   "metadata": {},
   "outputs": [],
   "source": [
    "conjunto_1 = {'elemento_1', 'elemento_2', 'elemento_3', 'elemento_4'}\n",
    "conjunto_2 = {'elemento_5', 'elemento_6', 'elemento_7', 'elemento_8'}\n",
    "\n",
    "conjunto_1.update(conjunto_2)  # Conjunto_2 se agrega al contenido de conjunto_1"
   ]
  },
  {
   "cell_type": "markdown",
   "metadata": {},
   "source": [
    "*Ejemplo:*"
   ]
  },
  {
   "cell_type": "code",
   "execution_count": null,
   "metadata": {},
   "outputs": [],
   "source": [
    "frutas = {'platano', 'naranja', 'mango', 'limon'}\n",
    "vegetales = {'tomate', 'patata', 'col', 'cebolla', 'zanahoria'}\n",
    "\n",
    "frutas.update(vegetales)\n",
    "\n",
    "print(frutas)  # {'limon', 'zanahoria', 'tomate', 'platano', 'mango', 'naranja', 'col', 'patata', 'cebolla'}"
   ]
  },
  {
   "cell_type": "markdown",
   "metadata": {},
   "source": [
    "---\n",
    "\n",
    "## Búsqueda de elementos de intersección\n",
    "\n",
    "\n",
    "La `intersección` devuelve un conjunto de elementos que están en ambos conjuntos. El operador de intersección en un conjunto es el símbolo `&`.\n",
    "Este operador se utiliza para devolver un nuevo conjunto que contiene los elementos comunes a dos o más conjuntos.\n",
    "\n",
    "*Sintaxis:*"
   ]
  },
  {
   "cell_type": "code",
   "execution_count": null,
   "metadata": {},
   "outputs": [],
   "source": [
    "conjunto_1 = {'elemento_1', 'elemento_2', 'elemento_3', 'elemento_4'}\n",
    "conjunto_2 = {'elemento_3', 'elemento_2'}\n",
    "\n",
    "print(conjunto_1.intersection(conjunto_2))  # {'elemento_3', 'elemento_2'}\n",
    "print(conjunto_1 & conjunto_2)              # {'elemento_3', 'elemento_2'}"
   ]
  },
  {
   "cell_type": "markdown",
   "metadata": {},
   "source": [
    "*Ejemplo:*"
   ]
  },
  {
   "cell_type": "code",
   "execution_count": null,
   "metadata": {},
   "outputs": [],
   "source": [
    "numeros_enteros = {0, 1, 2, 3, 4, 5, 6, 7, 8, 9, 10}\n",
    "numeros_pares = {0, 2, 4, 6, 8, 10}\n",
    "print(numeros_enteros.intersection(numeros_pares))  # {0, 2, 4, 6, 8, 10}\n",
    "print(numeros_enteros & numeros_pares)              # {0, 2, 4, 6, 8, 10}\n",
    "\n",
    "python = {'p', 'y', 't', 'h', 'o','n'}\n",
    "dragon = {'d', 'r', 'a', 'g', 'o','n'}\n",
    "print(python.intersection(dragon))  # {'o', 'n'}\n",
    "print(python & dragon)              # {'o', 'n'}"
   ]
  },
  {
   "cell_type": "markdown",
   "metadata": {},
   "source": [
    "---\n",
    "\n",
    "## Comprobación de subconjunto y superconjunto\n",
    "\n",
    "Un conjunto puede ser un subconjunto o superconjunto de otros conjuntos:\n",
    "\n",
    "- Subconjunto: `issubset()`\n",
    "- Súper conjunto: `issuperset()`\n",
    "\n",
    "*Sintaxis:*"
   ]
  },
  {
   "cell_type": "code",
   "execution_count": null,
   "metadata": {},
   "outputs": [],
   "source": [
    "conjunto_1 = {'elemento_1', 'elemento_2', 'elemento_3', 'elemento_4'}\n",
    "conjunto_2 = {'elemento_2', 'elemento_3'}\n",
    "\n",
    "conjunto_2.issubset(conjunto_1)    # True\n",
    "conjunto_1.issuperset(conjunto_2)  # True"
   ]
  },
  {
   "cell_type": "markdown",
   "metadata": {},
   "source": [
    "*Ejemplo:*"
   ]
  },
  {
   "cell_type": "code",
   "execution_count": null,
   "metadata": {},
   "outputs": [],
   "source": [
    "numeros_enteros = {0, 1, 2, 3, 4, 5, 6, 7, 8, 9, 10}\n",
    "numeros_pares = {0, 2, 4, 6, 8, 10}\n",
    "\n",
    "numeros_enteros.issubset(numeros_pares)    # False, porque esto es un super set\n",
    "numeros_enteros.issuperset(numeros_pares)  # True\n",
    "\n",
    "python = {'p', 'y', 't', 'h', 'o', 'n'}\n",
    "dragon = {'d', 'r', 'a', 'g', 'o', 'n'}\n",
    "python.issubset(dragon)  # False"
   ]
  },
  {
   "cell_type": "markdown",
   "metadata": {},
   "source": [
    "---\n",
    "\n",
    "## Comprobar la diferencia entre dos conjuntos\n",
    "\n",
    "Devuelve la diferencia entre dos conjuntos. \n",
    "\n",
    "*Sintaxis:*"
   ]
  },
  {
   "cell_type": "code",
   "execution_count": null,
   "metadata": {},
   "outputs": [],
   "source": [
    "conjunto_1 = {'elemento_1', 'elemento_2', 'elemento_3', 'elemento_4'}\n",
    "conjunto_2 = {'elemento_2', 'elemento_3'}\n",
    "\n",
    "conjunto_2.difference(conjunto_1) # set()\n",
    "conjunto_1.difference(conjunto_2) # {'elemento_1', 'elemento_4'} => conjunto_1\\conjunto_2"
   ]
  },
  {
   "cell_type": "markdown",
   "metadata": {},
   "source": [
    "*Ejemplo:*"
   ]
  },
  {
   "cell_type": "code",
   "execution_count": null,
   "metadata": {},
   "outputs": [],
   "source": [
    "numeros_enteros = {0, 1, 2, 3, 4, 5, 6, 7, 8, 9, 10}\n",
    "numeros_pares = {0, 2, 4, 6, 8, 10}\n",
    "\n",
    "numeros_enteros.difference(numeros_pares)  # {1, 3, 5, 7, 9}\n",
    "\n",
    "python = {'p', 'y', 't', 'o','n'}\n",
    "dragon = {'d', 'r', 'a', 'g', 'o','n'}\n",
    "\n",
    "python.difference(dragon)  # {'p', 'y', 't'}  - El resultado no esta ordenado (caracteristicas de los conjuntos)\n",
    "dragon.difference(python)  # {'d', 'r', 'a', 'g'}"
   ]
  },
  {
   "cell_type": "markdown",
   "metadata": {},
   "source": [
    "---\n",
    "\n",
    "## Hallar diferencias simétricas entre dos conjuntos\n",
    "\n",
    "Devuelve la diferencia simétrica entre dos conjuntos. Significa que devuelve un conjunto que contiene todos los elementos de ambos \n",
    "conjuntos, excepto los elementos que están presentes en ambos conjuntos, matemáticamente: \n",
    "`(A\\B) U (B\\A)`\n",
    "\n",
    "*Sintaxis:*"
   ]
  },
  {
   "cell_type": "code",
   "execution_count": null,
   "metadata": {},
   "outputs": [],
   "source": [
    "conjunto_1 = {'elemento_1', 'elemento_2', 'elemento_3', 'elemento_4'}\n",
    "conjunto_2 = {'elemento_2', 'elemento_3'}\n",
    "\n",
    "# Significa (A\\B)∪(B\\A)\n",
    "conjunto_2.symmetric_difference(conjunto_1)  # {'elemento_1', 'elemento_4'}"
   ]
  },
  {
   "cell_type": "markdown",
   "metadata": {},
   "source": [
    "*Ejemplo:*"
   ]
  },
  {
   "cell_type": "code",
   "execution_count": null,
   "metadata": {},
   "outputs": [],
   "source": [
    "numeros_enteros = {0, 1, 2, 3, 4, 5, 6, 7, 8, 9, 10}\n",
    "algunos_mumeros = {1, 2, 3, 4, 5}\n",
    "numeros_enteros.symmetric_difference(algunos_mumeros)  # {0, 6, 7, 8, 9, 10}\n",
    "\n",
    "python = {'p', 'y', 't', 'h', 'o','n'}\n",
    "dragon = {'d', 'r', 'a', 'g', 'o','n'}\n",
    "python.symmetric_difference(dragon)  # {'r', 't', 'p', 'y', 'g', 'a', 'd', 'h'}"
   ]
  },
  {
   "cell_type": "markdown",
   "metadata": {},
   "source": [
    "---\n",
    "\n",
    "## Función `isdisjoint()` en Python\n",
    "\n",
    "La función Python `isdisjoint()` verifica si los dos conjuntos son disjuntos o no, si es disjunto, devuelve `True`; de lo contrario, \n",
    "devolverá `False`. Se dice que dos conjuntos son disjuntos cuando su intersección es nula. En palabras simples, no tienen ningún elemento común entre ellos.\n",
    "\n",
    "Si dos conjuntos no tienen un elemento o elementos comunes, los llamamos conjuntos disjuntos. \n",
    "Podemos verificar si dos conjuntos son conjuntos o disjuntos usando el método `isdisjoint()`.\n",
    "\n",
    "*Sintaxis:*"
   ]
  },
  {
   "cell_type": "code",
   "execution_count": null,
   "metadata": {},
   "outputs": [],
   "source": [
    "conjunto_1 = {'elemento_1', 'elemento_2', 'elemento_3', 'elemento_4'}\n",
    "conjunto_2 = {'elemento_2', 'elemento_3'}\n",
    "\n",
    "conjunto_2.isdisjoint(conjunto_1)  # False"
   ]
  },
  {
   "cell_type": "markdown",
   "metadata": {},
   "source": [
    "*Ejemplo:*"
   ]
  },
  {
   "cell_type": "code",
   "execution_count": null,
   "metadata": {},
   "outputs": [],
   "source": [
    "numeros_pares = {0, 2, 4 ,6, 8}\n",
    "numeros_impares = {1, 3, 5, 7, 9}\n",
    "numeros_pares.isdisjoint(numeros_impares)    # True, porque no hay elemento común\n",
    "\n",
    "python = {'p', 'y', 't', 'h', 'o','n'}\n",
    "dragon = {'d', 'r', 'a', 'g', 'o','n'}\n",
    "python.isdisjoint(dragon)                    # False, hay elementos comunes {'o', 'n'}"
   ]
  }
 ],
 "metadata": {
  "kernelspec": {
   "display_name": "Python 3",
   "language": "python",
   "name": "python3"
  },
  "language_info": {
   "codemirror_mode": {
    "name": "ipython",
    "version": 3
   },
   "file_extension": ".py",
   "mimetype": "text/x-python",
   "name": "python",
   "nbconvert_exporter": "python",
   "pygments_lexer": "ipython3",
   "version": "3.11.5"
  },
  "orig_nbformat": 4
 },
 "nbformat": 4,
 "nbformat_minor": 2
}
