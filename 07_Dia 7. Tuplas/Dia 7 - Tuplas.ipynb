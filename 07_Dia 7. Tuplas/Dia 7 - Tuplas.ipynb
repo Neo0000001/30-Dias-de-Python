{
 "cells": [
  {
   "cell_type": "markdown",
   "metadata": {},
   "source": [
    "<font size=6 color='red'>30 días de Python: Día 7 - Tuplas</font>\n",
    "\n",
    "---\n",
    "\n",
    "## Tuplas (tuple)\n",
    "\n",
    "Una `tupla` es una colección de diferentes tipos de datos ordenados e inmutables. Las tuplas se escriben con corchetes, `()`.\n",
    "Una vez que se crea una tupla, no podemos cambiar sus valores. \n",
    "No podemos usar métodos de agregar, insertar, eliminar en una tupla porque no es modificable (mutable). \n",
    "A diferencia de `list`, `tuple` tiene pocos métodos. Métodos relacionados con las tuplas:\n",
    "\n",
    "- *`tuple():`* Para crear una tupla vacía.\n",
    "- *`count():`* Para contar el número de un elemento específico en una tupla.\n",
    "- *`index():`* Para encontrar el índice de un elemento específico en una tupla.\n",
    "- *`operador +`*: Unir dos o más tuplas y crear una nueva tupla.\n",
    "\n",
    "---\n",
    "\n",
    "## Creando una tupla\n",
    "\n",
    "**Tupla vacía: Creación de una tupla vacía.**\n",
    "\n",
    "*Sintaxis:*\n",
    "\n",
    "```python\n",
    "tupla_vacia = ()\n",
    "\n",
    "```"
   ]
  },
  {
   "cell_type": "markdown",
   "metadata": {},
   "source": [
    "---\n",
    "\n",
    "## O usando el constructor de tuplas\n",
    "\n",
    "*Sintaxis:*\n",
    "\n",
    "```python\n",
    "tupla_vacia = tuple()\n",
    "\n",
    "```\n",
    "\n",
    "---"
   ]
  },
  {
   "cell_type": "markdown",
   "metadata": {},
   "source": [
    "*Ejemplo de tuplas:*\n",
    "\n",
    "```python\n",
    "tupla = ('elemnto1', 'elemnto2', 'elemnto3')\n",
    "frutas = ('banana', 'naranja', 'mango', 'limon')\n",
    "\n",
    "```\n",
    "\n"
   ]
  },
  {
   "cell_type": "markdown",
   "metadata": {},
   "source": [
    "---\n",
    "\n",
    "## Longitud de la tupla\n",
    "\n",
    "Usamos el método `len()` para obtener la longitud de una tupla. \n",
    "\n",
    "*Sintaxis:*"
   ]
  },
  {
   "cell_type": "code",
   "execution_count": null,
   "metadata": {},
   "outputs": [],
   "source": [
    "tupla = ('elemnto1', 'elemnto2', 'elemnto3')\n",
    "print(len(tupla))"
   ]
  },
  {
   "cell_type": "markdown",
   "metadata": {},
   "source": [
    "*Salida:*\n",
    "\n",
    "```text\n",
    "3\n",
    "\n",
    "```\n"
   ]
  },
  {
   "cell_type": "markdown",
   "metadata": {},
   "source": [
    "---\n",
    "\n",
    "## Acceso a elementos de tupla\n",
    "\n",
    "Indexación positiva similar al tipo de datos de lista, usamos indexación positiva o negativa para acceder a elementos de tupla. \n",
    "\n",
    "*Sintaxis:*\n",
    "\n",
    "```python\n",
    "tupla = ('elemnto1', 'elemnto2', 'elemnto3')\n",
    "\n",
    "primer_elemnto = tupla[0]\n",
    "segundo_elemnto = tupla[1]\n",
    "\n",
    "```\n",
    "\n",
    "*Ejemplo:*"
   ]
  },
  {
   "cell_type": "code",
   "execution_count": 4,
   "metadata": {},
   "outputs": [
    {
     "name": "stdout",
     "output_type": "stream",
     "text": [
      "banana\n",
      "naranja\n",
      "3\n",
      "limon\n"
     ]
    }
   ],
   "source": [
    "frutas = ('banana', 'naranja', 'mango', 'limon')\n",
    "\n",
    "primera_fruta = frutas[0]\n",
    "segunda_fruta = frutas[1]\n",
    "ultimo_indice =len(frutas) - 1\n",
    "ultima_fruta = frutas[ultimo_indice]\n",
    "\n",
    "print(primera_fruta)  # banana\n",
    "print(segunda_fruta)  # naranja\n",
    "print(ultimo_indice)  # 3\n",
    "print(ultima_fruta)   # limon"
   ]
  },
  {
   "cell_type": "markdown",
   "metadata": {},
   "source": [
    "__Indexación negativa:__\n",
    "\n",
    "La indexación negativa significa comenzar desde el final, -1 se refiere al último elemento, -2 se refiere al \n",
    "penúltimo y el negativo de la longitud de la lista/tupla se refiere al primer elemento. \n",
    "\n",
    "*Sintaxis:*\n",
    "\n",
    "```python\n",
    "tupla = ('elemnto1', 'elemnto2', 'elemnto3', 'elemnto4')\n",
    "\n",
    "primer_elemnto = tupla[-4]\n",
    "segundo_elemnto = tupla[-3]\n",
    "\n",
    "```\n",
    "\n",
    "*Ejemplo:*"
   ]
  },
  {
   "cell_type": "code",
   "execution_count": 2,
   "metadata": {},
   "outputs": [
    {
     "name": "stdout",
     "output_type": "stream",
     "text": [
      "banana\n",
      "naranja\n",
      "limon\n"
     ]
    }
   ],
   "source": [
    "frutas = ('banana', 'naranja', 'mango', 'limon')\n",
    "\n",
    "primera_fruta = frutas[-4]\n",
    "segunda_fruta = frutas[-3]\n",
    "ultima_fruta = frutas[-1]\n",
    "\n",
    "print(primera_fruta)    # banana\n",
    "print(segunda_fruta)    # naranja\n",
    "print(ultima_fruta)     # limon"
   ]
  },
  {
   "cell_type": "markdown",
   "metadata": {},
   "source": [
    "---\n",
    "\n",
    "## Rebanar tuplas Rango de índices positivos\n",
    "\n",
    "Podemos dividir una subtupla especificando un rango de índices donde comenzar y donde terminar en la tupla, el valor devuelto será \n",
    "una nueva tupla con los elementos especificados.\n",
    "\n",
    "* __Rango de índices positivos__\n",
    "\n",
    "*Sintaxis:*\n",
    "\n",
    "```python\n",
    "tupla = ('elemnto1', 'elemnto2', 'elemnto3', 'elemnto4')\n",
    "\n",
    "todos_elemntos = tupla[0:4]          # Todos los elementos\n",
    "todos_elemntos = tupla[0:]           # Todos los elementos\n",
    "dos_elemntos_del_medio = tupla[1:3]  # No incluye el elemento del indice 3 ('elemnto1', 'elemnto2', 'elemnto3')\n",
    "\n",
    "```\n",
    "\n",
    "*Ejemplo:*"
   ]
  },
  {
   "cell_type": "code",
   "execution_count": null,
   "metadata": {},
   "outputs": [],
   "source": [
    "frutas = ('banana', 'naranja', 'mango', 'limon')\n",
    "\n",
    "todas_frutas = frutas[0:4]          # Todos los elementos\n",
    "todas_frutas = frutas[0:]           # Todos los elementos\n",
    "naranja_mango = frutas[1:3]         # No incluye el elemento del indice 3 ('banana', 'naranja', 'mango')\n",
    "naranja_hasta_final = frutas[1:]"
   ]
  },
  {
   "cell_type": "markdown",
   "metadata": {},
   "source": [
    "* __Rango de índices negativos__\n",
    "\n",
    "*Sintaxis:*\n",
    "\n",
    "```python\n",
    "tupla = ('elemnto1', 'elemnto2', 'elemnto3', 'elemnto4')\n",
    "\n",
    "todos_elemntos = tupla[-4:]            # Todos los elementos\n",
    "dos_elemntos_del_medi = tupla[-3:-1]   # Esto no incluye el elemento en el indice 3 (-1) '(elemnto2', 'elemnto3')\n",
    "\n",
    "```\n",
    "\n",
    "\n",
    "*Ejemplo:*"
   ]
  },
  {
   "cell_type": "code",
   "execution_count": null,
   "metadata": {},
   "outputs": [],
   "source": [
    "frutas = ('banana', 'naranja', 'mango', 'limon')\n",
    "\n",
    "todas_frutas = frutas[-4:]         # Todos los elementos ('banana', 'naranja', 'mango', 'limon')\n",
    "naranja_mango = frutas[-3:-1]      # No incluye el elemento del indice 3 ('naranja', 'mango')\n",
    "naranja_hasta_final = frutas[-3:]  # ('naranja', 'mango', 'limon')"
   ]
  },
  {
   "cell_type": "markdown",
   "metadata": {},
   "source": [
    "---\n",
    "\n",
    "## Cambiar tuplas a listas\n",
    "\n",
    "Podemos cambiar tuplas por listas y listas por tuplas. Las Tuplas son inmutables, si queremos modificar una tupla debemos cambiarla a una \n",
    "lista.\n",
    "\n",
    "*Sintaxis:*\n",
    "\n",
    "```python\n",
    "tupla = ('elemnto1', 'elemnto2', 'elemnto3', 'elemnto4')\n",
    "lst = list(tupla)\n",
    "\n",
    "```\n",
    "\n",
    "*Ejemplo:*"
   ]
  },
  {
   "cell_type": "code",
   "execution_count": null,
   "metadata": {},
   "outputs": [],
   "source": [
    "frutas = ('banana', 'naranja', 'mango', 'limon')\n",
    "frutas = list(frutas)\n",
    "\n",
    "frutas[0] = 'manzana'\n",
    "print(frutas)     # ['manzana', 'naranja', 'mango', 'limon']\n",
    "\n",
    "frutas = tuple(frutas)\n",
    "print(frutas)     # ('manzana', 'naranja', 'mango', 'limon')"
   ]
  },
  {
   "cell_type": "markdown",
   "metadata": {},
   "source": [
    "*Salida:*\n",
    "\n",
    "```text\n",
    "['manzana', 'naranja', 'mango', 'limon']\n",
    "('manzana', 'naranja', 'mango', 'limon')\n",
    "\n",
    "```\n"
   ]
  },
  {
   "cell_type": "markdown",
   "metadata": {},
   "source": [
    "---\n",
    "\n",
    "## Comprobación de un elemento en una tupla\n",
    "\n",
    "Podemos verificar si un elemento existe o no en una tupla usando el operador `in`, que devolvera un valor booleano (`True, False`). \n",
    "\n",
    "*Sintaxis:*\n",
    "\n",
    "```python\n",
    "tupla = ('elemnto1', 'elemnto2', 'elemnto3', 'elemnto4')\n",
    "\n",
    "print('elemnto2' in tupla)  # True\n",
    "\n",
    "```\n",
    "\n",
    "*Ejemplo:*"
   ]
  },
  {
   "cell_type": "code",
   "execution_count": null,
   "metadata": {},
   "outputs": [],
   "source": [
    "frutas = ('banana', 'naranja', 'mango', 'limon')\n",
    "print('naranja' in frutas)    # True\n",
    "\n",
    "print('manzana' in frutas)    # False\n",
    "frutas[0] = 'manzana'         # TypeError: 'tuple' object does not support item assignment"
   ]
  },
  {
   "cell_type": "markdown",
   "metadata": {},
   "source": [
    "*Salida:*\n",
    "\n",
    "```python\n",
    "True\n",
    "False\n",
    "{\n",
    "\t\"name\": \"TypeError\",\n",
    "\t\"message\": \"'tuple' object does not support item assignment\",\n",
    "\t\"stack\": \"---------------------------------------------------------------------------\n",
    "TypeError                                 Traceback (most recent call last)\n",
    "Cell In[2], line 5\n",
    "      2 print('naranja' in frutas)    # True\n",
    "      4 print('manzana' in frutas)    # False\n",
    "----> 5 frutas[0] = 'manzana'         # TypeError: 'tuple' object does not support item assignment\n",
    "\n",
    "TypeError: 'tuple' object does not support item assignment\"\n",
    "}\n",
    "\n",
    "```\n"
   ]
  },
  {
   "cell_type": "markdown",
   "metadata": {},
   "source": [
    "---\n",
    "\n",
    "## Unión de tuplas\n",
    "\n",
    "Podemos unir dos o más tuplas usando el operador `+` \n",
    "\n",
    "*Sintaxis:*\n",
    "\n",
    "```python\n",
    "tupla_1 = ('elemnto1', 'elemnto2', 'elemnto3')\n",
    "tupla_2 = ('elemnto4', 'elemnto5', 'elemnto6')\n",
    "\n",
    "tupla_3 = tupla_1 + tupla_2\n",
    "\n",
    "```\n",
    "\n",
    "\n",
    "*Ejemplo:*"
   ]
  },
  {
   "cell_type": "code",
   "execution_count": null,
   "metadata": {},
   "outputs": [],
   "source": [
    "frutas = ('banana', 'naranja', 'mango', 'limon')\n",
    "vegetales = ('Tomate', 'Patata', 'Col','Cebolla', 'Zanahoria')\n",
    "\n",
    "frutas_y_vegetales = frutas + vegetales\n",
    "\n",
    "print(frutas_y_vegetales)"
   ]
  },
  {
   "cell_type": "markdown",
   "metadata": {},
   "source": [
    "*Salida:*\n",
    "\n",
    "```text\n",
    "('banana', 'naranja', 'mango', 'limon', 'Tomate', 'Patata', 'Col', 'Cebolla', 'Zanahoria')\n",
    "\n",
    "```\n"
   ]
  },
  {
   "cell_type": "markdown",
   "metadata": {},
   "source": [
    "---\n",
    "\n",
    "## Eliminación de tuplas\n",
    "\n",
    "No es posible eliminar un solo elemento en una tupla, pero es posible eliminar la tupla en sí usando `del`. \n",
    "\n",
    "*Sintaxis:*\n",
    "\n",
    "```python\n",
    "tupla_1 = ('elemnto1', 'elemnto2', 'elemnto3')\n",
    "del tupla_1\n",
    "\n",
    "```\n",
    "\n",
    "\n",
    "*Ejemplo:*"
   ]
  },
  {
   "cell_type": "code",
   "execution_count": null,
   "metadata": {},
   "outputs": [],
   "source": [
    "frutas = ('banana', 'naranja', 'mango', 'limon')\n",
    "del frutas"
   ]
  }
 ],
 "metadata": {
  "kernelspec": {
   "display_name": "Python 3",
   "language": "python",
   "name": "python3"
  },
  "language_info": {
   "codemirror_mode": {
    "name": "ipython",
    "version": 3
   },
   "file_extension": ".py",
   "mimetype": "text/x-python",
   "name": "python",
   "nbconvert_exporter": "python",
   "pygments_lexer": "ipython3",
   "version": "3.12.3"
  },
  "orig_nbformat": 4
 },
 "nbformat": 4,
 "nbformat_minor": 2
}
