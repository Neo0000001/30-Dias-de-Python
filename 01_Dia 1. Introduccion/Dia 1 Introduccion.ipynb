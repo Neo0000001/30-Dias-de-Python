{
 "cells": [
  {
   "cell_type": "markdown",
   "metadata": {},
   "source": [
    "<font size=6 color='red'>30 días de Python: Día 1 - Introduction</font>\n",
    "\n",
    "---\n",
    "\n",
    "### Introduccion\n",
    "\n",
    "`Python` es un lenguaje de programación de `alto nivel` y fácil de aprender. Fue creado por `Guido van Rossum` en la década de `1990` y se ha convertido en uno de los lenguajes \n",
    "más populares en la actualidad debido a su simplicidad y versatilidad.\n",
    "\n",
    "Una de las características distintivas de Python es su sintaxis clara y legible, lo que facilita la escritura y comprensión del código. Además, Python es un `lenguaje interpretado`, lo que significa que no se necesita compilar el código antes de ejecutarlo, lo que agiliza el proceso de desarrollo.\n",
    "\n",
    "`Python` es conocido por su `amplia biblioteca estándar`, que ofrece un conjunto de módulos y funciones incorporadas que abarcan desde operaciones básicas hasta tareas más complejas, como manipulación de archivos, acceso a bases de datos, creación de dinterfaces gráficas de usuario, entre otros.\n",
    "\n",
    "Una de las ventajas de Python es su enfoque en la legibilidad y la facilidad de uso, lo que lo convierte en una excelente opción tanto para principiantes como para programadores experimentados. Además, Python cuenta con una gran comunidad de desarrolladores que contribuyen con paquetes y bibliotecas adicionales, lo que amplía aún más sus capacidades.\n",
    "\n",
    "Python se utiliza en una amplia gama de aplicaciones, como desarrollo web, ciencia de datos, inteligencia artificial, aprendizaje automático, automatización de tareas, entre otros. Su versatilidad y su enfoque en la productividad lo convierten en una herramienta poderosa para una variedad de proyectos.\n",
    "\n",
    "En resumen, Python es un lenguaje de programación fácil de aprender, legible y versátil, con una amplia biblioteca estándar y una gran comunidad de desarrolladores. Si estás interesado en comenzar a programar, Python es una excelente elección para adentrarte en el mundo de la programación.\n",
    "\n",
    "---\n",
    "\n",
    "#### En Python todo es un objeto que tiene propiedades y métodos\n",
    "\n",
    "Sí, en `Python`, todo es un `objeto `y tiene `atributos` y `métodos`. Los atributos son las características o variables de un objeto, mientras que los métodos son las acciones o funciones que puede realizar el objeto. Cada objeto en Python pertenece a una clase, que define su comportamiento y estado.\n",
    "\n",
    "---\n",
    "\n",
    "#### Las funciones son fragmentos de codigo reutilizable\n",
    "\n",
    "Sí, las funciones son fragmentos de código que se pueden reutilizar varias veces en un programa. Permiten encapsular lógica específica en un bloque de código independiente, lo que hace que el código sea más organizado, fácil de entender y mantener.\n",
    "\n",
    "Además, al utilizar funciones, se pueden evitar repeticiones de código y reducir la complejidad del programa. Las funciones también se pueden pasar como argumentos a otras funciones y pueden devolver valores o resultados para ser utilizados en otras partes del programa.\n",
    "\n",
    "---\n",
    "\n",
    "#### Las clases son fabricas de objetos que tienen similares atributos y propiedades\n",
    "\n",
    "Sí, las `clases` son un mecanismo de programación orientada a objetos (`POO`) que se utilizan para definir un conjunto de `atributos` y `métodos` (funciones) que son comunes a un conjunto de `objetos`. Una clase es como una plantilla o molde a partir del cual se pueden crear objetos o instancias de esa clase, cada uno con su propio conjunto de atributos y métodos.\n",
    "\n",
    "Los `atributos` son las variables que contienen los datos o estado de un objeto, mientras que los `métodos` son las funciones que definen las acciones o comportamiento que puede realizar un objeto.\n",
    "Al utilizar clases se pueden agrupar los objetos en categorías lógicas, lo que hace que el código sea más fácil de entender y mantener. Además, la reutilización de código es mucho más fácil al crear objetos a partir de una clase existente en lugar de escribir código desde cero cada vez.\n",
    "\n",
    "*Ejemplo de operaciones aritmeticas:*"
   ]
  },
  {
   "cell_type": "code",
   "execution_count": null,
   "metadata": {},
   "outputs": [],
   "source": [
    "print(2 + 3)   # suma(+)\n",
    "print(3 - 1)   # resta(-)\n",
    "print(2 * 3)   # multipicacion(*)\n",
    "print(3 / 2)   # division(/)\n",
    "print(3 ** 2)  # exponencial(**)\n",
    "print(3 % 2)   # modulo(%)\n",
    "print(3 // 2)  # Operador division de piso(//)"
   ]
  },
  {
   "cell_type": "markdown",
   "metadata": {},
   "source": [
    "---\n",
    "\n",
    "## Chequeando tipos de datos\n",
    "\n",
    "En Python, la función `type()` es una función incorporada que se utiliza para determinar el tipo de un `objeto`. Toma un objeto como argumento y \n",
    "devuelve una referencia al objeto que representa el tipo del argumento. La función `type()` es útil para verificar el tipo de un objeto antes de \n",
    "realizar una operación en él, o para fines de depuración.\n",
    "\n",
    "*Ejemplo:*"
   ]
  },
  {
   "cell_type": "code",
   "execution_count": null,
   "metadata": {},
   "outputs": [],
   "source": [
    "print(type(10))                    # Int (entero)\n",
    "print(type(3.14))                  # Float (decimal)\n",
    "print(type(1 + 3j))                # Complex (complejo)\n",
    "print(type('Juan'))                # String (cadena de texto)\n",
    "print(type([1, 2, 3]))             # List (lista)\n",
    "print(type({'nombre': 'Juan'}))    # Dictionary (diccionario)\n",
    "print(type({9.8, 3.14, 2.7}))      # Set (conjunto)\n",
    "print(type((9.8, 3.14, 2.7)))      # Tuple (tupla)"
   ]
  },
  {
   "cell_type": "markdown",
   "metadata": {},
   "source": [
    "---\n",
    "\n",
    "__Explicación de algunos términos:__\n",
    "\n",
    "`Objeto`: Un objeto es una entidad en Python que tiene un estado y un comportamiento. Los objetos se crean a partir de clases.\n",
    "\n",
    "`Tipo`: El tipo de un objeto determina sus propiedades y comportamientos.\n",
    "\n",
    "`Argumento`: Un argumento es un valor que se pasa a una función.\n",
    "\n",
    "`Referencia`: Una referencia es una forma de acceder a un objeto.\n",
    "\n",
    "`Clase`: Una clase es un molde para crear objetos.\n",
    "\n",
    "`Instancia`: Una instancia es un objeto creado a partir de una clase.\n",
    "\n",
    "`Parámetro`: Un parámetro es una variable que se declara en la definición de una función.\n",
    "\n",
    "`Argumento por palabra clave`: Un argumento por palabra clave es un argumento que se pasa a una función usando una palabra clave.\n",
    "\n",
    "`Metaclase`: Una metaclase es una clase que se utiliza para crear otras clases.\n",
    "\n",
    "`Subclase`: Una subclase es una clase que hereda de otra clase.\n"
   ]
  }
 ],
 "metadata": {
  "language_info": {
   "name": "python"
  },
  "orig_nbformat": 4
 },
 "nbformat": 4,
 "nbformat_minor": 2
}
