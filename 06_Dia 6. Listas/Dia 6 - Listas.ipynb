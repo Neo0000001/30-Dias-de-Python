{
 "cells": [
  {
   "cell_type": "markdown",
   "metadata": {},
   "source": [
    "<span style=\"font-size: 2em; color: red\">30 Days de Python: Day 6 - Listas</span>\n",
    "\n",
    "---\n",
    "\n",
    "## Listas (list)\n",
    "\n",
    "La clase `list` en Python es una de las más utilizadas por su naturaleza, dinamismo, fácil manejo y potencia. Tengo que decir que el \n",
    "tipo lista de Python me sorprende gratamente y es uno de los grandes aciertos del lenguaje. Descubre en este tutorial qué es el tipo \n",
    "list y cuáles son sus operaciones más comunes para sacarle el máximo provecho.\n",
    "\n",
    "Las listas en Python son un tipo contenedor, compuesto, que se usan para almacenar conjuntos de elementos relacionados del mismo tipo \n",
    "o de tipos distintos.\n",
    "Junto a las clases tuple, range y str, son uno de los tipos de secuencia en Python, con la particularidad de que son mutables. \n",
    "Esto último quiere decir que su contenido se puede modificar después de haber sido creada.\n",
    "Para crear una lista en Python, simplemente hay que encerrar una secuencia de elementos separados por comas entre corchetes `[ ]`.\n",
    "\n",
    "Por ejemplo, para crear una lista con los números del 1 al 10 se haría del siguiente modo:"
   ]
  },
  {
   "cell_type": "code",
   "execution_count": null,
   "metadata": {},
   "outputs": [],
   "source": [
    "numeros = [1, 2, 3, 4, 5, 6, 7, 8, 9, 10]"
   ]
  },
  {
   "cell_type": "markdown",
   "metadata": {},
   "source": [
    "*Hay cuatro tipos de datos de colección en Python:*\n",
    "\n",
    "1. `Lista`: Es una colección ordenada y mutable (modificable). Permite elementos duplicados.\n",
    "\n",
    "2. `Tupla`: Es una colección ordenada e inmutable o (inmodificable). Permite elementos duplicados.\n",
    "\n",
    "3. `Set`: Es una colección desordenada, no indexada y no modificable, pero podemos agregar nuevos elementos al conjunto, no se permiten \n",
    "   elementos duplicados.\n",
    "\n",
    "4. `Diccionario`: Es una colección desordenada, mutable (modificable) e indexada. No hay elementos duplicados.\n",
    " \n",
    "Una lista es una colección de diferentes tipos de datos ordenados y modificables (`mutables`). \n",
    "\n",
    "Una lista puede estar vacía o puede tener diferentes elementos de tipo de datos.\n",
    "\n",
    "---\n",
    "\n",
    "## Cómo crear una lista\n",
    "\n",
    "En Python podemos crear `listas` de dos formas. "
   ]
  },
  {
   "cell_type": "markdown",
   "metadata": {},
   "source": [
    "#### 1. Usando la función incorporada list()\n",
    "\n",
    "*Sintaxis:*"
   ]
  },
  {
   "cell_type": "code",
   "execution_count": null,
   "metadata": {},
   "outputs": [],
   "source": [
    "lista = list()\n",
    "\n",
    "lista_vacia = list()     # Esta es una lista vacía, no hay ningún elemento en la lista\n",
    "\n",
    "print(len(lista_vacia))  # 0"
   ]
  },
  {
   "cell_type": "markdown",
   "metadata": {},
   "source": [
    "#### 2. Usando corchetes, `[ ]`\n",
    "\n",
    "*Sintaxis:*"
   ]
  },
  {
   "cell_type": "code",
   "execution_count": null,
   "metadata": {},
   "outputs": [],
   "source": [
    "lista = []"
   ]
  },
  {
   "cell_type": "markdown",
   "metadata": {},
   "source": [
    "---\n",
    "\n",
    "## Listas con valores iniciales. Usamos `len()` para conocer la longitud de una lista"
   ]
  },
  {
   "cell_type": "code",
   "execution_count": 2,
   "metadata": {},
   "outputs": [],
   "source": [
    "frutas = ['banana', 'naranja', 'mango', 'limon']                          # Lista de frutas\n",
    "vegetales = ['Tomate', 'Patata', 'Col', 'Cebolla', 'Zanahoria']           # Lista de vegetales\n",
    "animal_products = ['leche', 'carne', 'mantequilla', 'yogur']              # Listas de alimentos de origen animal\n",
    "web_techs = ['HTML', 'CSS', 'JS', 'React','Redux', 'Node', 'MongDB']      # Lista de web tecnologicas\n",
    "paises = ['España', 'Estonia', 'Denmark', 'Sweden', 'Norway']             # Lista de ciudades"
   ]
  },
  {
   "cell_type": "markdown",
   "metadata": {},
   "source": [
    "## Imprimir las listas y su longitud\n",
    "\n",
    "*Ejemplo:*"
   ]
  },
  {
   "cell_type": "code",
   "execution_count": null,
   "metadata": {},
   "outputs": [],
   "source": [
    "print('Frutas:', frutas)\n",
    "print('Numero de frutas:', len(frutas))\n",
    "print('vegetales:', vegetales)\n",
    "print('Numero de vegetales:', len(vegetales))\n",
    "print('Productos animales:',animal_products)\n",
    "print('Numero de productos animales:', len(animal_products))\n",
    "print('Web tecnologicas:', web_techs)\n",
    "print('Numero de web tecnologicas:', len(web_techs))\n",
    "print('Ciudades:', paises)\n",
    "print('Numero de ciudades:', len(paises))"
   ]
  },
  {
   "cell_type": "markdown",
   "metadata": {},
   "source": [
    "*Salida:*\n",
    "\n",
    "```text\n",
    "Frutas: ['banana', 'naranja', 'mango', 'limon']\n",
    "Numero de frutas: 4\n",
    "vegetales: ['Tomate', 'Patata', 'Col', 'Cebolla', 'Zanahoria']\n",
    "Numero de vegetales: 5\n",
    "Productos animales: ['leche', 'carne', 'mantequilla', 'yogur']\n",
    "Numero de productos animales: 4\n",
    "Web tecnologicas: ['HTML', 'CSS', 'JS', 'React', 'Redux', 'Node', 'MongDB']\n",
    "Numero de web tecnologicas: 7\n",
    "Paises: ['España', 'Estonia', 'Denmark', 'Sweden', 'Norway']\n",
    "Numero de ciudades: 5\n",
    "\n",
    "```"
   ]
  },
  {
   "cell_type": "markdown",
   "metadata": {},
   "source": [
    "*Las `listas` pueden tener elementos de diferentes tipos de datos.*\n",
    "\n",
    "*Ejemplo:*"
   ]
  },
  {
   "cell_type": "code",
   "execution_count": 1,
   "metadata": {},
   "outputs": [],
   "source": [
    "lista = ['Enrique', 48, True, {'pais': 'España', 'ciudad': 'Cordoba'}]  # Lista que contiene diferentes tipos de datos"
   ]
  },
  {
   "cell_type": "markdown",
   "metadata": {},
   "source": [
    "---\n",
    "\n",
    "## Acceder a los elementos de la lista mediante la indexación positiva\n",
    "\n",
    "Accedemos a cada elemento de una lista utilizando su índice. El `índice` de una lista comienza por `0`."
   ]
  },
  {
   "cell_type": "code",
   "execution_count": null,
   "metadata": {},
   "outputs": [],
   "source": [
    "frutas = ['banana', 'naranja', 'mango', 'limon']\n",
    "primera_fruta = frutas[0] # Estamos accediendo al primer elemento usando su índice\n",
    "print(primera_fruta)      # banana\n",
    "\n",
    "segunda_fruta = frutas[1]\n",
    "print(segunda_fruta)      # naranja\n",
    "\n",
    "ultima_fruta = frutas[3]\n",
    "print(ultima_fruta)       # limon"
   ]
  },
  {
   "cell_type": "markdown",
   "metadata": {},
   "source": [
    "*Salida:*\n",
    "\n",
    "```text\n",
    "banana\n",
    "naranja\n",
    "limon\n",
    "\n",
    "```\n"
   ]
  },
  {
   "cell_type": "markdown",
   "metadata": {},
   "source": [
    "**Ultimo indice**"
   ]
  },
  {
   "cell_type": "code",
   "execution_count": 13,
   "metadata": {},
   "outputs": [],
   "source": [
    "ultimo_indice = len(frutas) - 1\n",
    "ultima_fruta = frutas[ultimo_indice]"
   ]
  },
  {
   "cell_type": "markdown",
   "metadata": {},
   "source": [
    "---\n",
    "\n",
    "## Acceder a los elementos de la lista mediante la indexación negativa\n",
    "\n",
    "La indexación negativa significa comenzar desde el final, `-1` se refiere al último elemento, `-2` se refiere al penúltimo elemento."
   ]
  },
  {
   "cell_type": "code",
   "execution_count": null,
   "metadata": {},
   "outputs": [],
   "source": [
    "frutas = ['banana', 'naranja', 'mango', 'limon']\n",
    "\n",
    "primera_fruta = frutas[-4]\n",
    "ultima_fruta = frutas[-1]\n",
    "penultiima_fruta = frutas[-2]\n",
    "\n",
    "print(primera_fruta)      # banana\n",
    "print(ultima_fruta)       # limon\n",
    "print(penultiima_fruta)   # mango"
   ]
  },
  {
   "cell_type": "markdown",
   "metadata": {},
   "source": [
    "*Salida:*\n",
    "\n",
    "```text\n",
    "banana\n",
    "limon\n",
    "mango\n",
    "\n",
    "```\n"
   ]
  },
  {
   "cell_type": "markdown",
   "metadata": {},
   "source": [
    "---\n",
    "\n",
    "## Desempaquetar elementos de la lista"
   ]
  },
  {
   "cell_type": "code",
   "execution_count": null,
   "metadata": {},
   "outputs": [],
   "source": [
    "lista = ['elemento1','elemento2','elemento3', 'elemento4', 'elemento5']\n",
    "\n",
    "primer_elemento, segundo_elemento, tercer_elemento, *resto = lista\n",
    "\n",
    "print(primer_elemento)     # elemento1\n",
    "print(segundo_elemento)    # elemento2\n",
    "print(tercer_elemento)     # elemento3\n",
    "print(resto)               # ['elemento4', 'elemento5']"
   ]
  },
  {
   "cell_type": "markdown",
   "metadata": {},
   "source": [
    "*Salida:*\n",
    "\n",
    "```text\n",
    "elemento1\n",
    "elemento2\n",
    "elemento3\n",
    "['elemento4', 'elemento5']\n",
    "\n",
    "```\n"
   ]
  },
  {
   "cell_type": "markdown",
   "metadata": {},
   "source": [
    "*Primer ejemplo:*"
   ]
  },
  {
   "cell_type": "code",
   "execution_count": null,
   "metadata": {},
   "outputs": [],
   "source": [
    "frutas = ['banana', 'naranja', 'mango', 'limon', 'lima', 'manzana']\n",
    "\n",
    "primera_fruta, segunda_fruta, tercera_fruta, *resto = frutas\n",
    "\n",
    "print(primera_fruta)     # banana\n",
    "print(segunda_fruta)     # naranja\n",
    "print(tercera_fruta)     # mango\n",
    "print(resto)             # ['limon','lima','manzana']"
   ]
  },
  {
   "cell_type": "markdown",
   "metadata": {},
   "source": [
    "*Salida:*\n",
    "\n",
    "```text\n",
    "banana\n",
    "naranja\n",
    "mango\n",
    "['limon', 'lime', 'apple']\n",
    "\n",
    "```\n"
   ]
  },
  {
   "cell_type": "markdown",
   "metadata": {},
   "source": [
    "*Segundo ejemplo sobre desempaquetar listas:*"
   ]
  },
  {
   "cell_type": "code",
   "execution_count": null,
   "metadata": {},
   "outputs": [],
   "source": [
    "primero, segundo, tercero,*resto, decimo = [1, 2, 3, 4, 5, 6, 7, 8, 9, 10]\n",
    "\n",
    "print(primero)          # 1\n",
    "print(segundo)          # 2\n",
    "print(tercero)          # 3\n",
    "print(resto)            # [4, 5, 6, 7, 8, 9]\n",
    "print(decimo)           # 10"
   ]
  },
  {
   "cell_type": "markdown",
   "metadata": {},
   "source": [
    "*Salida:*\n",
    "\n",
    "```text\n",
    "1\n",
    "2\n",
    "3\n",
    "[4, 5, 6, 7, 8, 9]\n",
    "10\n",
    "\n",
    "```\n"
   ]
  },
  {
   "cell_type": "markdown",
   "metadata": {},
   "source": [
    "*Tercer Ejemplo sobre desempaquetar listas:*"
   ]
  },
  {
   "cell_type": "code",
   "execution_count": null,
   "metadata": {},
   "outputs": [],
   "source": [
    "paises = ['Germany', 'France', 'Belgium', 'Sweden', 'Denmark', 'España', 'Norway', 'Iceland', 'Estonia']\n",
    "\n",
    "gr, fr, bg, sw, *scandic, es = paises\n",
    "\n",
    "print(gr)\n",
    "print(fr)\n",
    "print(bg)\n",
    "print(sw)\n",
    "print(scandic)\n",
    "print(es)"
   ]
  },
  {
   "cell_type": "markdown",
   "metadata": {},
   "source": [
    "*Salida:*\n",
    "\n",
    "```text\n",
    "Germany\n",
    "France\n",
    "Belgium\n",
    "Sweden\n",
    "['Denmark', 'España', 'Norway', 'Iceland']\n",
    "Estonia\n",
    "\n",
    "```\n"
   ]
  },
  {
   "cell_type": "markdown",
   "metadata": {},
   "source": [
    "---\n",
    "\n",
    "## Rebanar elementos de una lista\n",
    "\n",
    "`Indexación positiva:` Podemos especificar un rango de índices positivos especificando el inicio, el final y el paso, el valor de retorno será una nueva lista.\n",
    "\n",
    "(Valores predeterminados para \"`inicio = 0`\",  \"`final = len (lista) - 1 (último elemento)`\",  \"`paso = 1`\")"
   ]
  },
  {
   "cell_type": "code",
   "execution_count": 19,
   "metadata": {},
   "outputs": [],
   "source": [
    "frutas = ['banana', 'naranja', 'mango', 'limon']\n",
    "todas_las_frutas = frutas[0:4]  # Devuelve toda la lista de frutas"
   ]
  },
  {
   "cell_type": "markdown",
   "metadata": {},
   "source": [
    "Esto también dará el mismo resultado que el anterior."
   ]
  },
  {
   "cell_type": "code",
   "execution_count": 20,
   "metadata": {},
   "outputs": [],
   "source": [
    "todas_las_frutas = frutas[0:]      # Si no se establece dónde detenerse, toma todo lo demás\n",
    "naranja_y_mango = frutas[1:3]      # No incluye el primer índice, el inidice [0]\n",
    "naranja_mango_limon = frutas[1:]\n",
    "naranja_y_limon = frutas[::2]      # Aquí utilizamos un tercer argumento, paso. Tomará cada segundo elemento - ['banana', 'mango']"
   ]
  },
  {
   "cell_type": "markdown",
   "metadata": {},
   "source": [
    "`Indexación negativa:` Podemos especificar un rango de índices negativos especificando el inicio, el final y el paso, el valor de \n",
    "retorno será una nueva lista."
   ]
  },
  {
   "cell_type": "code",
   "execution_count": 2,
   "metadata": {},
   "outputs": [],
   "source": [
    "frutas = ['banana', 'naranja', 'mango', 'limon']\n",
    "\n",
    "todas_las_frutas = frutas[-4:]      # Devuelve todas las frutas de la lista\n",
    "naranja_y_mango = frutas[-3:-1]     # Esto no incluye el ultimo elemento,['naranja', 'mango']\n",
    "naranja_mango_limon = frutas[-3:]   # Esto devuelve desde -3 hasta el final,['naranja', 'mango', 'limon']\n",
    "inverso_frutas = frutas[::-1]       # Un paso negativo tomará la lista en orden inverso,['limon', 'mango', 'naranja', 'banana']"
   ]
  },
  {
   "cell_type": "markdown",
   "metadata": {},
   "source": [
    "---\n",
    "\n",
    "## Modificación de listas\n",
    "\n",
    "Las `listas` son una colección ordenada `mutable` o modificable de elementos. Vamos a modificar la lista de frutas."
   ]
  },
  {
   "cell_type": "code",
   "execution_count": null,
   "metadata": {},
   "outputs": [],
   "source": [
    "frutas = ['banana', 'naranja', 'mango', 'limon']\n",
    "\n",
    "frutas[0] = 'aguacate'\n",
    "print(frutas)       #  ['aguacate', 'naranja', 'mango', 'limon']\n",
    "\n",
    "frutas[1] = 'manzana'\n",
    "print(frutas)       #  ['aguacate', 'manzana', 'mango', 'limon']\n",
    "\n",
    "ultimo_indice = len(frutas) - 1\n",
    "frutas[ultimo_indice] = 'lima'\n",
    "print(frutas)       #  ['aguacate', 'manzana', 'mango', 'lima']"
   ]
  },
  {
   "cell_type": "markdown",
   "metadata": {},
   "source": [
    "*Salida:*\n",
    "\n",
    "```text\n",
    "['aguacate', 'naranja', 'mango', 'limon']\n",
    "['aguacate', 'manzana', 'mango', 'limon']\n",
    "['aguacate', 'manzana', 'mango', 'lima']\n",
    "\n",
    "```\n"
   ]
  },
  {
   "cell_type": "markdown",
   "metadata": {},
   "source": [
    "---\n",
    "\n",
    "## Comprobación de elementos en una lista\n",
    "\n",
    "Operador `in`: Comprueba si un elemento es miembro de una lista.\n",
    "\n",
    "*Ejemplo:*"
   ]
  },
  {
   "cell_type": "code",
   "execution_count": null,
   "metadata": {},
   "outputs": [],
   "source": [
    "frutas = ['banana', 'naranja', 'mango', 'limon']\n",
    "existe = 'banana' in frutas\n",
    "print(existe)  # True\n",
    "\n",
    "existe = 'lima' in frutas\n",
    "print(existe)  # False"
   ]
  },
  {
   "cell_type": "markdown",
   "metadata": {},
   "source": [
    "*Salida:*\n",
    "\n",
    "```text\n",
    "True\n",
    "False\n",
    "\n",
    "```\n"
   ]
  },
  {
   "cell_type": "markdown",
   "metadata": {},
   "source": [
    "---\n",
    "\n",
    "## Añadir elementos al final de una lista\n",
    "\n",
    "`append()`: Para agregar un elemento al final de una lista existente.\n",
    "\n",
    "*Sintaxis*:\n",
    "\n",
    "```python\n",
    "lista = list()\n",
    "lista.append(elemento)\n",
    "\n",
    "```\n",
    "\n",
    "*Ejemplo:*"
   ]
  },
  {
   "cell_type": "code",
   "execution_count": null,
   "metadata": {},
   "outputs": [],
   "source": [
    "frutas = ['banana', 'naranja', 'mango', 'limon']\n",
    "\n",
    "frutas.append('manzana')\n",
    "print(frutas)           # ['banana', 'naranja', 'mango', 'limon', 'manzana']\n",
    "\n",
    "frutas.append('lima')   # ['banana', 'naranja', 'mango', 'limon', 'manzana', 'lima']\n",
    "print(frutas)"
   ]
  },
  {
   "cell_type": "markdown",
   "metadata": {},
   "source": [
    "*Salida:*\n",
    "\n",
    "```text\n",
    "['banana', 'naranja', 'mango', 'limon', 'manzana']\n",
    "['banana', 'naranja', 'mango', 'limon', 'manzana', 'lima']\n",
    "\n",
    "```\n",
    "\n"
   ]
  },
  {
   "cell_type": "markdown",
   "metadata": {},
   "source": [
    "---\n",
    "\n",
    "## Insertar elementos en una lista\n",
    "\n",
    "`insert()`: Para insertar un solo elemento en un índice específico en una lista.\n",
    "\n",
    "Tenga en cuenta que otros elementos se desplazan a la derecha. Los métodos `insert()` toman dos argumentos: Indice y un elemento para \n",
    "insertar. \n",
    "\n",
    "*Sintaxis:*\n",
    "\n",
    "```python\n",
    "lista = ['elemento1', 'elemento2']\n",
    "lista.insert(indice, elemento)\n",
    "\n",
    "```\n",
    "\n",
    "*Ejemplo:*"
   ]
  },
  {
   "cell_type": "code",
   "execution_count": null,
   "metadata": {},
   "outputs": [],
   "source": [
    "lista = ['elemento1', 'elemento2']\n",
    "lista.insert(0, 'elemento')\n",
    "print(lista)\n",
    "\n",
    "frutas = ['banana', 'naranja', 'mango', 'limon']\n",
    "frutas.insert(2, 'manzana')   # Insertar manzana entre naranja y mango\n",
    "print(frutas)                 # ['banana', 'naranja', 'manzana', 'mango', 'limon']\n",
    "\n",
    "frutas.insert(3, 'lima')      # Insartar lima entre aple y mango\n",
    "print(frutas)                 # ['banana', 'naranja', 'manzana', 'lima', 'mango', 'limon']"
   ]
  },
  {
   "cell_type": "markdown",
   "metadata": {},
   "source": [
    "*Salida:*\n",
    "\n",
    "```text\n",
    "['elemento', 'elemento1', 'elemento2']\n",
    "['banana', 'naranja', 'manzana', 'mango', 'limon']\n",
    "['banana', 'naranja', 'manzana', 'lima', 'mango', 'limon']\n",
    "\n",
    "```\n"
   ]
  },
  {
   "cell_type": "markdown",
   "metadata": {},
   "source": [
    "---\n",
    "\n",
    "## Eliminación de elementos de una lista\n",
    "\n",
    "`remove()`: Elimina un elemento específico de una lista.\n",
    "\n",
    "*Sintaxis:*\n",
    "\n",
    "```python\n",
    "lista = ['elemento1', 'elemento2']\n",
    "lista.remove(elemento)\n",
    "\n",
    "```\n",
    "\n",
    "\n",
    "*Ejemplo:*"
   ]
  },
  {
   "cell_type": "code",
   "execution_count": null,
   "metadata": {},
   "outputs": [],
   "source": [
    "frutas = ['banana', 'naranja', 'mango', 'limon', 'banana']\n",
    "frutas.remove('banana')\n",
    "print(frutas)  # ['naranja', 'mango', 'limon', 'banana'] - Este método elimina la primera aparición del elemento en la lista\n",
    "\n",
    "frutas.remove('limon')\n",
    "print(frutas)  # ['naranja', 'mango', 'banana']"
   ]
  },
  {
   "cell_type": "markdown",
   "metadata": {},
   "source": [
    "*Salida:*\n",
    "\n",
    "```text\n",
    "['naranja', 'mango', 'limon', 'banana']\n",
    "['naranja', 'mango', 'banana']\n",
    "\n",
    "```\n"
   ]
  },
  {
   "cell_type": "markdown",
   "metadata": {},
   "source": [
    "---\n",
    "\n",
    "## Eliminación de elementos mediante `pop()`\n",
    "\n",
    "`pop()`: Elimina el índice especificado (o el último elemento si no se especifica el índice).\n",
    "\n",
    "*Sintaxis:*\n",
    "\n",
    "```python\n",
    "lista = ['elemento1', 'elemento2']\n",
    "lista.pop()  # Elimina el ultimo elemento\n",
    "lista.pop(indice)\n",
    "\n",
    "```\n",
    "\n",
    "*Ejemplo:*"
   ]
  },
  {
   "cell_type": "code",
   "execution_count": null,
   "metadata": {},
   "outputs": [],
   "source": [
    "frutas = ['banana', 'naranja', 'mango', 'limon']\n",
    "\n",
    "frutas.pop()\n",
    "print(frutas)       # ['banana', 'naranja', 'mango']\n",
    "\n",
    "frutas.pop(0)\n",
    "print(frutas)       # ['naranja', 'mango']"
   ]
  },
  {
   "cell_type": "markdown",
   "metadata": {},
   "source": [
    "*Salida:*\n",
    "\n",
    "```text\n",
    "['banana', 'naranja', 'mango']\n",
    "['naranja', 'mango']\n",
    "```\n",
    "\n"
   ]
  },
  {
   "cell_type": "markdown",
   "metadata": {},
   "source": [
    "\n",
    "---\n",
    "\n",
    "## Eliminación de elementos mediante `del`\n",
    "\n",
    "`del`: La palabra clave `del` elimina el índice especificado y también se puede usar para eliminar elementos dentro del rango del índice. \n",
    "También puede eliminar la lista por completo.\n",
    "\n",
    "*Sintaxis:*\n",
    "\n",
    "```python\n",
    "lista = ['elemento1', 'elemento2']\n",
    "del lista[indice]   # Elimina solo un unico elemento\n",
    "del lista           # Elimina la lista completamente\n",
    "\n",
    "```\n",
    "\n",
    "\n",
    "*Ejemplo:*"
   ]
  },
  {
   "cell_type": "code",
   "execution_count": null,
   "metadata": {},
   "outputs": [],
   "source": [
    "frutas = ['banana', 'naranja', 'mango', 'limon', 'kiwi', 'lima']\n",
    "\n",
    "del frutas[0]\n",
    "print(frutas)       # ['naranja', 'mango', 'limon', 'kiwi', 'lima']\n",
    "\n",
    "del frutas[1]\n",
    "print(frutas)       # ['naranja', 'limon', 'kiwi', 'lima']\n",
    "\n",
    "del frutas[1:3]     # Esto elimina los elementos entre los índices dados, ¡así que no elimina el elemento con el índice 3!\n",
    "print(frutas)       # ['naranja', 'lima']\n",
    "\n",
    "del frutas\n",
    "print(frutas)       # Esto daria: NameError: name 'frutas' is not defined"
   ]
  },
  {
   "cell_type": "markdown",
   "metadata": {},
   "source": [
    "*Salida:*\n",
    "\n",
    "```python\n",
    "['naranja', 'mango', 'limon', 'kiwi', 'lima']\n",
    "['naranja', 'limon', 'kiwi', 'lima']\n",
    "['naranja', 'lima']\n",
    "---------------------------------------------------------------------------\n",
    "NameError                                 Traceback (most recent call last)\n",
    "Cell In[2], line 10\n",
    "      8 print(frutas)       # ['naranja', 'lima']\n",
    "      9 del frutas\n",
    "---> 10 print(frutas)       # Esto daria: NameError: name 'frutas' is not defined\n",
    "\n",
    "NameError: name 'frutas' is not defined\n",
    "\n",
    "```\n"
   ]
  },
  {
   "cell_type": "markdown",
   "metadata": {},
   "source": [
    "---\n",
    "\n",
    "## Vaciar una lista\n",
    "\n",
    "`clear()`: Vacía la lista.\n",
    "\n",
    "*Sintaxis:*\n",
    "\n",
    "```python\n",
    "lista = ['elemento1', 'elemento2']\n",
    "lista.clear()\n",
    "\n",
    "```\n",
    "\n",
    "*Ejemplo:*"
   ]
  },
  {
   "cell_type": "code",
   "execution_count": null,
   "metadata": {},
   "outputs": [],
   "source": [
    "frutas = ['banana', 'naranja', 'mango', 'limon']\n",
    "frutas.clear()\n",
    "\n",
    "print(frutas)  # []"
   ]
  },
  {
   "cell_type": "markdown",
   "metadata": {},
   "source": [
    "*Salida:*\n",
    "\n",
    "```text\n",
    "[]\n",
    "\n",
    "```\n"
   ]
  },
  {
   "cell_type": "markdown",
   "metadata": {},
   "source": [
    "---\n",
    "\n",
    "## Copiar una lista\n",
    "\n",
    "Es posible copiar una lista reasignándola a una nueva variable de la siguiente forma:\n",
    "\n",
    "lista2 = lista1. Ahora, list2 es una referencia de list1, cualquier cambio que hagamos en list2 también modificará el original, \n",
    "list1. Pero hay muchos casos en los que no nos gusta modificar el original sino que nos gusta tener una copia diferente. Una forma de \n",
    "evitar el problema anterior es usar `copy()`.\n",
    "\n",
    "`copy()`\n",
    "\n",
    "*Sintaxis:*\n",
    "\n",
    "```python\n",
    "lista = ['elemento1', 'elemento2']\n",
    "lista_copy = lista.copy()\n",
    "\n",
    "```\n",
    "\n",
    "*Ejemplo:*"
   ]
  },
  {
   "cell_type": "code",
   "execution_count": null,
   "metadata": {},
   "outputs": [],
   "source": [
    "frutas = ['banana', 'naranja', 'mango', 'limon']\n",
    "frutas_copy = frutas.copy()\n",
    "\n",
    "print(frutas_copy)       # ['banana', 'naranja', 'mango', 'limon']"
   ]
  },
  {
   "cell_type": "markdown",
   "metadata": {},
   "source": [
    "*Salida:*\n",
    "\n",
    "```text\n",
    "['banana', 'naranja', 'mango', 'limon']\n",
    "\n",
    "```\n",
    "\n"
   ]
  },
  {
   "cell_type": "markdown",
   "metadata": {},
   "source": [
    "---\n",
    "\n",
    "## Unir listas\n",
    "\n",
    "Hay varias formas de unir o concatenar dos o más listas en Python. Con el operador más (`+`).\n",
    "\n",
    "*Sintaxis:*\n",
    "\n",
    "```python\n",
    "list3 = list1 + list2\n",
    "\n",
    "```\n",
    "\n",
    "*Ejemplo:*"
   ]
  },
  {
   "cell_type": "code",
   "execution_count": null,
   "metadata": {},
   "outputs": [],
   "source": [
    "numeros_positivos = [1, 2, 3, 4, 5]\n",
    "zero = [0]\n",
    "numeros_negativos = [-5, -4, -3, -2, -1]\n",
    "enteros = numeros_negativos + zero + numeros_positivos\n",
    "\n",
    "print(enteros)  # [-5, -4, -3, -2, -1, 0, 1, 2, 3, 4, 5]\n",
    "\n",
    "frutas = ['banana', 'naranja', 'mango', 'limon']\n",
    "vegetales = ['Tomate', 'Patata', 'Col', 'Cebolla', 'Zanahoria']\n",
    "frutas_y_vegetales = frutas + vegetales\n",
    "\n",
    "print(frutas_y_vegetales )  # ['banana', 'naranja', 'mango', 'limon', 'Tomate', 'Patata', 'Col', 'Cebolla', 'Zanahoria']"
   ]
  },
  {
   "cell_type": "markdown",
   "metadata": {},
   "source": [
    "*Salida:*\n",
    "\n",
    "```text\n",
    "[-5, -4, -3, -2, -1, 0, 1, 2, 3, 4, 5]\n",
    "['banana', 'naranja', 'mango', 'limon', 'Tomate', 'Patata', 'Col', 'Cebolla', 'Zanahoria']\n",
    "\n",
    "```\n"
   ]
  },
  {
   "cell_type": "markdown",
   "metadata": {},
   "source": [
    "---\n",
    "\n",
    "## Extender listas\n",
    "\n",
    "*`extend()`*: Permite agregar una lista en una lista.\n",
    "\n",
    "*Sintaxis:*\n",
    "\n",
    "```python\n",
    "list1 = ['elemento1', 'elemento2']\n",
    "list2 = ['elemento3', 'elemento4', 'elemento5']\n",
    "list1.extend(list2)\n",
    "\n",
    "```\n",
    "\n",
    "*Ejemplo:*"
   ]
  },
  {
   "cell_type": "code",
   "execution_count": null,
   "metadata": {},
   "outputs": [],
   "source": [
    "num1 = [0, 1, 2, 3]\n",
    "num2= [4, 5, 6]\n",
    "num1.extend(num2)\n",
    "\n",
    "print('Numero:', num1)  # Numero: [0, 1, 2, 3, 4, 5, 6]\n",
    "\n",
    "numeros_negativos = [-5, -4, -3, -2, -1]\n",
    "numeros_positivos = [1, 2, 3, 4, 5]\n",
    "zero = [0]\n",
    "\n",
    "numeros_negativos.extend(zero)\n",
    "numeros_negativos.extend(numeros_positivos)\n",
    "\n",
    "print('Enteros:', numeros_negativos)  # Enteros: [-5, -4, -3, -2, -1, 0, 1, 2, 3, 4, 5]\n",
    "\n",
    "frutas = ['banana', 'naranja', 'mango', 'limon']\n",
    "vegetales = ['Tomate', 'Patata', 'Col', 'Cebolla', 'Zanahoria']\n",
    "frutas.extend(vegetales)\n",
    "\n",
    "print('frutas y vegetales:', frutas ) \n",
    "# frutas y vegetales: ['banana', 'naranja', 'mango', 'limon', 'Tomate', 'Patata', Col', 'Cebolla', 'Zanahoria']"
   ]
  },
  {
   "cell_type": "markdown",
   "metadata": {},
   "source": [
    "*Salida:*\n",
    "\n",
    "```text\n",
    "Numero: [0, 1, 2, 3, 4, 5, 6]\n",
    "Enteros: [-5, -4, -3, -2, -1, 0, 1, 2, 3, 4, 5]\n",
    "frutas y vegetales: ['banana', 'naranja', 'mango', 'limon', 'Tomate', 'Patata', 'Col', 'Cebolla', 'Zanahoria']\n",
    "\n",
    "```\n"
   ]
  },
  {
   "cell_type": "markdown",
   "metadata": {},
   "source": [
    "---\n",
    "\n",
    "## Contar elementos en una lista\n",
    "\n",
    "*`count()`:* Devuelve el número de veces que aparece un elemento en una lista.\n",
    "\n",
    "*Sintaxis:*\n",
    "\n",
    "```python\n",
    "lista = ['elemento1', 'elemento2']\n",
    "lista.count(elemento)\n",
    "\n",
    "```\n",
    "\n",
    "*Ejemplo:*"
   ]
  },
  {
   "cell_type": "code",
   "execution_count": null,
   "metadata": {},
   "outputs": [],
   "source": [
    "frutas = ['banana', 'naranja', 'mango', 'limon']\n",
    "\n",
    "print(frutas.count('naranja'))   # 1\n",
    "\n",
    "edades = [22, 19, 24, 25, 26, 24, 25, 24]\n",
    "\n",
    "print(edades.count(24))         # 3"
   ]
  },
  {
   "cell_type": "markdown",
   "metadata": {},
   "source": [
    "*Salida:*\n",
    "\n",
    "```text\n",
    "1\n",
    "3\n",
    "\n",
    "```\n",
    "\n"
   ]
  },
  {
   "cell_type": "markdown",
   "metadata": {},
   "source": [
    "---\n",
    "\n",
    "## Encontrar el índice de un artículo\n",
    "\n",
    "*`index():`* Devuelve el índice de un elemento de la lista.\n",
    "\n",
    "*Sintaxis:*\n",
    "\n",
    "```python\n",
    "lista = ['elemento1', 'elemento2']\n",
    "lista.index(elemento)\n",
    "\n",
    "```\n",
    "\n",
    "*Ejemplo:*"
   ]
  },
  {
   "cell_type": "code",
   "execution_count": null,
   "metadata": {},
   "outputs": [],
   "source": [
    "frutas = ['banana', 'naranja', 'mango', 'limon']\n",
    "\n",
    "print(frutas.index('naranja'))       # 1\n",
    "\n",
    "edades = [22, 19, 24, 25, 26, 24, 25, 24]\n",
    "\n",
    "print(edades.index(24))             # 2, la primera ocurrencia"
   ]
  },
  {
   "cell_type": "markdown",
   "metadata": {},
   "source": [
    "*Salida:*\n",
    "\n",
    "```text\n",
    "1\n",
    "2\n",
    "```\n"
   ]
  },
  {
   "cell_type": "markdown",
   "metadata": {},
   "source": [
    "---\n",
    "\n",
    "## Invertir una lista\n",
    "\n",
    "*`reverse()`*: Invierte el orden de una lista.\n",
    "\n",
    "*Sintaxis:*\n",
    "\n",
    "```python\n",
    "lista = ['elemento1', 'elemento2']\n",
    "lista.reverse()\n",
    "\n",
    "```\n",
    "\n",
    "*Ejemplo:*"
   ]
  },
  {
   "cell_type": "code",
   "execution_count": null,
   "metadata": {},
   "outputs": [],
   "source": [
    "frutas = ['banana', 'naranja', 'mango', 'limon']\n",
    "frutas.reverse()\n",
    "\n",
    "print(frutas)  # ['limon', 'mango', 'naranja', 'banana']\n",
    "\n",
    "edades = [22, 19, 24, 25, 26, 24, 25, 24]\n",
    "edades.reverse()\n",
    "\n",
    "print(edades)  # [24, 25, 24, 26, 25, 24, 19, 22]"
   ]
  },
  {
   "cell_type": "markdown",
   "metadata": {},
   "source": [
    "*Salida:*\n",
    "\n",
    "```text\n",
    "['limon', 'mango', 'naranja', 'banana']\n",
    "[24, 25, 24, 26, 25, 24, 19, 22]\n",
    "\n",
    "```\n"
   ]
  },
  {
   "cell_type": "markdown",
   "metadata": {},
   "source": [
    "---\n",
    "\n",
    "## Clasificación de elementos de la lista\n",
    "\n",
    "Para ordenar listas, podemos usar el método `sort()` o las funciones integradas `sorted()`. \n",
    "El método `sort()` reordena los elementos de la lista en orden ascendente y modifica la lista original. \n",
    "Si un argumento del método `sort()` `reverse` es igual a `True`, ordenará la lista en orden descendente.\n",
    "\n",
    "*`sort()`*: Este método modifica la lista original, la ordena.\n",
    "\n",
    "*Sintaxis:*\n",
    "\n",
    "```python\n",
    "lista = ['elemento1', 'elemento2']\n",
    "lista.sort()              # Ascendente\n",
    "lista.sort(reverse=True)  # Descendente\n",
    "\n",
    "```\n",
    "\n",
    "*Ejemplo:*"
   ]
  },
  {
   "cell_type": "code",
   "execution_count": null,
   "metadata": {},
   "outputs": [],
   "source": [
    "frutas = ['banana', 'naranja', 'mango', 'limon']\n",
    "frutas.sort()\n",
    "print(frutas)             # Ordenados en orden alfabético, ['banana', 'limon', 'mango', 'naranja']\n",
    "\n",
    "frutas.sort(reverse=True)\n",
    "print(frutas)             # ['naranja', 'mango', 'limon', 'banana']\n",
    "\n",
    "edades = [22, 19, 24, 25, 26, 24, 25, 24]\n",
    "edades.sort()\n",
    "print(edades)             # [19, 22, 24, 24, 24, 25, 25, 26]\n",
    "\n",
    "edades.sort(reverse=True)\n",
    "print(edades)             # [26, 25, 25, 24, 24, 24, 22, 19]"
   ]
  },
  {
   "cell_type": "markdown",
   "metadata": {},
   "source": [
    "*Salida:*\n",
    "\n",
    "```text\n",
    "['banana', 'limon', 'mango', 'naranja']\n",
    "['naranja', 'mango', 'limon', 'banana']\n",
    "[19, 22, 24, 24, 24, 25, 25, 26]\n",
    "[26, 25, 25, 24, 24, 24, 22, 19]\n",
    "```\n"
   ]
  },
  {
   "cell_type": "markdown",
   "metadata": {},
   "source": [
    "*`sorted()`*: Devuelve la lista ordenada sin modificar la lista original.\n",
    "\n",
    "*Ejemplo:*"
   ]
  },
  {
   "cell_type": "code",
   "execution_count": null,
   "metadata": {},
   "outputs": [],
   "source": [
    "frutas = ['banana', 'naranja', 'mango', 'limon']\n",
    "print(sorted(frutas))  # ['banana', 'limon', 'mango', 'naranja']\n",
    "\n",
    "# Orden inverso\n",
    "frutas = ['banana', 'naranja', 'mango', 'limon']\n",
    "frutas = sorted(frutas, reverse=True)\n",
    "print(frutas)  # ['naranja', 'mango', 'limon', 'banana']"
   ]
  },
  {
   "cell_type": "markdown",
   "metadata": {},
   "source": [
    "*Salida:*\n",
    "\n",
    "```text\n",
    "['banana', 'limon', 'mango', 'naranja']\n",
    "['naranja', 'mango', 'limon', 'banana']\n",
    "```\n"
   ]
  }
 ],
 "metadata": {
  "kernelspec": {
   "display_name": "Python 3",
   "language": "python",
   "name": "python3"
  },
  "language_info": {
   "codemirror_mode": {
    "name": "ipython",
    "version": 3
   },
   "file_extension": ".py",
   "mimetype": "text/x-python",
   "name": "python",
   "nbconvert_exporter": "python",
   "pygments_lexer": "ipython3",
   "version": "3.12.3"
  },
  "orig_nbformat": 4
 },
 "nbformat": 4,
 "nbformat_minor": 2
}
