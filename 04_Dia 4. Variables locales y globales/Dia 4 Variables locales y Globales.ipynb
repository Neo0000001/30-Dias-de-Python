{
 "cells": [
  {
   "cell_type": "markdown",
   "metadata": {},
   "source": [
    "<font size=6 color='red'>30 días de Python: Día 4 - Variables Locales, No Locales y Globales en Python</font>\n",
    "\n",
    "---\n",
    "\n",
    "<span style=\"font-size: 1.5em; color: red\">Variables Locales, No Locales y Globales en Python</span>\n",
    "\n",
    "A veces nos hacemos un pequeño lío con las `variables locales` y las `variables globales`. No \n",
    "sabemos cómo usarlas, cuándo usarlas y, lo que es peor, nuestros programas hacen cosas raras por culpa de ellas. Por si fuera poco, Python \n",
    "introduce además el concepto de `variables no locales`. Te cuento en este artículo todo lo que tienes que saber acerca del ámbito de las variables y \n",
    "de cómo manejarlas en Python para que te quede todo mucho más claro.\n",
    "\n",
    "<p style='text-align: justify'>En Python las variables locales son las que se definen en una función y que solo permiten su \n",
    "acceso desde ella. Las globales se definen en el cuerpo principal del programa y permiten su acceso desde cualquier lugar. Las no locales son \n",
    "variables locales que se pueden modificar en funciones anidadas.</p>\n",
    "\n",
    "<p style='text-align: justify>Te explico a continuación qué es el ámbito de una variable (o scope en inglés), los tipos de \n",
    "ámbitos que hay, los diferentes tipos de variables y los dos errores principales asociados al uso de variables. También te muestro distintos \n",
    "ejemplos de todo esto. Si además de esto quieres ampliar información puedes leer este artículo acerca de las variables de instancia y las \n",
    "variables de clase en Python.</p>\n",
    "\n",
    "<p style='text-align: justify>Para comprender mejor este artículo recuerda que las variables en Python no se declaran. La \n",
    "expresión «definir una variable» toma sentido al entender que las variables se crean cuando se les da valor por primera vez. Durante el artículo \n",
    "asumo que definir una variable hace referencia a este hecho, es decir, a que la variable se crea al darle valor por primera vez.</p>\n",
    "\n",
    "---\n",
    "\n",
    "## Ámbito de una variable\n",
    "\n",
    "El `ámbito` de una variable es el contexto en el que existe esa variable. Así, una variable existe en dicho ámbito a partir del momento \n",
    "en que se crea y deja de existir cuando desaparece su ámbito.\n",
    "\n",
    "Además, las variables son accesibles solo desde su propio ámbito, pero con alguna excepción, como veremos más adelante.\n",
    "\n",
    "*Los principales tipos de ámbitos en Python son dos:*\n",
    "\n",
    "1. __Ámbito local:__ corresponde con el ámbito de una función, que existe desde que se invoca a una función hasta que termina su ejecución. En \n",
    "un programa, el ámbito local corresponde con las líneas de código de una función. Dicho ámbito se crea cada vez que se invoca a la función. Cada \n",
    "función tiene su ámbito local. No se puede acceder a las variables de una función desde fuera de esa función o desde otra función.\n",
    "\n",
    "2. __Ámbito global:__ corresponde con el ámbito que existe desde el comienzo de la ejecución de un programa. Todas las variables \n",
    "definidas fuera de cualquier función corresponden al ámbito global, que es accesible desde cualquier punto del programa, incluidas \n",
    "las funciones. Si desde un módulo A importamos un módulo B mediante un `import`, desde A podremos acceder a las variables globales de B.\n",
    "\n",
    "---\n",
    "\n",
    "## Variables locales\n",
    "\n",
    "<p style='text-align: justify'>En Python las variables locales son aquellas definidas dentro de una función. Solamente son \n",
    "accesibles desde la propia función y dejan de existir cuando esta termina su ejecución. Los parámetros de una función también son considerados \n",
    "como variables locales.</p>\n",
    "\n",
    "<p style='text-align: justify'>Es decir, las variables locales son aquellas de ámbito local. Los parámetros de las funciones \n",
    "también se consideran variables locales, y por tanto su ámbito también es local. La diferencia entre los parámetros de una función y las variables \n",
    "locales definidas dentro de una función radica en que los parámetros nos permiten comunicarnos con la función para introducir valores de entrada a \n",
    "través de ellos.</p>\n",
    "\n",
    "Recuerda que cualquier variable local, incluidos los parámetros, deja de existir en cuanto termina de ejecutarse la función en la que \n",
    "está definida.\n",
    "\n",
    "Desde el cuerpo principal del programa no se puede acceder a las variables locales de ninguna función. Tampoco es posible acceder a \n",
    "las variables locales de una función desde otra.\n",
    "\n",
    "Te muestro un pequeño ejemplo a continuación en donde se trabaja con distintas variables locales:"
   ]
  },
  {
   "cell_type": "code",
   "execution_count": null,
   "metadata": {},
   "outputs": [],
   "source": [
    "def saludar():\n",
    "\tsaludo = '¡Hola!' # Esta variable local pertenece al ámbito local de la función saludar\n",
    "\tprint(saludo)\n",
    "\n",
    "\n",
    "def sumar(sumando1, sumando2):\n",
    "\t# Sumando1, sumando2 y suma son variables locales que corresponden al ámbito local de la función sumar\n",
    "\tsuma = sumando1 + sumando2\n",
    "\n",
    "\treturn suma\n",
    "\n",
    "\n",
    "saludar()\n",
    "print(sumar(4, 5))"
   ]
  },
  {
   "cell_type": "markdown",
   "metadata": {},
   "source": [
    "*Salida:*\n",
    "\n",
    "```text\n",
    "¡Hola!\n",
    "9\n",
    "\n",
    "```\n",
    "\n"
   ]
  },
  {
   "cell_type": "markdown",
   "metadata": {},
   "source": [
    "<p style='text-align: justify'>En el ejemplo anterior se definen dos funciones, cada una de las cuales posee su ámbito \n",
    "local. Las variables y parámetros definidos dentro de cada una de ellas son solo accesibles desde su ámbito. Es decir, no podremos acceder a la \n",
    "variable saludo desde la función suma o a la variable sumando1 desde el cuerpo principal del programa.</p>\n",
    "\n",
    "---\n",
    "\n",
    "## El error NameError\n",
    "\n",
    "Si intentamos acceder al valor de una variable local desde el cuerpo principal del programa o, en general, a una variable que no ha \n",
    "sido definida obtendremos un error típico de Python: NameError.\n",
    "\n",
    "*Ejemplo:*"
   ]
  },
  {
   "cell_type": "code",
   "execution_count": null,
   "metadata": {},
   "outputs": [],
   "source": [
    "def saludar():\n",
    "\tsaludo = '¡Hola!' \n",
    "\tprint(saludo)\n",
    "\n",
    "\n",
    "saludar()\n",
    "print(saludo)"
   ]
  },
  {
   "cell_type": "markdown",
   "metadata": {},
   "source": [
    "Al ejecutar el código anterior se nos mostrará el saludo por pantalla debido a la llamada a la función saludar. Después, al intentar mostrar el valor de la variable saludo desde el cuerpo principal del programa, Python nos «obsequiará» con el mensaje `NameError: name 'saludo' is not defined`.\n",
    "\n",
    "*Salida:*\n",
    "\n",
    "```python\n",
    "¡Hola!\n",
    "---------------------------------------------------------------------------\n",
    "NameError                                 Traceback (most recent call last)\n",
    "Cell In[1], line 6\n",
    "      3 \tprint(saludo)\n",
    "      5 saludar()\n",
    "----> 6 print(saludo)\n",
    "\n",
    "NameError: name 'saludo' is not defined\n",
    "\n",
    "```\n",
    "\n",
    "---\n",
    "\n",
    "## Variables globales\n",
    "\n",
    "<p style='text-align: justify'>Las variables globales en Python son aquellas definidas en el cuerpo principal del programa \n",
    "fuera de cualquier función. Son accesibles desde cualquier punto del programa, incluso desde dentro de funciones. También se puede acceder a las \n",
    "variables globales de otros programas o módulos importados.</p>\n",
    "\n",
    "<p style='text-align: justify'>Por esto decimos que las variables globales son aquellas de ámbito global. Te enseño un \n",
    "ejemplo donde se puede observar cómo se permite el acceso a las variables globales desde dentro de una función:</p>"
   ]
  },
  {
   "cell_type": "code",
   "execution_count": null,
   "metadata": {},
   "outputs": [],
   "source": [
    "def saludar():\n",
    "\tprint(saludo)\n",
    "\n",
    "\n",
    "saludo = '¡Hola, Mundo!' # Variable global definida en el cuerpo principal del programa\n",
    "saludar()"
   ]
  },
  {
   "cell_type": "markdown",
   "metadata": {},
   "source": [
    "*Salida:*\n",
    "\n",
    "```text\n",
    "¡Hola, Mundo!\n",
    "```\n"
   ]
  },
  {
   "cell_type": "markdown",
   "metadata": {},
   "source": [
    "<p style='text-align: justify;  '>Si ejecutas el código anterior comprobarás como la función saludar imprime por pantalla el \n",
    "contenido de la variable saludo. Fíjate que esto es así aunque la variable saludo se defina y tome valor después de la definición de la función, \n",
    "como es el caso, pues en el momento de ejecutarse dicha función la variable ya existe en el ámbito global.</p>\n",
    "\n",
    "---\n",
    "\n",
    "## Accediendo a una variable global de otro módulo\n",
    "\n",
    "Si en un módulo o programa determinado hay definida alguna variable global podremos acceder a ella importando dicho módulo. Te lo reflejo en un \n",
    "ejemplo muy sencillo:"
   ]
  },
  {
   "cell_type": "code",
   "execution_count": null,
   "metadata": {},
   "outputs": [],
   "source": [
    "# modulo.py\n",
    "saludo = '¡Hola, Mundo!'"
   ]
  },
  {
   "cell_type": "markdown",
   "metadata": {},
   "source": [
    "Ese será nuestro módulo que tiene una única variable global. Ahora creamos un programa desde el que importaremos el módulo modulo.py. \n",
    "De esa manera podremos usar la variable global saludo:"
   ]
  },
  {
   "cell_type": "code",
   "execution_count": null,
   "metadata": {},
   "outputs": [],
   "source": [
    "from modulo import saludo # Importamos la variable saludo de modulo\n",
    "\n",
    "\n",
    "def saludar():\n",
    "\tprint(saludo)\n",
    "\n",
    "\n",
    "saludar()"
   ]
  },
  {
   "cell_type": "markdown",
   "metadata": {},
   "source": [
    "Fíjate que en el código inmediatamente anterior no hay definida ninguna variable llamada saludo pero sí la estamos importando en \n",
    "la línea 1 y por tanto podremos usarla, por ejemplo, dentro de la función saludar. Al ejecutar este programa obtendremos el siguiente \n",
    "resultado por pantalla:\n",
    "\n",
    "```text\n",
    "¡Hola, Mundo!\n",
    "\n",
    "```\n"
   ]
  },
  {
   "cell_type": "markdown",
   "metadata": {},
   "source": [
    "---\n",
    "\n",
    "## Cómo modificar una variable global desde una función\n",
    "\n",
    "Las variables globales se pueden leer, como ya he dicho, desde cualquier línea del programa simplemente haciendo referencia a ellas a \n",
    "través de su nombre. Pero ¿qué pasa si intentamos modificar una variable global desde dentro de una función?\n",
    "\n",
    "*Ejemplo:*"
   ]
  },
  {
   "cell_type": "code",
   "execution_count": null,
   "metadata": {},
   "outputs": [],
   "source": [
    "contador = 10\n",
    "\n",
    "\n",
    "def reiniciar_contador():\n",
    "\tcontador = 0\n",
    "\n",
    "\n",
    "print(f'Contador antes es {contador}')\n",
    "reiniciar_contador()\n",
    "print(f'Contador después es {contador}')"
   ]
  },
  {
   "cell_type": "markdown",
   "metadata": {},
   "source": [
    "En el ejemplo anterior tenemos una variable global contador que en un caso real nos serviría para contar cualquier cosa. También \n",
    "disponemos de una función que nos permite reiniciar el contador cuando queramos. Al ejecutar el código lo esperable sería obtener \n",
    "por pantalla los valores 10 y 0, pero en su lugar tenemos lo siguiente:\n",
    "\n",
    "```text\n",
    "Contador antes es 10\n",
    "Contador después es 10\n",
    "```\n",
    "\n",
    "\n",
    "Esto sucede así no por capricho, sino porque es un mecanismo de protección para evitar modificar sin querer una variable global que \n",
    "posiblemente terminaría alterando el funcionamiento normal de un programa.\n",
    "\n",
    "Otra cosa que sucede al hacer lo anterior es que la línea contador = 0 ha creado una variable local en el ámbito local de la función \n",
    "reiniciar_contador que se llama exactamente igual que la variable global y a la que ha dado el valor 0.\n",
    "\n",
    "Para ganar acceso de modificación es necesario utilizar el modificador global. Con esta declaración le estamos diciendo a Python que \n",
    "sabemos que vamos a utilizar una variable global y que queremos modificarla. Veamos el ejemplo corregido y su ejecución:"
   ]
  },
  {
   "cell_type": "code",
   "execution_count": null,
   "metadata": {},
   "outputs": [],
   "source": [
    "contador = 10\n",
    "\n",
    "\n",
    "def reiniciar_contador():\n",
    "\tglobal contador\n",
    "\tcontador = 0\n",
    "\n",
    "\n",
    "print(f'Contador antes es {contador}')\n",
    "reiniciar_contador()\n",
    "print(f'Contador después es {contador}')\n",
    "\n",
    "# Contador antes es 10\n",
    "# Contador después es 0"
   ]
  },
  {
   "cell_type": "markdown",
   "metadata": {},
   "source": [
    "*Salida:*\n",
    "\n",
    "```text\n",
    "Contador antes es 10\n",
    "Contador después es 0\n",
    "\n",
    "```\n"
   ]
  },
  {
   "cell_type": "markdown",
   "metadata": {},
   "source": [
    "Ahora sí, gracias al modificador, hemos logrado el comportamiento que queríamos.\n",
    "\n",
    "---\n",
    "\n",
    "## Variable local con el mismo nombre que una variable global\n",
    "\n",
    "A veces puede suceder, como vimos anteriormente, que dentro de una función existe una variable local con el mismo nombre que una \n",
    "variable global, es decir, sus nombres entran en conflicto.\n",
    "\n",
    "Tienes que saber que cuando hacemos referencia a una variable Python busca primero en el ámbito local actual para ver si encuentra \n",
    "dicha variable y si no, la busca en el ámbito global. Es decir, en cierta forma, el ámbito local tiene preferencia sobre el global. \n",
    "Se puede decir que la variable local le hace sombra a la variable global.\n",
    "\n",
    "Veamos un ejemplo:"
   ]
  },
  {
   "cell_type": "code",
   "execution_count": null,
   "metadata": {},
   "outputs": [],
   "source": [
    "valor = 10\n",
    "\n",
    "\n",
    "def funcion():\n",
    "\tvalor = 20\n",
    "\tprint(f'Valor en función es {valor}')\n",
    "\n",
    "\n",
    "funcion()\n",
    "print(f'Valor en cuerpo principal es {valor}')"
   ]
  },
  {
   "cell_type": "markdown",
   "metadata": {},
   "source": [
    "Si te fijas verás que en la función funcion se define una variable valor que toma el valor 20. No obstante ya existe una variable global llamada de la misma manera con valor 10. Al ejecutar el código se obtiene lo siguiente:\n",
    "\n",
    "```text\n",
    "Valor en función es 20\n",
    "Valor en cuerpo principal es 10\n",
    "```\n",
    "\n",
    "\n",
    "Con esto queda de manifiesto que al hacer referencia a la variable valor desde dentro de la función se accede a la variable local, es decir, se da preferencia al ámbito local."
   ]
  },
  {
   "cell_type": "markdown",
   "metadata": {},
   "source": [
    "---\n",
    "\n",
    "## El error UnboundLocalError\n",
    "\n",
    "A veces nos salta en un programa el error UnboundLocalError que nos puede volver un poco locos porque puede ser algo difícil de \n",
    "entender, pero te lo voy a aclarar.\n",
    "\n",
    "La excepción UnboundLocalError en Python se lanza cuando se hace referencia a una variable local dentro de una función pero esa \n",
    "variable todavía no tiene valor.\n",
    "\n",
    "Esto está muy relacionado con el error NameError, que ya vimos, de hecho deriva de él, y con el caso en que tenemos variables locales \n",
    "con el mismo nombre que variables globales.\n",
    "\n",
    "Veamos un ejemplo sencillo en donde sucede:"
   ]
  },
  {
   "cell_type": "code",
   "execution_count": null,
   "metadata": {},
   "outputs": [],
   "source": [
    "valor = 10\n",
    "\n",
    "\n",
    "def funcion_con_error():\n",
    "\tprint(f'Valor antes es es {valor}')\n",
    "\tvalor = 20\n",
    "\tprint(f'Valor desués es es {valor}')\n",
    "\n",
    "\n",
    "funcion_con_error()"
   ]
  },
  {
   "cell_type": "markdown",
   "metadata": {},
   "source": [
    "En este ejemplo tenemos una variable global con valor 10 y una función en la que se intenta poner a 20 dicha variable. Al ejecutar \n",
    "este código la ejecución del programa se detiene con el siguiente mensaje: UnboundLocalError: local variable 'valor' referenced \n",
    "before assignment. Se puede traducir como «se hace referencia a la variable local ‘valor’ antes de su asignación».\n",
    "\n",
    "¿Qué está pasando? Lo que ha sucedido ahí es lo siguiente. El compilador de Python al ejecutar la función crea el ámbito local para \n",
    "la misma. No obstante, antes de ejecutar ninguna línea comprueba que la variable valor se va a definir como variable local pues hay \n",
    "una asignación en el código. Como previamente se intenta mostrar por pantalla el valor de dicha variable, que Python entiende que es \n",
    "local, al no tener valor todavía el programa se detendrá mostrando el error.\n",
    "\n",
    "Para evitar este error tenemos que tener muy claro lo que queremos hacer, que pueden ser dos cosas:\n",
    "\n",
    "Si pretendemos modificar el valor de la variable global valor ya sabes lo que tienes que hacer, que es usar el modificador global \n",
    "incluyendo la línea global valor al comienzo de la función.\n",
    "\n",
    "Si lo que queremos es una variable local que no tenga nada que ver con la variable global la mejor opción es utilizar un nombre de \n",
    "variable diferente para eliminar el conflicto.\n",
    "\n",
    "*Recomendación:*\n",
    "\n",
    "En general es mejor no utilizar variables globales. Normalmente son totalmente evitables y nos ahorramos muchos problemas y \n",
    "quebraderos de cabeza. Si necesitas que las funciones accedan a valores externos, ya sea para lectura o escritura, utiliza los \n",
    "parámetros de las funciones y su mecanismo de devolución de valores return.\n",
    "\n",
    "---\n",
    "\n",
    "## Variables no locales\n",
    "\n",
    "A pesar de lo que se lee, se explica y se cree por ahí, las variables no locales no existen en Python. En realidad son un mecanismo \n",
    "que nos permite hacer acceso de escritura de una variable local desde dentro de otra función definida en el mismo ámbito, es decir, \n",
    "desde una función anidada. Pero vayamos por partes.\n",
    "\n",
    "Una función anidada en Python es una función A que se define dentro de otra función P y que solo puede ser utilizada desde la función \n",
    "P.\n",
    "\n",
    "Si definimos una variable local dentro de la función P podremos acceder a ella desde la función anidada A, pero solo para leerla. Si \n",
    "queremos modificar su valor tendremos que utilizar el modificador `nonlocal`. Sucede exactamente lo mismo cuando queremos modificar una \n",
    "variable global desde dentro de una función.\n",
    "\n",
    "Cuidado, el modificador nonlocal no existe en Python 2, es exclusivo de Python 3 (otro buen motivo para actualizarte si todavía no lo \n",
    "has hecho).\n",
    "\n",
    "Dicho con otras palabras, una variable local actúa como variable global para las funciones anidadas dentro de su mismo contexto.\n",
    "\n",
    "Te lo aclaro con ejemplos:"
   ]
  },
  {
   "cell_type": "code",
   "execution_count": null,
   "metadata": {},
   "outputs": [],
   "source": [
    "def funcion_padre():\n",
    "\tvalor = 10\n",
    "\n",
    "\tdef funcion_anidada():\n",
    "\t\tvalor = 20\n",
    "\t\tprint(f'Valor en función anidada es {valor}')\n",
    "\n",
    "\tprint(f'Valor en función padre antes es {valor}')\n",
    "\tfuncion_anidada()\n",
    "\tprint(f'Valor en función padre después es {valor}')\n",
    "\n",
    "\n",
    "funcion_padre()"
   ]
  },
  {
   "cell_type": "markdown",
   "metadata": {},
   "source": [
    "Al ejecutar el código anterior obtenemos el siguiente resultado por pantalla:\n",
    "\n",
    "```text\n",
    "Valor en función padre antes es 10\n",
    "Valor en función anidada es 20\n",
    "Valor en función padre después es 10\n",
    "```\n",
    "\n",
    "Lo que sucede en la función anidada es que al asignar 20 a la variable valor se crea una variable local en el ámbito local de la \n",
    "función funcion_anidada y, por tanto, la variable local valor del ámbito de la función funcion_padre permanece inalterada.\n",
    "\n",
    "Como sucedía en el caso de querer modificar una variable global y de manera análoga, podemos modificar la variable si utilizamos el \n",
    "modificador nonlocal de la siguiente manera:"
   ]
  },
  {
   "cell_type": "code",
   "execution_count": null,
   "metadata": {},
   "outputs": [],
   "source": [
    "def funcion_padre():\n",
    "\tvalor = 10\n",
    "\n",
    "\tdef funcion_anidada():\n",
    "\t\tnonlocal valor\n",
    "\t\tvalor = 20\n",
    "\t\tprint(f'Valor en función anidada es {valor}')\n",
    "\n",
    "\tprint(f'Valor en función padre antes es {valor}')\n",
    "\tfuncion_anidada()\n",
    "\tprint(f'Valor en función padre después es {valor}')\n",
    "\n",
    "\n",
    "funcion_padre()"
   ]
  },
  {
   "cell_type": "markdown",
   "metadata": {},
   "source": [
    "Con esto obtenemos el siguiente resultado por pantalla:\n",
    "\n",
    "```text\n",
    "Valor en función padre antes es 10\n",
    "Valor en función anidada es 20\n",
    "Valor en función padre después es 20\n",
    "```\n"
   ]
  },
  {
   "cell_type": "markdown",
   "metadata": {},
   "source": [
    "---\n",
    "\n",
    "## Función globals() y función locals()\n",
    "\n",
    "Para ir concluyendo este artículo te diré que en Python existen dos funciones que tienen mucho que ver con el registro y el acceso a \n",
    "las diferentes variables globales y locales en cada ámbito.\n",
    "\n",
    "En Python la función `globals()` devuelve el diccionario que contiene todas las variables del ámbito global actual. Se puede usar este \n",
    "diccionario para acceder al valor de dichas variables y modificarlo.\n",
    "\n",
    "La función `locals()` en Python devuelve un diccionario que contiene todas las variables del ámbito local actual. Se puede utilizar \n",
    "para acceder al valor de las variables locales pero no para modificarlas, pues es un diccionario de solo lectura.\n",
    "\n",
    "Veamos algunos ejemplos de acceso y modificación de variables utilizando las citadas funciones, teniendo en cuenta que el valor de \n",
    "cada variable está almacenada en el diccionario indexado por el nombre de la propia variable."
   ]
  },
  {
   "cell_type": "code",
   "execution_count": null,
   "metadata": {},
   "outputs": [],
   "source": [
    "valor = 10\n",
    "\n",
    "\n",
    "def funcion():\n",
    "\tvalor = 20\n",
    "\tprint(f'La variable local valor es {locals()[\"valor\"]}')\n",
    "\tprint(f'La variable global valor es {globals()[\"valor\"]}')\n",
    "\n",
    "\n",
    "funcion()\n",
    "globals()['valor'] = 30 # Modificamos el valor de la variable a través del diccionario\n",
    "print(f'La variable global valor es ahora {valor}')"
   ]
  },
  {
   "cell_type": "markdown",
   "metadata": {},
   "source": [
    "Este código genera el siguiente resultado:\n",
    "\n",
    "```text\n",
    "La variable local valor es 20\n",
    "La variable global valor es 10\n",
    "La variable global valor es ahora 30\n",
    "```\n",
    "\n",
    "\n",
    "Si te paras a pensarlo te darás cuenta de que esto resuelve uno de los problemas expuestos más arriba. ¿Eres capaz de verlo?\n"
   ]
  }
 ],
 "metadata": {
  "kernelspec": {
   "display_name": "Python 3",
   "language": "python",
   "name": "python3"
  },
  "language_info": {
   "codemirror_mode": {
    "name": "ipython",
    "version": 3
   },
   "file_extension": ".py",
   "mimetype": "text/x-python",
   "name": "python",
   "nbconvert_exporter": "python",
   "pygments_lexer": "ipython3",
   "version": "3.11.8"
  },
  "orig_nbformat": 4
 },
 "nbformat": 4,
 "nbformat_minor": 2
}
