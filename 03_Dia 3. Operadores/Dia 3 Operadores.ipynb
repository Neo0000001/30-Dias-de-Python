{
 "cells": [
  {
   "cell_type": "markdown",
   "metadata": {},
   "source": [
    "<font size=6 color='red'>30 días de Python: Día 3 - Operadores</font>\n",
    "\n",
    "---\n",
    "\n",
    "<span style=\"font-size: 1.5em; color: red\">Operadores en Python</span>\n",
    "\n",
    "Los `operadores` en Python son símbolos que indican al intérprete que realice una operación específica, como `aritmética`, `comparación`, `lógica`, `asignación`, `identidad`, `permanencia`.\n",
    "\n",
    "#### Booleano\n",
    "\n",
    "Un tipo de datos booleano representa uno de los dos valores: `True` o `False`. El uso de estos tipos de datos \n",
    "quedará claro una vez que comencemos a usar el operador de comparación. La primera letra T (`True`) para Verdadero y F (`False`) para Falso debe ser mayúscula a diferencia de JavaScript.\n",
    "\n",
    "#### Valores booleanos\n",
    "\n",
    "*Ejemplo:*"
   ]
  },
  {
   "cell_type": "code",
   "execution_count": null,
   "metadata": {},
   "outputs": [],
   "source": [
    "print(True)\n",
    "print(False)"
   ]
  },
  {
   "cell_type": "markdown",
   "metadata": {},
   "source": [
    "---\n",
    "\n",
    "<span style=\"font-size: 2em; color: red\">Operadores mas comunes</span>\n",
    "\n",
    "El lenguaje Python admite varios tipos de operadores. En esta sección, nos centraremos en algunos de ellos.\n",
    "\n",
    "---\n",
    "\n",
    "## Operadores de asignación\n",
    "\n",
    "Los operadores de asignación se utilizan para asignar valores a las variables. Tomemos `=` como ejemplo. El signo igual en matemáticas muestra que \n",
    "dos valores son iguales, sin embargo, en Python significa que estamos almacenando un valor en una determinada variable y lo llamamos asignación o \n",
    "asignación de valor a una variable. La siguiente tabla muestra los diferentes tipos de operadores de asignación de Python, tomados \n",
    "de:\n",
    "\n",
    " https://www.w3schools.com/python/python_operators.asp\n",
    "\n",
    "\n",
    "<img src='Imagenes/imagen-1.png' ancho=700>\n",
    "\n",
    "---\n",
    "\n",
    "## Operadores aritméticos\n",
    "\n",
    "Estos operadores se utilizan para realizar operaciones matemáticas básicas.\n",
    "\n",
    "\n",
    "```text\n",
    "* Suma (+): a + b\n",
    "* Resta(-): a - b\n",
    "* Multiplicación(*): a * b\n",
    "* División(/): a / b\n",
    "* Módulo (%): a % b\n",
    "* División de piso(//): a // b\n",
    "* Exponenciación(**): a**b\n",
    "```\n",
    "\n",
    "<img src='Imagenes/imagen-2.png' ancho=700>\n",
    "\n",
    "---\n",
    "\n",
    "## Enteros (Integers)\n",
    "\n",
    "*Ejemplo de operaciones aritméticas en Python con enteros:*"
   ]
  },
  {
   "cell_type": "code",
   "execution_count": null,
   "metadata": {},
   "outputs": [],
   "source": [
    "print('Suma: ', 1 + 2)                      # 3\n",
    "print('Resta: ', 2 - 1)                     # 1\n",
    "print('Multiplicacion: ', 2 * 3)            # 6\n",
    "print('Division: ', 4 / 2)                  # 2.0 (La división en Python da un número flotante)\n",
    "print('Division: ', 6 / 2)                  # 3.0\n",
    "print('Division: ', 7 / 2)                  # 3.5\n",
    "print('División sin el resto: ', 7 // 2)    # 3 (Da sin el número flotante o sin el resto)\n",
    "print('Division sin el resto: ', 7 // 3)    # 2\n",
    "print('Modulo: ', 3 % 2)                    # 1 (Da el resto)\n",
    "print('Exponenciacion: ', 2**3)             # 8 (es lo mismo 2 * 2 * 2)"
   ]
  },
  {
   "cell_type": "markdown",
   "metadata": {},
   "source": [
    "---\n",
    "\n",
    "## Números flotantes (float)\n",
    "\n",
    "*Ejemplo:*"
   ]
  },
  {
   "cell_type": "code",
   "execution_count": null,
   "metadata": {},
   "outputs": [],
   "source": [
    "print('Floating Point Number, PI', 3.14)\n",
    "print('Floating Point Number, gravedad', 9.81)"
   ]
  },
  {
   "cell_type": "markdown",
   "metadata": {},
   "source": [
    "---\n",
    "\n",
    "## Numeros complejos (Complex)\n",
    "\n",
    "*Ejemplo:*"
   ]
  },
  {
   "cell_type": "code",
   "execution_count": null,
   "metadata": {},
   "outputs": [],
   "source": [
    "print('Numero complejo: ', 1 + 1j)\n",
    "print('Multiples numeros complejos: ', (1 + 1j) * (1 - 1j))"
   ]
  },
  {
   "cell_type": "markdown",
   "metadata": {},
   "source": [
    "Declaremos una variable y asignemos un tipo de dato numérico. Voy a usar una variable de un solo carácter, pero recuerde que no desarrolle el \n",
    "hábito de declarar este tipo de variables. Los nombres de las variables deben ser siempre mnemotécnicos.\n",
    "\n",
    "*Ejemplo:*"
   ]
  },
  {
   "cell_type": "code",
   "execution_count": null,
   "metadata": {},
   "outputs": [],
   "source": [
    "# Primero se declaran las variables en la parte superior del codigo\n",
    "\n",
    "a = 3  # a es el nombre de la variable y 3 es un dato de tipo entero\n",
    "b = 2  # b es el nombre de la variable y 2 es un dato de tipo enteno\n",
    "\n",
    "# Con las variables declaradas antes arriba, se realiza una operacion aritmetica asignando el resultado a otra variable.\n",
    "\n",
    "suma = a + b\n",
    "resta = a - b\n",
    "multiplicacion = a * b\n",
    "division = a / b\n",
    "resto = a % b\n",
    "division_del_piso = a // b\n",
    "exponencial = a**b\n",
    "\n",
    "# No se debe usar la variable sum, ya que es una palabra reservada, en su lugar usamos suma.\n",
    "\n",
    "print(suma)  # Si no etiqueta su impresión con algun string, nunca sabrá de dónde viene el resultado\n",
    "print('a + b = ', suma)\n",
    "print('a - b = ', resta)\n",
    "print('a * b = ', multiplicacion)\n",
    "print('a / b = ', division)\n",
    "print('a % b = ', resto)\n",
    "print('a // b = ', division_del_piso)\n",
    "print('a**b = ', exponencial)"
   ]
  },
  {
   "cell_type": "markdown",
   "metadata": {},
   "source": [
    "*Ejemplo:*"
   ]
  },
  {
   "cell_type": "code",
   "execution_count": null,
   "metadata": {},
   "outputs": [],
   "source": [
    "print('== suma, resta, Multiplicacion, Division, Modulo ==')"
   ]
  },
  {
   "cell_type": "markdown",
   "metadata": {},
   "source": [
    "---\n",
    "\n",
    "## Declarando valores\n",
    "\n",
    "```python\n",
    "numero_uno = 3\n",
    "numero_dos = 4"
   ]
  },
  {
   "cell_type": "markdown",
   "metadata": {},
   "source": [
    "---\n",
    "\n",
    "## Realizando operaciones aritmeticas"
   ]
  },
  {
   "cell_type": "code",
   "execution_count": null,
   "metadata": {},
   "outputs": [],
   "source": [
    "numero_uno = 3\n",
    "numero_dos = 4\n",
    "\n",
    "suma = numero_uno + numero_dos\n",
    "resta = numero_dos - numero_uno\n",
    "producto = numero_uno * numero_dos\n",
    "division = numero_dos / numero_uno\n",
    "resto = numero_dos % numero_uno"
   ]
  },
  {
   "cell_type": "markdown",
   "metadata": {},
   "source": [
    "---\n",
    "\n",
    "## Imprimiendo por pantalla los resultados"
   ]
  },
  {
   "cell_type": "code",
   "execution_count": null,
   "metadata": {},
   "outputs": [],
   "source": [
    "print('suma: ', suma)\n",
    "print('resta: ', resta)\n",
    "print('multiplicacion: ', multiplicacion)\n",
    "print('division: ', division)\n",
    "print('resto: ', resto)"
   ]
  },
  {
   "cell_type": "markdown",
   "metadata": {},
   "source": [
    "Empecemos a conectar los puntos y empecemos a hacer uso de lo que ya sabemos para calcular (área, volumen, densidad, peso, perímetro, distancia, \n",
    "fuerza).\n",
    "\n",
    "*Ejemplo:*\n",
    "\n",
    "---\n",
    "\n",
    "## Calculando el area de un circulo"
   ]
  },
  {
   "cell_type": "code",
   "execution_count": null,
   "metadata": {},
   "outputs": [],
   "source": [
    "radio = 10  # Radio del circulo\n",
    "# Dos signos * significan exponente o potencia\n",
    "area_del_circulo = 3.14 * radio**2\n",
    "print('Area del circulo:', area_del_circulo)"
   ]
  },
  {
   "cell_type": "markdown",
   "metadata": {},
   "source": [
    "## Calculando el area de un rectangulo"
   ]
  },
  {
   "cell_type": "code",
   "execution_count": null,
   "metadata": {},
   "outputs": [],
   "source": [
    "largo = 10\n",
    "ancho = 20\n",
    "area_del_rectangulo = largo * ancho\n",
    "\n",
    "print('Area del rectangulo:', area_del_rectangulo)"
   ]
  },
  {
   "cell_type": "markdown",
   "metadata": {},
   "source": [
    "## Cálculo del peso de un objeto"
   ]
  },
  {
   "cell_type": "code",
   "execution_count": null,
   "metadata": {},
   "outputs": [],
   "source": [
    "masa = 75\n",
    "gravedad = 9.81\n",
    "peso = masa * gravedad\n",
    "\n",
    "print(peso, 'Kg')  # Agregar unidad al peso"
   ]
  },
  {
   "cell_type": "markdown",
   "metadata": {},
   "source": [
    "## Calcular la densidad de un liquido"
   ]
  },
  {
   "cell_type": "code",
   "execution_count": null,
   "metadata": {},
   "outputs": [],
   "source": [
    "masa = 75                  # En Kg\n",
    "volumen = 0.075            # En metros cubicos\n",
    "densidad = masa / volumen  # 1000 Kg/m^3\n",
    "\n",
    "print(densidad)"
   ]
  },
  {
   "cell_type": "markdown",
   "metadata": {},
   "source": [
    "---\n",
    "\n",
    "## Operadores de comparación\n",
    "\n",
    "Estos operadores se utilizan para comparar valores y devuelven un resultado booleano (Verdadero o Falso). En programación comparamos valores, usamos operadores de comparación para comparar dos valores. Comprobamos si un valor es mayor o menor o igual a otro valor. La siguiente tabla muestra los operadores de comparación de Python que se tomaron de:\n",
    "\n",
    "https://www.w3schools.com/python/python_operators.asp\n",
    "\n",
    "<img src='Imagenes/imagen-3.png' ancho=700>\n",
    "\n",
    "*Ejemplo:*"
   ]
  },
  {
   "cell_type": "code",
   "execution_count": null,
   "metadata": {},
   "outputs": [],
   "source": [
    "print(3 > 2)     # True, porque 3 es mayor que 2\n",
    "print(3 >= 2)    # True, porque 3 es mayor que 2\n",
    "print(3 < 2)     # False, porque 3 es mayor que 2\n",
    "print(2 < 3)     # True, porque 2 es menor que 3\n",
    "print(2 <= 3)    # True, porque 2 es menor que 3\n",
    "print(3 == 2)    # False, porque 3 no es igual a 2\n",
    "print(3 != 2)    # True, porque 3 no es igual a 2\n",
    "\n",
    "print(len('mango') == len('avocado'))  # False\n",
    "print(len('mango') != len('avocado'))  # True\n",
    "print(len('mango') < len('avocado'))   # True\n",
    "print(len('milk') != len('meat'))      # False\n",
    "print(len('milk') == len('meat'))      # True\n",
    "print(len('tomato') == len('potato'))  # True\n",
    "print(len('python') > len('dragon'))   # False"
   ]
  },
  {
   "cell_type": "markdown",
   "metadata": {},
   "source": [
    "*Comparar algo da un Verdadero o Falso.*"
   ]
  },
  {
   "cell_type": "code",
   "execution_count": null,
   "metadata": {},
   "outputs": [],
   "source": [
    "print('True == True: ', True == True)\n",
    "print('True == False: ', True == False)\n",
    "print('False == False:', False == False)"
   ]
  },
  {
   "cell_type": "markdown",
   "metadata": {},
   "source": [
    "---\n",
    "\n",
    "## Operadores logicos\n",
    "\n",
    "A diferencia de otros lenguajes de programación, Python usa palabras clave `and`, `or` y `not` para los operadores lógicos. Estos operadores se utilizan para combinar expresiones booleanas y devuelven un resultado booleano.\n",
    "\n",
    "<img src='Imagenes/imagen-4.png' ancho=700>"
   ]
  },
  {
   "cell_type": "code",
   "execution_count": null,
   "metadata": {},
   "outputs": [],
   "source": [
    "print(3 > 2 and 4 > 3)                  # True - porque ambas afirmaciones son verdaderas\n",
    "print(3 > 2 and 4 < 3)                  # False - porque la segunda afirmación es falsa\n",
    "print(3 < 2 and 4 < 3)                  # False - porque ambas afirmaciones son falsas\n",
    "print('True y True:', True and True)\n",
    "print(3 > 2 or 4 > 3)                   # True - porque ambas afirmaciones son verdaderas\n",
    "print(3 > 2 or 4 < 3)                   # True - porque una de las afirmaciones es verdadera\n",
    "print(3 < 2 or 4 < 3)                   # False - porque ambas afirmaciones son falsas\n",
    "print('True o False:', True or False)\n",
    "print(not 3 > 2)                        # False - porque 3 > 2 es verdadero, entonces no verdadero da falso\n",
    "print(not True)                         # False - Negación, el operador no se vuelve verdadero a falso\n",
    "print(not False)                        # True\n",
    "print(not not True)                     # True\n",
    "print(not not False)                    # False"
   ]
  },
  {
   "cell_type": "markdown",
   "metadata": {},
   "source": [
    "---\n",
    "\n",
    "## Operadores de Identidad\n",
    "\n",
    "Estos operadores se utilizan para comprobar si dos variables apuntan al mismo objeto en la memoria.\n",
    "\n",
    "* `is`: Devuelve Verdadero si ambas variables apuntan al mismo objeto.\n",
    "* `is not`: Devuelve Verdadero si ambas variables no apuntan al mismo objeto.\n",
    "\n",
    "Ejemplo operador `is`:\n",
    "\n",
    "El operador is se utiliza para comprobar si dos variables apuntan al mismo objeto en la memoria."
   ]
  },
  {
   "cell_type": "code",
   "execution_count": null,
   "metadata": {},
   "outputs": [],
   "source": [
    "# Ejemplo 1\n",
    "x = [1, 2, 3]\n",
    "y = [1, 2, 3]\n",
    "\n",
    "# Comprobación de identidad\n",
    "print(x is y)  # False, x y y son dos listas diferentes en memoria\n",
    "\n",
    "# Ejemplo 2\n",
    "a = \"Hola\"\n",
    "b = \"Hola\"\n",
    "\n",
    "# Comprobación de identidad\n",
    "print(a is b)  # True, a y b apuntan al mismo objeto string en memoria\n"
   ]
  },
  {
   "cell_type": "markdown",
   "metadata": {},
   "source": [
    "En el primer ejemplo, creamos dos listas x e y que contienen los mismos valores. Aunque los valores son iguales, x y y apuntan a dos objetos diferentes en la memoria, por lo tanto, x is y devuelve False.\n",
    "\n",
    "En el segundo ejemplo, creamos dos variables a y b que contienen la misma cadena \"Hola\". En este caso, Python optimiza el uso de la memoria al referenciar las mismas cadenas, por lo tanto, a is b devuelve True.\n",
    "\n",
    "Ejemplo operador `is not`:\n",
    "\n",
    "El operador is not se utiliza para comprobar si dos variables no apuntan al mismo objeto en la memoria."
   ]
  },
  {
   "cell_type": "code",
   "execution_count": null,
   "metadata": {},
   "outputs": [],
   "source": [
    "# Ejemplo 1\n",
    "lista1 = [1, 2, 3]\n",
    "lista2 = [1, 2, 3]\n",
    "\n",
    "# Comprobación de no identidad\n",
    "print(lista1 is not lista2)  # True, lista1 y lista2 son dos listas diferentes en memoria\n",
    "\n",
    "# Ejemplo 2\n",
    "x = 10\n",
    "y = 10\n",
    "\n",
    "# Comprobación de no identidad\n",
    "print(x is not y)  # False, x e y apuntan al mismo objeto entero en memoria\n"
   ]
  },
  {
   "cell_type": "markdown",
   "metadata": {},
   "source": [
    "En el primer ejemplo, lista1 y lista2 son dos listas diferentes en memoria, por lo tanto, `lista1 is not lista2` devuelve `True`.\n",
    "\n",
    "En el segundo ejemplo, x e y son dos variables que contienen el mismo valor entero 10. Aunque los valores son iguales, en este caso Python también optimiza el uso de la memoria al referenciar el mismo objeto entero, por lo tanto, x is not y devuelve False.\n",
    "\n",
    "Estos ejemplos ilustran cómo funcionan los operadores de identidad is y is not en Python para comprobar si dos variables apuntan o no al mismo objeto en la memoria."
   ]
  },
  {
   "cell_type": "markdown",
   "metadata": {},
   "source": [
    "---\n",
    "\n",
    "## Operadores de Pertenencia\n",
    "\n",
    "Estos operadores se utilizan para comprobar si un valor está presente en una secuencia.\n",
    "\n",
    "* `in`: Devuelve Verdadero si el valor está presente en la secuencia.\n",
    "* `not in`: Devuelve Verdadero si el valor no está presente en la secuencia.\n",
    "\n",
    "Operador `in`:\n",
    "\n",
    "El operador `in` se utiliza para comprobar si un valor está presente en una secuencia, como una lista, tupla, cadena, o conjunto.\n",
    "\n",
    "*Ejemplo:*\n"
   ]
  },
  {
   "cell_type": "code",
   "execution_count": null,
   "metadata": {},
   "outputs": [],
   "source": [
    "# Ejemplo 1\n",
    "frutas = [\"manzana\", \"banana\", \"cereza\"]\n",
    "\n",
    "# Comprobación de pertenencia\n",
    "print(\"banana\" in frutas)  # True, \"banana\" está en la lista de frutas\n",
    "\n",
    "# Ejemplo 2\n",
    "nombre = \"Python\"\n",
    "\n",
    "# Comprobación de pertenencia en una cadena\n",
    "print(\"o\" in nombre)  # True, la letra \"o\" está en el nombre \"Python\"\n",
    "\n",
    "# Ejemplo 3\n",
    "numeros = (1, 2, 3, 4, 5)\n",
    "\n",
    "# Comprobación de pertenencia en una tupla\n",
    "print(3 in numeros)  # True, el número 3 está en la tupla de números\n"
   ]
  },
  {
   "cell_type": "markdown",
   "metadata": {},
   "source": [
    "En el primer ejemplo, comprobamos si la cadena \"banana\" está en la lista frutas, lo cual es verdadero, por lo tanto, print(\"banana\" in frutas) devuelve True.\n",
    "\n",
    "En el segundo ejemplo, verificamos si la letra \"o\" está presente en la cadena \"Python\", lo cual es verdadero, por lo tanto, print(\"o\" in nombre) devuelve True.\n",
    "\n",
    "En el tercer ejemplo, comprobamos si el número 3 está en la tupla numeros, lo cual es verdadero, por lo tanto, print(3 in numeros) devuelve True.\n",
    "\n",
    "Operador `not in`:\n",
    "\n",
    "El operador `not in` se utiliza para comprobar si un valor no está presente en una secuencia.\n",
    "\n",
    "*Ejemplo:*"
   ]
  },
  {
   "cell_type": "code",
   "execution_count": null,
   "metadata": {},
   "outputs": [],
   "source": [
    "# Ejemplo 1\n",
    "vocales = [\"a\", \"e\", \"i\", \"o\", \"u\"]\n",
    "\n",
    "# Comprobación de no pertenencia\n",
    "print(\"x\" not in vocales)  # True, \"x\" no está en la lista de vocales\n",
    "\n",
    "# Ejemplo 2\n",
    "nombre = \"Python\"\n",
    "\n",
    "# Comprobación de no pertenencia en una cadena\n",
    "print(\"z\" not in nombre)  # True, la letra \"z\" no está en el nombre \"Python\"\n",
    "\n",
    "# Ejemplo 3\n",
    "numeros = (1, 2, 3, 4, 5)\n",
    "\n",
    "# Comprobación de no pertenencia en una tupla\n",
    "print(6 not in numeros)  # True, el número 6 no está en la tupla de números\n"
   ]
  },
  {
   "cell_type": "markdown",
   "metadata": {},
   "source": [
    "En el primer ejemplo, verificamos si la letra \"x\" no está en la lista vocales, lo cual es verdadero, por lo tanto, `print(\"x\" not in vocales)` devuelve `True`.\n",
    "\n",
    "En el segundo ejemplo, comprobamos si la letra \"z\" no está presente en la cadena \"Python\", lo cual es verdadero, por lo tanto, `print(\"z\" not in nombre)` devuelve `True`.\n",
    "\n",
    "En el tercer ejemplo, verificamos si el número 6 no está en la tupla numeros, lo cual es verdadero, por lo tanto, `print(6 not in numeros)` devuelve `True`.\n",
    "\n",
    "Estos ejemplos muestran cómo usar los operadores de pertenencia `in` y `not in` en Python para verificar la presencia o ausencia de un valor en una secuencia."
   ]
  }
 ],
 "metadata": {
  "kernelspec": {
   "display_name": "Python 3",
   "language": "python",
   "name": "python3"
  },
  "language_info": {
   "codemirror_mode": {
    "name": "ipython",
    "version": 3
   },
   "file_extension": ".py",
   "mimetype": "text/x-python",
   "name": "python",
   "nbconvert_exporter": "python",
   "pygments_lexer": "ipython3",
   "version": "3.11.5"
  },
  "orig_nbformat": 4
 },
 "nbformat": 4,
 "nbformat_minor": 2
}
