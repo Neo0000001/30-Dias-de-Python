{
 "cells": [
  {
   "cell_type": "markdown",
   "metadata": {},
   "source": [
    "<font size=6 color=red>Ejercicios - Dia 3</font>\n",
    "\n",
    "---"
   ]
  },
  {
   "cell_type": "markdown",
   "metadata": {},
   "source": [
    "Crea tres variables, con un tipo de dato entero, flotantante y complejo."
   ]
  },
  {
   "cell_type": "code",
   "execution_count": null,
   "metadata": {},
   "outputs": [],
   "source": [
    "age = 47                    # int\n",
    "peso = 80.2                 # float\n",
    "numero_complejo = 5 + 5j    # complejo"
   ]
  },
  {
   "cell_type": "markdown",
   "metadata": {},
   "source": [
    "Escriba un script que solicite al usuario que ingrese la base y la altura del triángulo y calcule el área de este triángulo (área = 0,5 * b * h)."
   ]
  },
  {
   "cell_type": "code",
   "execution_count": null,
   "metadata": {},
   "outputs": [],
   "source": [
    "base = float(input('Base del triangulo: '))\n",
    "altura = float(input('Altura del triangulo: '))\n",
    "area = (base * altura) / 2\n",
    "\n",
    "print(f'El area del triangulo es: {area}')"
   ]
  },
  {
   "cell_type": "markdown",
   "metadata": {},
   "source": [
    "---\n",
    "\n",
    "Escriba un script que solicite al usuario que ingrese el lado a, el lado b y el lado c del triángulo.\n",
    "Calcula el perímetro del triángulo (perímetro = a + b + c)."
   ]
  },
  {
   "cell_type": "code",
   "execution_count": null,
   "metadata": {},
   "outputs": [],
   "source": [
    "lado_a = float(input('Introduce el lado A del triangulo: '))\n",
    "lado_b = float(input('Introduce el lado B del triangulo: '))\n",
    "lado_c = float(input('Introduce el lado C del triangulo: '))\n",
    "\n",
    "perimetro = lado_a + lado_b + lado_c\n",
    "\n",
    "print(f'El perimetro del triangulo es: {perimetro}')\n"
   ]
  },
  {
   "cell_type": "markdown",
   "metadata": {},
   "source": [
    "---\n",
    "\n",
    "Obtenga la longitud y el ancho de un rectángulo usando el indicador. Calcula su área (área = largo x ancho) y perímetro (perímetro = 2 x (largo + ancho))"
   ]
  },
  {
   "cell_type": "code",
   "execution_count": null,
   "metadata": {},
   "outputs": [],
   "source": [
    "lado_a = float(input('Introduce la longitud del lado A del rectangulo: '))\n",
    "lado_b = float(input('Introduce la longitud del lado B del rectangulo: '))\n",
    "area = lado_a * lado_b\n",
    "\n",
    "perimetro = 2 * (lado_a * lado_b)\n",
    "\n",
    "print(\n",
    "    f'El area del triangulo es de: {area}, y el perimetro es de: {perimetro}'\n",
    ")"
   ]
  },
  {
   "cell_type": "markdown",
   "metadata": {},
   "source": [
    "---\n",
    "\n",
    "Obtenga el radio de un círculo usando el indicador. Calcula el área (área = pi * r * r) y la circunferencia (c = 2 * pi * r) donde pi = 3,14"
   ]
  },
  {
   "cell_type": "code",
   "execution_count": null,
   "metadata": {},
   "outputs": [],
   "source": [
    "radio = float(input('Introduce el radio del circulo: '))\n",
    "area = 3.14 * radio * radio\n",
    "circunferencia = 2 * 3.14 + radio\n",
    "\n",
    "print(f'El area del circulo es de: {area}')\n",
    "print(f'La circunferencia del circulo es de: {circunferencia}')"
   ]
  },
  {
   "cell_type": "markdown",
   "metadata": {},
   "source": [
    "---\n",
    "\n",
    "Calcule la pendiente, la intersección x y la intersección y de y = 2x -2\n"
   ]
  },
  {
   "cell_type": "code",
   "execution_count": null,
   "metadata": {},
   "outputs": [],
   "source": [
    "def pendiente(x1, x2, y1, y2):\n",
    "    x = (y2 - y1) / (x2 - x1)\n",
    "\n",
    "    return x\n",
    "\n",
    "\n",
    "print(f'La pendiente es: {float(pendiente(4,5,8,10))}')"
   ]
  },
  {
   "cell_type": "markdown",
   "metadata": {},
   "source": [
    "---\n",
    "\n",
    "Encuentre la longitud de 'python' y 'dragon' y haga una declaración de comparación falsa."
   ]
  },
  {
   "cell_type": "code",
   "execution_count": null,
   "metadata": {},
   "outputs": [],
   "source": [
    "texto_1 = 'python'\n",
    "texto_2 = 'dragon'\n",
    "\n",
    "print(f'Longitud texto_1: {len(texto_1)}, longitud texto_2: {len(texto_2)}')\n",
    "\n",
    "if len(texto_1) == len(texto_2):\n",
    "    print(True)\n",
    "else:\n",
    "    print(False)\n",
    "if texto_1 == texto_2:\n",
    "    print(True)\n",
    "else:\n",
    "    print(False)"
   ]
  },
  {
   "cell_type": "markdown",
   "metadata": {},
   "source": [
    "---\n",
    "\n",
    "Use un operador para verificar si 'on' se encuentra tanto en 'python' como en 'dragon'."
   ]
  },
  {
   "cell_type": "code",
   "execution_count": null,
   "metadata": {},
   "outputs": [],
   "source": [
    "if \"on\" in texto_1 and \"on\" in texto_2:\n",
    "    print('\"on\" se encuentra dentro de python y dragon')"
   ]
  },
  {
   "cell_type": "markdown",
   "metadata": {},
   "source": [
    "---\n",
    "\n",
    "Espero que este curso no esté lleno de jerga. Use el operador in para verificar si hay jerga en la oración."
   ]
  },
  {
   "cell_type": "code",
   "execution_count": null,
   "metadata": {},
   "outputs": [],
   "source": [
    "texto = 'Espero que este curso no esté lleno de jerga'\n",
    "\n",
    "if 'jerga' in texto:\n",
    "    print('\"jerga\" se encuentra dentro de la frase')"
   ]
  },
  {
   "cell_type": "markdown",
   "metadata": {},
   "source": [
    "---\n",
    "\n",
    "Encuentre la longitud del texto python y convierta el valor en flotante y conviértalo en una cadena."
   ]
  },
  {
   "cell_type": "code",
   "execution_count": null,
   "metadata": {},
   "outputs": [],
   "source": [
    "texto = 'pyton'\n",
    "print(len(texto))\n",
    "texto = len(texto)\n",
    "print(type(texto))\n",
    "texto = float(texto)\n",
    "print(texto)\n",
    "print(type(texto))\n",
    "texto = str(texto)\n",
    "print(texto)\n",
    "print(type(texto))"
   ]
  },
  {
   "cell_type": "markdown",
   "metadata": {},
   "source": [
    "---\n",
    "\n",
    "Los números pares son divisibles por 2 y el resto es cero. ¿Cómo verifica si un número es par o no usando python?"
   ]
  },
  {
   "cell_type": "code",
   "execution_count": null,
   "metadata": {},
   "outputs": [],
   "source": [
    "for i in range(1, 101):\n",
    "    if i % 2 == 0:\n",
    "        print(i, 'es par')\n",
    "    else:\n",
    "        print(i, 'es impar')"
   ]
  },
  {
   "cell_type": "markdown",
   "metadata": {},
   "source": [
    "---\n",
    "\n",
    "Verifique si la división del piso de 7 por 3 es igual al valor int convertido de 2.7"
   ]
  },
  {
   "cell_type": "code",
   "execution_count": null,
   "metadata": {},
   "outputs": [],
   "source": [
    "x = 7.0\n",
    "y = 3.0\n",
    "z = x // y\n",
    "\n",
    "print(z)\n",
    "\n",
    "z = float(z)\n",
    "\n",
    "print(z)\n"
   ]
  },
  {
   "cell_type": "markdown",
   "metadata": {},
   "source": [
    "---\n",
    "\n",
    "Escriba un script que solicite al usuario que ingrese las horas y la tarifa por hora. ¿Calcular el salario de la persona?."
   ]
  },
  {
   "cell_type": "code",
   "execution_count": null,
   "metadata": {},
   "outputs": [],
   "source": [
    "horas = int(input('Introduce el numero de horas trabajadas: '))\n",
    "tarifa_hora = int(input('Introduce el precio hora trabajada: '))\n",
    "salario = horas * tarifa_hora\n",
    "\n",
    "print(f'Tu salario es de: {salario}')"
   ]
  },
  {
   "cell_type": "markdown",
   "metadata": {},
   "source": [
    "---\n",
    "\n",
    "Escriba un script que solicite al usuario que ingrese el número de años.\n",
    "Calcular el número de segundos que puede vivir una persona. Supongamos que una persona puede vivir cien años."
   ]
  },
  {
   "cell_type": "code",
   "execution_count": null,
   "metadata": {},
   "outputs": [],
   "source": [
    "years = int(input('Introduce cuantos años tienes: '))\n",
    "segundos = (((years * 365) * 24) * 60) * 60\n",
    "\n",
    "print(f'Tu has vivido: {segundos}, segundos')"
   ]
  },
  {
   "cell_type": "markdown",
   "metadata": {},
   "source": [
    "---\n",
    "\n",
    "Escriba un script de Python que muestre la siguiente tabla:\n",
    "\n",
    "1 1 1 1 1\n",
    "2 1 2 4 8\n",
    "3 1 3 9 27\n",
    "4 1 4 16 64\n",
    "5 1 5 25 125"
   ]
  },
  {
   "cell_type": "code",
   "execution_count": null,
   "metadata": {},
   "outputs": [],
   "source": [
    "for i in range(1, 6):\n",
    "    row = \"\"\n",
    "    for j in range(1, 6):\n",
    "        row += str(i**j) + \" \"\n",
    "    print(row)"
   ]
  }
 ],
 "metadata": {
  "language_info": {
   "name": "python"
  }
 },
 "nbformat": 4,
 "nbformat_minor": 2
}
