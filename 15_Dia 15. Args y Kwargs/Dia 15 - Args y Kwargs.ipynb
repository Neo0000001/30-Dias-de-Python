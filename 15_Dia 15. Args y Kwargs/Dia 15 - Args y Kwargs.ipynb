{
 "cells": [
  {
   "cell_type": "markdown",
   "metadata": {},
   "source": [
    "<font size=6 color='red'>30 Dias de Python: Dia 15 - *args y **kwargs en Python</font>\n",
    "\n",
    "---\n",
    "\n",
    "# El uso de *args y **kwargs en Python\n",
    "\n",
    "## ¿Qué son *args y **kwargs?\n",
    "\n",
    "Son dos elementos de Python, que nos van a permitir utilizar un número indefinido de `argumentos` en las `funciones`.\n",
    "Como bien sabrás, cuando creamos una función o un método, los argumentos que tenemos que pasar, son los declarados en dicho \n",
    "método o función. Si espera 4, hay que pasarle 4, ni uno más, ni uno menos.\n",
    "¿Qué ocurre cuando esto no nos sirve? Hay ocasiones en las que necesitaremos que una función obtenga diferente número de \n",
    "valores, unas veces 2, otras veces 5, otras 3, etc. Es aquí donde entran en juego `*args` y `**kwargs`.\n",
    "\n",
    "---\n",
    "\n",
    "## El uso de *args en Python\n",
    "\n",
    "Empecemos por el más sencillo de los dos, `*args`.\n",
    "\n",
    "El nombre `args`, viene de `argumentos`. Te lo digo por si así lo memorizas más fácil, no obstante, el nombre args o kwargs\n",
    "son por convención, puedes poner *valores que funcionará igual. Lo único, es dejar el `*` en el caso de `*args` o `**` en el\n",
    "caso de `**kwargs`.\n",
    "El parámetro especial `*args` permite en una función, pasar opcionalmente, un número variable de argumentos posicionales.\n",
    "\n",
    "Ejemplo con `*args` de Python:\n"
   ]
  },
  {
   "cell_type": "code",
   "execution_count": null,
   "metadata": {},
   "outputs": [],
   "source": [
    "def prueba(*args):\n",
    "    valor = 0\n",
    "    \n",
    "    for i in args:\n",
    "        valor += 1\n",
    "        print(f'El argumento número {valor} es: {i}')\n",
    "        \n",
    "\n",
    "prueba('rojo', 'azul', 'verde', 'amarillo')"
   ]
  },
  {
   "cell_type": "markdown",
   "metadata": {},
   "source": [
    "*Salida:*\n",
    "\n",
    "```text\n",
    "El argumento número 1 es: rojo\n",
    "El argumento número 2 es: azul\n",
    "El argumento número 3 es: verde\n",
    "El argumento número 4 es: amarillo\n",
    "\n",
    "```\n",
    "\n",
    "\n",
    "\n",
    "No importa el número de argumentos que le pasemos, los acepta todos. Incluso si no pones ninguno. En este caso, no da error, pero \n",
    "tampoco saca nada en la consola, puesto que no hay argumentos."
   ]
  },
  {
   "cell_type": "code",
   "execution_count": null,
   "metadata": {},
   "outputs": [],
   "source": [
    "def prueba(*args):\n",
    "    valor = 0\n",
    "    \n",
    "    for i in args:\n",
    "        valor += 1\n",
    "        print(f'El argumento número {valor} es: {i}')\n",
    "  \n",
    "    \n",
    "prueba()"
   ]
  },
  {
   "cell_type": "markdown",
   "metadata": {},
   "source": [
    "Para comprobar lo que devuelve args, podemos imprimirlo, así sabrás que es lo que está iterando el bucle de este ejemplo."
   ]
  },
  {
   "cell_type": "code",
   "execution_count": null,
   "metadata": {},
   "outputs": [],
   "source": [
    "def prueba(*args):\n",
    "    print(args)\n",
    "    \n",
    "    \n",
    "prueba('rojo', 'azul', 'verde', 'amarillo')"
   ]
  },
  {
   "cell_type": "markdown",
   "metadata": {},
   "source": [
    "Pues bien, es una `tupla` con un argumento por posición. Aquí está la trampa. Creemos que le estamos pasando los argumentos \n",
    "que queremos, cuando es una mera ilusión, ya que en realidad, le pasamos uno solo, la tupla. La cuestión es que funciona, y \n",
    "ahora sabes como.\n",
    "\n",
    "*Salida:*\n",
    "\n",
    "```text\n",
    "('rojo', 'azul', 'verde', 'amarillo')\n",
    "\n",
    "```\n",
    "\n"
   ]
  },
  {
   "cell_type": "markdown",
   "metadata": {},
   "source": [
    "---\n",
    "\n",
    "## El uso de **kwargs en Python\n",
    "\n",
    "Llegamos al talón de Aquiles de quienes empiezan a programar en Python y se enfrentan a estos dos titanes (`*args y \n",
    "**kwargs`). El uso de kwargs se le atraganta a la mayoría. Esto es porque normalmente, se explica de una forma, bajo mi punto \n",
    "de vista, incorrecta. Voy a ver si puedo simplificar al máximo el empleo de este elemento.\n",
    "\n",
    "`**kwargs` es lo mismo que *args, solo que en este caso, permite un número de argumentos variables, pero con clave (`key`) de \n",
    "ahí su nombre, keyword (`kw`) arguments (`args`), argumentos de clave.\n",
    "\n",
    "Recuerda que los argumentos posicionales eran los que hemos utilizado en el ejemplo anterior y que los argumentos de clave, \n",
    "eran los que no tenían una posición fija (argumento = valor).\n",
    "\n",
    "Como puedes ver, no tiene mucha pérdida. Ahora vayamos a la prueba de fuego, su uso en un ejemplo. Para ello, volvemos a los \n",
    "diccionarios, los cuales, están ligados al uso de `**kwargs`, dado que lo que devuelve es un `diccionario` en lugar de una \n",
    "tupla como pasa con `*args`.\n",
    "\n",
    "Con esta combinación, podemos trabajar mejor con los dos tipos de argumentos.\n",
    "\n",
    "*Recuerda:*\n",
    "\n",
    "```text\n",
    "*args = tupla de argumentos posicionales indefinidos (en cuanto a número de ellos).\n",
    "**wargs = diccionario de argumentos posicionales indefinidos (en cuanto a número de ellos).\n",
    "\n",
    "```\n",
    "\n",
    "---\n",
    "\n",
    "## El método keys() de Python\n",
    "\n",
    "El método `keys()` de Python, es un método empleado para obtener solo las claves de un diccionario. \n",
    "\n",
    "Aquí tienes un ejemplo de uso con `**kwargs`:"
   ]
  },
  {
   "cell_type": "code",
   "execution_count": null,
   "metadata": {},
   "outputs": [],
   "source": [
    "def claves(**kwargs):\n",
    "    numero = 0\n",
    "    \n",
    "    for clave in kwargs.keys():\n",
    "        numero +=1\n",
    "        print(f'Clave {numero}: {clave}.')\n",
    "        \n",
    "\n",
    "claves(nombre='Enrique', apellido='Jimenez', edad='48')"
   ]
  },
  {
   "cell_type": "markdown",
   "metadata": {},
   "source": [
    "*Salida:*\n",
    "\n",
    "```text\n",
    "Clave 1: nombre.\n",
    "Clave 2: apellido.\n",
    "Clave 3: edad.\n",
    "\n",
    "```\n",
    "\n",
    "\n",
    "El número de argumentos de clave, como he mencionado, es indefinido, puedes poner los que quieras.\n",
    "\n",
    "Antes de seguir, imprimamos en la consola kwargs directamente, para ver si, efectivamente, devuelve un diccionario."
   ]
  },
  {
   "cell_type": "code",
   "execution_count": null,
   "metadata": {},
   "outputs": [],
   "source": [
    "def diccionario(**kwargs):\n",
    "    print(kwargs)\n",
    "    \n",
    "\n",
    "diccionario(nombre='Enrique', apellido='Jimenez', edad='48')"
   ]
  },
  {
   "cell_type": "markdown",
   "metadata": {},
   "source": [
    "Ahí lo tenemos. Nos guarda todos los argumentos de clave, en forma de diccionario. \n",
    "\n",
    "*Salida:*\n",
    "\n",
    "```text\n",
    "{'nombre': 'Enrique', 'apellido': 'Jimenez', 'edad': '48'} \n",
    "\n",
    "```\n",
    "\n",
    "\n",
    "---\n",
    "\n",
    "## El método values() de Python\n",
    "\n",
    "Si tenemos en Python, un método para obtener claves de diccionarios, también tenemos que tener otro para obtener los valores.\n",
    "Pues es este, `values()`."
   ]
  },
  {
   "cell_type": "code",
   "execution_count": null,
   "metadata": {},
   "outputs": [],
   "source": [
    "def valores(**kwargs):\n",
    "    numero = 0\n",
    "    \n",
    "    for valor in kwargs.values():\n",
    "        numero +=1\n",
    "        print(f'Valor {numero}: {valor}.')\n",
    "        \n",
    "\n",
    "valores(nombre='Enrique', apellido='Jimenez', edad='48')"
   ]
  },
  {
   "cell_type": "markdown",
   "metadata": {},
   "source": [
    "*Salida:*\n",
    "\n",
    "```text\n",
    "Valor 1: Enrique.\n",
    "Valor 2: Jimenez.\n",
    "Valor 3: 48.\n",
    "\n",
    "```\n",
    "\n",
    "\n",
    "---\n",
    "\n",
    "## El método items() de Python\n",
    "\n",
    "Ahora, puede que te plantees la forma de obtener tanto la clave como el valor.\n",
    "\n",
    "Con el método `items()`, nos va a devolver un valor y una clave. Todo de una vez."
   ]
  },
  {
   "cell_type": "code",
   "execution_count": null,
   "metadata": {},
   "outputs": [],
   "source": [
    "def valor_clave(**kwargs):\n",
    "    numero = 0\n",
    "    \n",
    "    for resultado in kwargs.items():\n",
    "            numero +=1\n",
    "            print(f'Argumento {numero}: {resultado}.')\n",
    "            \n",
    "\n",
    "valor_clave(nombre='Enrique', apellido='Jimenez', edad='48')"
   ]
  },
  {
   "cell_type": "markdown",
   "metadata": {},
   "source": [
    "*Salida:*\n",
    "\n",
    "```text\n",
    "Argumento 1: ('nombre', 'Enrique').\n",
    "Argumento 2: ('apellido', 'Jimenez').\n",
    "Argumento 3: ('edad', '48').\n",
    "\n",
    "```\n",
    "\n",
    "\n",
    "De esta forma, nos devuelve cada par (`clave:valor`) en una `tupla`.\n",
    "\n",
    "---\n",
    "\n",
    "## La función predefinida dict()\n",
    "\n",
    "En Python, contamos con una función predefinida (built-in function) llamada `dict()`, la cual, es capaz de crear un \n",
    "diccionario a partir de argumentos de clave. Es, básicamente, otra forma de producir diccionarios."
   ]
  },
  {
   "cell_type": "code",
   "execution_count": null,
   "metadata": {},
   "outputs": [],
   "source": [
    "dict(nombre='Enrique', apellido='Jimenez', edad='48')"
   ]
  },
  {
   "cell_type": "markdown",
   "metadata": {},
   "source": [
    "La forma que te había enseñado hasta el momento, era esta:\n",
    "\n",
    "```python\n",
    "{'nombre': 'Enrique', 'apellido': 'Jimenez', 'edad': '48'}\n",
    "\n",
    "```\n",
    "\n",
    "\n",
    "Como puedes ver, con dict() es más cómodo escribir las claves, ya que estas, no tienen que ir entre comillas, aunque sean de tipo string. La forma de acceder a las claves y valores, es la misma en ambos casos.\n",
    "\n",
    "---\n",
    "\n",
    "## Pasar un diccionario externo a una función\n",
    "\n",
    "Gracias a `**kwargs`, se puede crear una función que acepte directamente un diccionario entero como argumento.\n",
    "\n",
    "Fíjate, que en este caso, para pasarle a la llamada el diccionario, hay que ponerle los dos asteriscos para que se tome como \n",
    "`**kwargs`.\n"
   ]
  },
  {
   "cell_type": "code",
   "execution_count": null,
   "metadata": {},
   "outputs": [],
   "source": [
    "def imprime_diccionario(**kwargs):\n",
    "    for elemento in kwargs.items():\n",
    "        print(elemento)\n",
    "        \n",
    "    \n",
    "usuario1 = {'nombre': 'Enrique', 'apellido': 'Jimenez', 'edad': '48'}\n",
    "\n",
    "imprime_diccionario(**usuario1)"
   ]
  },
  {
   "cell_type": "markdown",
   "metadata": {},
   "source": [
    "*Salida:*\n",
    "\n",
    "```text\n",
    "('nombre', 'Enrique')\n",
    "('apellido', 'Jimenez')\n",
    "('edad', '48')\n",
    "\n",
    "```\n",
    "\n"
   ]
  }
 ],
 "metadata": {
  "kernelspec": {
   "display_name": "Unidad5",
   "language": "python",
   "name": "python3"
  },
  "language_info": {
   "codemirror_mode": {
    "name": "ipython",
    "version": 3
   },
   "file_extension": ".py",
   "mimetype": "text/x-python",
   "name": "python",
   "nbconvert_exporter": "python",
   "pygments_lexer": "ipython3",
   "version": "3.11.6"
  }
 },
 "nbformat": 4,
 "nbformat_minor": 2
}
