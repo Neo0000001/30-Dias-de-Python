{
 "cells": [
  {
   "cell_type": "markdown",
   "metadata": {},
   "source": [
    "\n",
    "<font size=6 color=red>30 días de Python: Día 19 - Fecha y Hora en Python</font>\n",
    "\n",
    "---\n",
    "\n",
    "## Fecha y Hora en Python\n",
    "\n",
    "Python tiene el módulo `datetime` para manejar la fecha y la hora."
   ]
  },
  {
   "cell_type": "markdown",
   "metadata": {},
   "source": [
    "`Datetime` es un módulo en la biblioteca estándar de Python que proporciona clases para trabajar con fechas y horas. \n",
    "La clase `datetime` es una de las más importantes y representa una fecha y hora específicas.\n",
    "\n",
    "Esta clase toma los siguientes argumentos:\n",
    "\n",
    "```text\n",
    "year: año (por ejemplo, 2024)\n",
    "month: mes (1 a 12)\n",
    "day: día (1 a 31)\n",
    "hour (opcional): hora (0 a 23)\n",
    "minute (opcional): minuto (0 a 59)\n",
    "second (opcional): segundo (0 a 59)\n",
    "microsecond (opcional): microsegundo (0 a 999999)\n",
    "tzinfo (opcional): información de zona horaria\n",
    "```\n",
    "\n",
    "\n",
    "\n",
    "*Ejemplo:*"
   ]
  },
  {
   "cell_type": "code",
   "execution_count": null,
   "metadata": {},
   "outputs": [],
   "source": [
    "from datetime import datetime\n",
    "\n",
    "dt = datetime(2024, 1, 1, 12, 0, 0)\n",
    "\n",
    "print(dt)"
   ]
  },
  {
   "cell_type": "markdown",
   "metadata": {},
   "source": [
    "*Salida:*\n",
    "\n",
    "```text\n",
    "2024-01-01 12:00:00\n",
    "```"
   ]
  },
  {
   "cell_type": "markdown",
   "metadata": {},
   "source": [
    "Con los comandos integrados `dir()` o `help()` es posible conocer las funciones disponibles en un determinado módulo. \n",
    "Como puedes ver, en el módulo `datetime` hay muchas funciones, pero nos centraremos en `date`, `datetime`, `time` y `timedelta`. \n",
    "Vamos a verlos uno por uno."
   ]
  },
  {
   "cell_type": "code",
   "execution_count": null,
   "metadata": {},
   "outputs": [],
   "source": [
    "import datetime\n",
    "\n",
    "print(dir(datetime))\n",
    "[\n",
    "    'MAXYEAR', \n",
    "    'MINYEAR', \n",
    "    '__builtins__', \n",
    "    '__cached__', \n",
    "    '__doc__', \n",
    "    '__file__', \n",
    "    '__loader__', \n",
    "    '__name__', \n",
    "    '__package__', \n",
    "    '__spec__', \n",
    "    'date', \n",
    "    'datetime', \n",
    "    'datetime_CAPI', \n",
    "    'sys', \n",
    "    'time', \n",
    "    'timedelta', \n",
    "    'timezone', \n",
    "    'tzinfo'\n",
    "]"
   ]
  },
  {
   "cell_type": "markdown",
   "metadata": {},
   "source": [
    "---\n",
    "\n",
    "## Obtener información de fecha y hora"
   ]
  },
  {
   "cell_type": "code",
   "execution_count": null,
   "metadata": {},
   "outputs": [],
   "source": [
    "from datetime import datetime\n",
    "\n",
    "ahora = datetime.now()\n",
    "print(ahora)                                    # 2021-07-08 07:34:46.549883\n",
    "\n",
    "dia = ahora.day                                 # 8\n",
    "mes = ahora.month                               # 7\n",
    "año = ahora.year                                # 2021\n",
    "hora = ahora.hour                               # 7\n",
    "minutos = ahora.minute                          # 38\n",
    "segundos = ahora.second\n",
    "marca_de_tiempo = ahora.timestamp()\n",
    "\n",
    "print(dia, mes, año, hora, minutos)\n",
    "print('Marca de tiempo', marca_de_tiempo)\n",
    "print(f'{dia}/{mes}/{año}, {hora}:{minutos}')   # 8/7/2021, 7:38"
   ]
  },
  {
   "cell_type": "markdown",
   "metadata": {},
   "source": [
    "*Salida:*\n",
    "\n",
    "```text\n",
    "2024-04-28 15:51:28.086976\n",
    "28 4 2024 15 51\n",
    "Marca de tiempo 1714312288.086976\n",
    "28/4/2024, 15:51\n",
    "```\n"
   ]
  },
  {
   "cell_type": "markdown",
   "metadata": {},
   "source": [
    "\n",
    "Un `timestamp` es una marca de tiempo que indica un momento específico en tiempo. En Python, un `timestamp` se puede representar como un valor de tiempo en segundos desde la época Unix (1 de enero de 1970, a las 00:00:00 UTC). Estos valores de tiempo se pueden manipular y convertir en representaciones más humanamente legibles mediante el uso de la biblioteca \"`datetime`\" en Python."
   ]
  },
  {
   "cell_type": "markdown",
   "metadata": {},
   "source": [
    "---\n",
    "\n",
    "## Formato de salida de fecha usando `strftime`"
   ]
  },
  {
   "cell_type": "code",
   "execution_count": null,
   "metadata": {},
   "outputs": [],
   "source": [
    "from datetime import datetime\n",
    "\n",
    "año_nuevo = datetime(2024, 1, 1)\n",
    "print(año_nuevo)                                # 2024-01-01 00:00:00\n",
    "\n",
    "dia = año_nuevo.day\n",
    "mes = año_nuevo.month\n",
    "año = año_nuevo.year\n",
    "hora = año_nuevo.hour\n",
    "minutos = año_nuevo.minute\n",
    "segundos = año_nuevo.second\n",
    "\n",
    "print(dia, mes, año, hora, minutos)            # 1 1 2024 0 0\n",
    "print(f'{dia}/{mes}/{año}, {hora}:{minutos}')  # 1/1/2024, 0:0"
   ]
  },
  {
   "cell_type": "markdown",
   "metadata": {},
   "source": [
    "*Salida:*\n",
    "\n",
    "```text\n",
    "2024-01-01 00:00:00\n",
    "1 1 2024 0 0\n",
    "1/1/2024, 0:0\n",
    "```"
   ]
  },
  {
   "cell_type": "markdown",
   "metadata": {},
   "source": [
    "`Strftime` es una función en la biblioteca `datetime` de Python que se utiliza para formatear un objeto `datetime` en una cadena de caracteres con un formato específico. La función `strftime` proviene del inglés \"String Format Time\", lo que significa que toma un objeto de fecha y hora y lo convierte en una cadena de caracteres con un formato determinado.\n",
    "\n",
    "*Aquí hay un ejemplo de cómo utilizar strftime en Python:*"
   ]
  },
  {
   "cell_type": "code",
   "execution_count": null,
   "metadata": {},
   "outputs": [],
   "source": [
    "import datetime\n",
    "\n",
    "# Obtenga la fecha y hora actual\n",
    "ahora = datetime.datetime.ahora()\n",
    "\n",
    "# Formatee la fecha y hora actual en una cadena\n",
    "fecha_formateada = ahora.strftime(\"%Y-%m-%d %H:%M:%S\")\n",
    "\n",
    "print(\"La fecha y hora actual son:\", fecha_formateada)"
   ]
  },
  {
   "cell_type": "markdown",
   "metadata": {},
   "source": [
    "*Salida:*\n",
    "\n",
    "```text\n",
    "La fecha y hora actual son: 2024-02-11 19:42:26\n",
    "```"
   ]
  },
  {
   "cell_type": "markdown",
   "metadata": {},
   "source": [
    "En este ejemplo, se utiliza el formato `%Y-%m-%d %H:%M:%S` para formatear la fecha y hora actual en una cadena con el siguiente formato: \"`YYYY-MM-DD HH:MM:SS`\". Hay muchos otros formatos disponibles que se pueden usar con strftime para producir una variedad de representaciones de fechas y horas.\n",
    "\n",
    "El formato de fecha y hora usando el método strftime y la documentación se pueden encontrar aquí: https://strftime.org/.\n"
   ]
  },
  {
   "cell_type": "code",
   "execution_count": null,
   "metadata": {},
   "outputs": [],
   "source": [
    "from datetime import datetime\n",
    "\n",
    "# Fecha y hora actual\n",
    "\n",
    "ahora = datetime.now()\n",
    "t = ahora.strftime(\"%H:%M:%S\")\n",
    "print(\"time:\", t)\n",
    "time_one = ahora.strftime(\"%m/%d/%Y, %H:%M:%S\")\n",
    "\n",
    "# Formato mm/dd/YY H:M:S\n",
    "print(\"time one:\", time_one)\n",
    "time_two = ahora.strftime(\"%d/%m/%Y, %H:%M:%S\")\n",
    "\n",
    "# Formato dd/mm/YY H:M:S\n",
    "print(\"time two:\", time_two)\n"
   ]
  },
  {
   "cell_type": "markdown",
   "metadata": {},
   "source": [
    "*Salida:*\n",
    "\n",
    "```text\n",
    "time: 16:00:18\n",
    "time one: 04/28/2024, 16:00:18\n",
    "time two: 28/04/2024, 16:00:18\n",
    "```"
   ]
  },
  {
   "cell_type": "markdown",
   "metadata": {},
   "source": [
    "Aquí están todos los símbolos strftime que usamos para formatear el tiempo. Un ejemplo de todos los formatos para este módulo."
   ]
  },
  {
   "cell_type": "markdown",
   "metadata": {},
   "source": [
    "<img src='Imagenes/strftime.png'>"
   ]
  },
  {
   "cell_type": "markdown",
   "metadata": {},
   "source": [
    "---\n",
    "\n",
    "# Funcion `strptime()`\n",
    "\n",
    "`Strptime()` es una función en el módulo `datetime` de la biblioteca estándar de Python que se utiliza para analizar una representación de cadena de fecha y hora y devolver un objeto datetime correspondiente. La función toma dos argumentos: El primero es la cadena a analizar y el segundo es una cadena de formato que especifica el formato esperado de la cadena de entrada.\n",
    "\n",
    "Aquí hay una documentación: https://www.programiz.com/python-programming/datetime/strptimet que ayuda a entender el formato.\n",
    "\n",
    "*Ejemplo:*"
   ]
  },
  {
   "cell_type": "code",
   "execution_count": null,
   "metadata": {},
   "outputs": [],
   "source": [
    "from datetime import datetime\n",
    "\n",
    "date_string = \"2024-01-01 12:00:00\"\n",
    "date_format = \"%Y-%m-%d %H:%M:%S\"\n",
    "\n",
    "dt = datetime.strptime(date_string, date_format)\n",
    "\n",
    "print(dt)"
   ]
  },
  {
   "cell_type": "markdown",
   "metadata": {},
   "source": [
    "*Salida:*\n",
    "\n",
    "```text\n",
    "2024-01-01 12:00:00\n",
    "```\n",
    "\n",
    "\n",
    "*Otro ejemplo:*"
   ]
  },
  {
   "cell_type": "code",
   "execution_count": null,
   "metadata": {},
   "outputs": [],
   "source": [
    "from datetime import datetime\n",
    "\n",
    "date_string = \"5 December, 2023\"\n",
    "print(\"date_string =\", date_string)\n",
    "date_object = datetime.strptime(date_string, \"%d %B, %Y\")\n",
    "print(\"date_object =\", date_object)"
   ]
  },
  {
   "cell_type": "markdown",
   "metadata": {},
   "source": [
    "*Salida:*\n",
    "\n",
    "```text\n",
    "date_string = 5 December, 2023\n",
    "date_object = 2023-12-05 00:00:00\n",
    "```\n"
   ]
  },
  {
   "cell_type": "markdown",
   "metadata": {},
   "source": [
    "---\n",
    "\n",
    "# Usando `date` de `datetime`\n",
    "\n",
    "`date` es una clase dentro del módulo `datetime` en la biblioteca estándar de Python que se utiliza para representar una fecha específica (año, mes y día).\n",
    "\n",
    "Esta clase toma los siguientes argumentos:\n",
    "\n",
    "* `year`: año (por ejemplo, 2024)\n",
    "* `month`: mes (1 a 12)\n",
    "* `day`: día (1 a 31)\n",
    "\n",
    "*Ejemplo:*"
   ]
  },
  {
   "cell_type": "code",
   "execution_count": null,
   "metadata": {},
   "outputs": [],
   "source": [
    "from datetime import date\n",
    "\n",
    "d = date(2024, 4, 28)\n",
    "print(d)"
   ]
  },
  {
   "cell_type": "markdown",
   "metadata": {},
   "source": [
    "*Salida:*\n",
    "\n",
    "```text\n",
    "2024-04-28\n",
    "```"
   ]
  },
  {
   "cell_type": "markdown",
   "metadata": {},
   "source": [
    "*Otro ejemplo:*"
   ]
  },
  {
   "cell_type": "code",
   "execution_count": null,
   "metadata": {},
   "outputs": [],
   "source": [
    "from datetime import date\n",
    "\n",
    "d = date(2024, 4, 28)\n",
    "print(d)\n",
    "print('Fecha actual:', d.today())  # Fecha actual: 2024-04-28\n",
    "\n",
    "# Objeto date de la fecha de hoy\n",
    "\n",
    "today = date.today()\n",
    "print(\"Año actual:\", today.year)   # 2024\n",
    "print(\"Mes actual:\", today.month)  # 4\n",
    "print(\"Dia actual:\", today.day)    # 28"
   ]
  },
  {
   "cell_type": "markdown",
   "metadata": {},
   "source": [
    "*Salida:*\n",
    "\n",
    "```text\n",
    "2024-04-28\n",
    "Fecha actual: 2024-04-28\n",
    "Año actual: 2024\n",
    "Mes actual: 4\n",
    "Dia actual: 28\n",
    "```"
   ]
  },
  {
   "cell_type": "markdown",
   "metadata": {},
   "source": [
    "---\n",
    "\n",
    "## Objetos de tiempo para representar el tiempo"
   ]
  },
  {
   "cell_type": "code",
   "execution_count": null,
   "metadata": {},
   "outputs": [],
   "source": [
    "from datetime import time\n",
    "\n",
    "# time(hour = 0, minute = 0, second = 0)\n",
    "a = time()\n",
    "print(\"a =\", a)\n",
    "\n",
    "# time(hour, minute and second)\n",
    "b = time(10, 30, 50)\n",
    "print(\"b =\", b)\n",
    "\n",
    "# time(hour, minute and second)\n",
    "c = time(hour=10, minute=30, second=50)\n",
    "print(\"c =\", c)\n",
    "\n",
    "# time(hour, minute, second, microsecond)\n",
    "d = time(10, 30, 50, 200555)\n",
    "print(\"d =\", d)"
   ]
  },
  {
   "cell_type": "markdown",
   "metadata": {},
   "source": [
    "*Salida:*\n",
    "\n",
    "```text\n",
    "a = 00:00:00\n",
    "b = 10:30:50\n",
    "c = 10:30:50\n",
    "d = 10:30:50.200555\n",
    "```"
   ]
  },
  {
   "cell_type": "markdown",
   "metadata": {},
   "source": [
    "---\n",
    "\n",
    "## Calcular el tiempo transcurrido entre dos fechas"
   ]
  },
  {
   "cell_type": "code",
   "execution_count": null,
   "metadata": {},
   "outputs": [],
   "source": [
    "from datetime import date, datetime\n",
    "\n",
    "hoy = date(year=2024, month=4, day=28)\n",
    "año_nuevo = date(year=2025, month=1, day=1)\n",
    "tiempo_restante_para_año_nuevo = año_nuevo - hoy\n",
    "\n",
    "# Tiempo restante para año nuevo: 248 dias\n",
    "print('Tiempo restante para año nuevo:', tiempo_restante_para_año_nuevo.days, 'dias')\n",
    "\n",
    "t1 = datetime(year=2024, month=4, day=28, hour=0, minute=59, second=0)\n",
    "t2 = datetime(year=2025, month=1, day=1, hour=0, minute=0, second=0)\n",
    "\n",
    "diferencia = t2 - t1\n",
    "\n",
    "print('Tiempo restante para año nuevo:', diferencia)  # Tiempo restante para año nuevo: 247 days, 23:01:00\n"
   ]
  },
  {
   "cell_type": "markdown",
   "metadata": {},
   "source": [
    "*Salida:*\n",
    "\n",
    "```text\n",
    "Tiempo restante para año nuevo: 248 dias\n",
    "Tiempo restante para año nuevo: 247 days, 23:01:00\n",
    "```"
   ]
  },
  {
   "cell_type": "markdown",
   "metadata": {},
   "source": [
    "---\n",
    "\n",
    "## Calcular el tiempo transcurrido entre dos fechas utilizando `timedelta`\n",
    "\n",
    "Para encontrar la diferencia entre dos puntos en el tiempo en Python, puedes restar un objeto `datetime` con otro.\n",
    "Esto dará como resultado un objeto `timedelta`, que representa la duración entre los dos puntos en el tiempo.\n",
    "\n",
    "*Ejemplo:*"
   ]
  },
  {
   "cell_type": "code",
   "execution_count": null,
   "metadata": {},
   "outputs": [],
   "source": [
    "from datetime import timedelta\n",
    "\n",
    "t1 = timedelta(weeks=12, days=10, hours=4, seconds=20)\n",
    "t2 = timedelta(days=7, hours=5, minutes=3, seconds=30)\n",
    "\n",
    "t3 = t1 - t2\n",
    "\n",
    "print(\"t3 =\", t3)"
   ]
  },
  {
   "cell_type": "markdown",
   "metadata": {},
   "source": [
    "*Salida:*\n",
    "\n",
    "```text\n",
    "t3 = 86 days, 22:56:50\n",
    "```"
   ]
  }
 ],
 "metadata": {
  "kernelspec": {
   "display_name": "Python 3",
   "language": "python",
   "name": "python3"
  },
  "language_info": {
   "codemirror_mode": {
    "name": "ipython",
    "version": 3
   },
   "file_extension": ".py",
   "mimetype": "text/x-python",
   "name": "python",
   "nbconvert_exporter": "python",
   "pygments_lexer": "ipython3",
   "version": "3.11.8"
  }
 },
 "nbformat": 4,
 "nbformat_minor": 2
}
