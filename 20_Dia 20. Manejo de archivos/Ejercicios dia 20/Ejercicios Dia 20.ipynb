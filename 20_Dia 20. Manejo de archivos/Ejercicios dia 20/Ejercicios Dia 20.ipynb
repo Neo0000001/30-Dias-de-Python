{
 "cells": [
  {
   "cell_type": "markdown",
   "metadata": {},
   "source": [
    "<font size=6 color=red>Ejercicios - Día 20</font>\n",
    "\n",
    "---\n",
    "\n",
    "### Ejercicios: Nivel 1\n",
    "\n",
    "Escribe una función que cuente el número de líneas y el número de palabras en un texto. Todos los archivos están en la carpeta de datos.\n",
    "\n",
    "1. Leer el archivo obama_speech.txt y contar el número de líneas y palabras.\n",
    "\n",
    "2. Leer el archivo michelle_obama_speech.txt y contar el número de líneas y palabras.\n",
    "\n",
    "3. Leer el archivo donald_speech.txt y contar el número de líneas y palabras.\n",
    "\n",
    "4. Lea el archivo melina_trump_speech.txt y cuente el número de líneas y palabras."
   ]
  },
  {
   "cell_type": "code",
   "execution_count": null,
   "metadata": {},
   "outputs": [],
   "source": [
    "def contar_lineas_and_palabras(fichero_path):\n",
    "    with open(fichero_path, 'r') as fichero:\n",
    "        num_lineas = 0\n",
    "        num_palabras = 0\n",
    "        \n",
    "        for linea in fichero:\n",
    "            palabras = linea.split()\n",
    "            num_lineas += 1\n",
    "            num_palabras += len(palabras)\n",
    "    \n",
    "    return num_lineas, num_palabras\n",
    "\n",
    "\n",
    "print(contar_lineas_and_palabras('Archivos/obama_speech.txt'))\n",
    "print(contar_lineas_and_palabras('Archivos/michelle_obama_speech.txt'))\n",
    "print(contar_lineas_and_palabras('Archivos/donald_speech.txt'))\n",
    "print(contar_lineas_and_palabras('Archivos/melina_trump_speech.txt'))\n"
   ]
  },
  {
   "cell_type": "markdown",
   "metadata": {},
   "source": [
    "---\n",
    "\n",
    "2. Lea el archivo de datos countries_data.json en el directorio de datos, cree una función que encuentre los diez idiomas más hablados."
   ]
  },
  {
   "cell_type": "code",
   "execution_count": null,
   "metadata": {},
   "outputs": [],
   "source": [
    "import json\n",
    "\n",
    "# Abrir el archivo countries_data.json y cargarlo en una variable de Python\n",
    "with open('Archivos/countries_data.json', 'r') as f:\n",
    "    data = json.load(f)\n",
    "\n",
    "# Crear un diccionario para contar la cantidad de países que hablan cada idioma\n",
    "contar_lenguajes = {}\n",
    "\n",
    "# Iterar sobre cada país en los datos\n",
    "for pais in data:\n",
    "    # Iterar sobre cada idioma hablado en el país\n",
    "    for lenguaje in pais['languages']:\n",
    "        # Incrementar el recuento para este idioma\n",
    "        if lenguaje in contar_lenguajes:\n",
    "            contar_lenguajes[lenguaje] += 1\n",
    "        else:\n",
    "            contar_lenguajes[lenguaje] = 1\n",
    "\n",
    "\n",
    "# Obtener los diez idiomas más hablados y mostrarlos\n",
    "top_lenguajes = sorted(contar_lenguajes, key=contar_lenguajes.get, reverse=True)[:10]\n",
    "print(\"Los diez idiomas más hablados son:\")\n",
    "\n",
    "for i, lenguaje in enumerate(top_lenguajes):\n",
    "    print(f\"{i+1}. {lenguaje} ({contar_lenguajes[lenguaje]} países)\")\n"
   ]
  },
  {
   "cell_type": "markdown",
   "metadata": {},
   "source": [
    "Tambien puede usarse este codigo que es mas efectivo:"
   ]
  },
  {
   "cell_type": "code",
   "execution_count": null,
   "metadata": {},
   "outputs": [],
   "source": [
    "import json\n",
    "\n",
    "# Abrir el archivo countries_data.json y cargarlo en una variable de Python\n",
    "with open('Archivos/countries_data.json', 'r') as f:\n",
    "    data = json.load(f)\n",
    "\n",
    "# Crear un diccionario para contar la cantidad de países que hablan cada idioma\n",
    "contar_lenguajes = {}\n",
    "\n",
    "# Iterar sobre cada país en los datos\n",
    "for pais in data:\n",
    "    # Iterar sobre cada idioma hablado en el país\n",
    "    for lenguaje in pais['languages']:\n",
    "        # Incrementar el recuento para este idioma\n",
    "        contar_lenguajes[lenguaje] = contar_lenguajes.get(lenguaje, 0) + 1\n",
    "\n",
    "\n",
    "# Obtener los diez idiomas más hablados y mostrarlos\n",
    "top_lenguajes = sorted(contar_lenguajes, key=contar_lenguajes.get, reverse=True)[:10]\n",
    "print(\"Los diez idiomas más hablados son:\")\n",
    "\n",
    "for i, lenguaje in enumerate(top_lenguajes):\n",
    "    print(f\"{i+1}. {lenguaje} ({contar_lenguajes[lenguaje]} países)\")\n"
   ]
  },
  {
   "cell_type": "markdown",
   "metadata": {},
   "source": [
    "Aquí, contar_lenguajes.get(lenguaje, 0) devuelve el valor asociado con la clave lenguaje si está presente en el diccionario, o 0 si no lo está. Luego se agrega\n",
    "1 al valor devuelto y se asigna a la clave lenguaje en el diccionario contar_lenguajes.\n",
    "\n",
    "De esta manera, se asegura que se pueda agregar un nuevo idioma al diccionario incluso si está vacío, sin causar una excepción al intentar acceder a una clave\n",
    "que no existe."
   ]
  },
  {
   "cell_type": "markdown",
   "metadata": {},
   "source": [
    "---\n",
    "\n",
    "3. Lea el archivo de datos countries_data.json en el directorio de datos, cree una función que cree una lista de los diez países más poblados.\n"
   ]
  },
  {
   "cell_type": "code",
   "execution_count": null,
   "metadata": {},
   "outputs": [],
   "source": [
    "def top_10_paises_mas_poblados():\n",
    "    with open('Archivos/countries_data.json') as f:\n",
    "        datos = json.load(f)\n",
    "\n",
    "    paises = []\n",
    "    \n",
    "    for pais in datos:\n",
    "        nombre_pais = pais['name']\n",
    "        poblacion_pais = pais['population']\n",
    "        paises.append((nombre_pais, poblacion_pais))\n",
    "\n",
    "    paises_ordenados = sorted(paises, key=lambda x: x[1], reverse=True)\n",
    "\n",
    "    top_10_paises = [pais[0] for pais in paises_ordenados[:10]]\n",
    "\n",
    "    return top_10_paises\n",
    "\n",
    "\n",
    "print(top_10_paises_mas_poblados())\n"
   ]
  },
  {
   "cell_type": "markdown",
   "metadata": {},
   "source": [
    "Otro ejemplo:"
   ]
  },
  {
   "cell_type": "code",
   "execution_count": null,
   "metadata": {},
   "outputs": [],
   "source": [
    "import json\n",
    "\n",
    "\n",
    "def top_10_poblacion():\n",
    "    with open('Archivos/countries_data.json') as f:\n",
    "        data = json.load(f)\n",
    "\n",
    "    poblaciones = [{'Pais': pais['name'], 'poblacion': pais['population']} for pais in data]\n",
    "    poblaciones_ordenadas = sorted(poblaciones, key=lambda x: x['poblacion'], reverse=True)\n",
    "    top_10 = poblaciones_ordenadas[:10]\n",
    "\n",
    "    return top_10\n",
    "\n",
    "\n",
    "top_10 = top_10_poblacion()\n",
    "\n",
    "print(top_10)\n"
   ]
  }
 ],
 "metadata": {
  "kernelspec": {
   "display_name": "Python 3",
   "language": "python",
   "name": "python3"
  },
  "language_info": {
   "codemirror_mode": {
    "name": "ipython",
    "version": 3
   },
   "file_extension": ".py",
   "mimetype": "text/x-python",
   "name": "python",
   "nbconvert_exporter": "python",
   "pygments_lexer": "ipython3",
   "version": "3.11.8"
  }
 },
 "nbformat": 4,
 "nbformat_minor": 2
}
