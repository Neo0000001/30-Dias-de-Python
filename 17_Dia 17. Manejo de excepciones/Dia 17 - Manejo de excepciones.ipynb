{
 "cells": [
  {
   "cell_type": "markdown",
   "metadata": {},
   "source": [
    "<font size=6 color='red'>30 días de Python: Día 17 - Manejo de excepciones</font>\n",
    "\n",
    "---\n",
    "\n",
    "<span style=\"font-size: 1.5em; color: red\">Manejo de excepciones</span>\n",
    "\n",
    "Python usa `try` y `except` para manejar los errores con elegancia. Una salida elegante (o manejo elegante) de errores es un lenguaje \n",
    "de programación simple: un programa detecta una condición de error grave y, como resultado, \"sale con elegancia\", de manera \n",
    "controlada. \n",
    "A menudo, el programa imprime un mensaje de error descriptivo en un terminal o registro como parte de la salida ordenada, esto hace \n",
    "que nuestra aplicación sea más robusta. La causa de una excepción suele ser externa al propio programa. Un ejemplo de excepciones \n",
    "podría ser una entrada incorrecta, un nombre de archivo incorrecto, no poder encontrar un archivo, un dispositivo IO que no funciona \n",
    "correctamente. El manejo elegante de los errores evita que nuestras aplicaciones se bloqueen.\n",
    "\n",
    "Hemos cubierto los diferentes tipos de errores de Python en la sección anterior. Si usamos `try` y `except` en nuestro programa, \n",
    "entonces no generará errores en esos bloques.\n",
    "\n",
    "```python\n",
    "try:\n",
    "    el código dentro de este bloque se ejecutará si las cosas salen bien\n",
    "except:\n",
    "    el código dentro de este bloque se ejecutará en caso de error"
   ]
  },
  {
   "cell_type": "markdown",
   "metadata": {},
   "source": [
    "<img src='Imagenes/try_except.png'>\n"
   ]
  },
  {
   "cell_type": "markdown",
   "metadata": {},
   "source": [
    "*Ejemplo:*\n",
    "\n",
    "```python\n",
    "try:\n",
    "    print(10 + '5')\n",
    "except:\n",
    "    print('Algo fue mal')\n",
    "```\n",
    "\n",
    "En el ejemplo anterior, el segundo operando es una cadena. Podríamos cambiarlo a float o int para agregarlo con el número para que funcione. Pero \n",
    "sin ningún cambio, se ejecutará el segundo bloque, except."
   ]
  },
  {
   "cell_type": "code",
   "execution_count": null,
   "metadata": {},
   "outputs": [],
   "source": [
    "try:\n",
    "    nombre = input('Introduce tu nombre: ')\n",
    "    fecha_nacimiento = input('Introduce tu año de nacimiento: ')\n",
    "    edad = 2024 - fecha_nacimiento\n",
    "    print(f'Tu nombre es {nombre}. Y tus años son {edad}.')\n",
    "except:\n",
    "    print('Algo fue mal.')"
   ]
  },
  {
   "cell_type": "markdown",
   "metadata": {},
   "source": [
    "En el ejemplo anterior, el bloque de excepción se ejecutará y no conocemos exactamente el problema. Para analizar el problema, podemos usar los \n",
    "diferentes tipos de error con excepción.\n",
    "\n",
    "En el siguiente ejemplo, manejará el error y también nos dirá el tipo de error generado.\n",
    "\n",
    "*Ejemplo:*"
   ]
  },
  {
   "cell_type": "code",
   "execution_count": null,
   "metadata": {},
   "outputs": [],
   "source": [
    "try:\n",
    "    nombre = input('Introduce tu nombre: ')\n",
    "    fecha_nacimiento = input('Introduce el año en el que naciste: ')\n",
    "    edad = 2024 - fecha_nacimiento\n",
    "    print(f'Tu eres {nombre}. Y tu edad es {edad}.')\n",
    "except TypeError:\n",
    "    print('Se produjo un error de tipo.')\n",
    "except ValueError:\n",
    "    print('Se produjo un error de valor.')\n",
    "except ZeroDivisionError:\n",
    "    print('Se produjo un error de división por cero.')\n"
   ]
  },
  {
   "cell_type": "markdown",
   "metadata": {},
   "source": [
    "En el código anterior, la salida será `TypeError`. Ahora, agreguemos un bloque adicional:"
   ]
  },
  {
   "cell_type": "code",
   "execution_count": null,
   "metadata": {},
   "outputs": [],
   "source": [
    "try:\n",
    "    nombre = input('Introduce tu nombre: ')\n",
    "    fecha_nacimiento = input('Introduce tu año de nacimiento: ')\n",
    "    edad = 2024 - int(fecha_nacimiento)\n",
    "    print(f'Tu eres {nombre}. Y tu edad es {edad}.')\n",
    "except TypeError:\n",
    "    print('Se produjo un error de tipo.')\n",
    "except ValueError:\n",
    "    print('Se produjo un error de valor.')\n",
    "except ZeroDivisionError:\n",
    "    print('Se produjo un error de división por cero.')\n",
    "else:\n",
    "    print('Normalmente ejecuto el código con el bloque try.')\n",
    "finally:\n",
    "    print('Siempre se ejecuta.')\n"
   ]
  },
  {
   "cell_type": "markdown",
   "metadata": {},
   "source": [
    "También se acorta el código anterior de la siguiente manera:"
   ]
  },
  {
   "cell_type": "code",
   "execution_count": null,
   "metadata": {},
   "outputs": [],
   "source": [
    "try:\n",
    "    nombre = input('Introduce tu nombre: ')\n",
    "    fecha_nacimiento = input('Introduce tu año de nacimiento: ')\n",
    "    edad = 2024 - int(fecha_nacimiento)\n",
    "    print(f'Tu eres {nombre}. Y tu edad es {edad}.')\n",
    "except Exception as e:\n",
    "    print(e)"
   ]
  },
  {
   "cell_type": "markdown",
   "metadata": {},
   "source": [
    "---\n",
    "\n",
    "## Empaquetar y desempaquetar argumentos en Python\n",
    "\n",
    "Usamos dos operadores:\n",
    "\n",
    "```text\n",
    "1. * para tuplas\n",
    "2. ** para diccionarios\n",
    "```\n",
    "\n",
    "Tomemos como ejemplo a continuación. Solo necesita argumentos, pero tenemos una lista. Podemos descomprimir la lista y cambiar \n",
    "el argumento.\n",
    "\n",
    "---\n",
    "\n",
    "## Desempaquetado\n",
    "\n",
    "### Desempaquetado de Listas\n",
    "\n",
    "*Ejemplo:*"
   ]
  },
  {
   "cell_type": "code",
   "execution_count": null,
   "metadata": {},
   "outputs": [],
   "source": [
    "def suma_de_cinco_numeros(a, b, c, d, e):\n",
    "    return a + b + c + d + e\n",
    "\n",
    "\n",
    "lst = [1, 2, 3, 4, 5]\n",
    "\n",
    "print(suma_de_cinco_numeros(lst)) # TypeError: suma_de_cinco_numeros() missing 4 required positional arguments: 'b', 'c', 'd', and 'e'\n"
   ]
  },
  {
   "cell_type": "markdown",
   "metadata": {},
   "source": [
    "Cuando ejecutamos este código, genera un error, porque esta función toma números (no una lista) como argumentos. \n",
    "Descomprimamos/desestructuramos la lista.\n",
    "\n",
    "*Ejemplo:*"
   ]
  },
  {
   "cell_type": "code",
   "execution_count": null,
   "metadata": {},
   "outputs": [],
   "source": [
    "def suma_de_cinco_numeros(a, b, c, d, e):\n",
    "    return a + b + c + d + e\n",
    "\n",
    "\n",
    "lst = [1, 2, 3, 4, 5]\n",
    "\n",
    "print(suma_de_cinco_numeros(*lst))  # 15"
   ]
  },
  {
   "cell_type": "markdown",
   "metadata": {},
   "source": [
    "También podemos usar el desempaquetado en la función incorporada de rango que espera un comienzo y un final.\n",
    "\n",
    "*Ejemplo:*"
   ]
  },
  {
   "cell_type": "code",
   "execution_count": null,
   "metadata": {},
   "outputs": [],
   "source": [
    "numeros = range(2, 7)         # Llamada normal con argumentos separados\n",
    "print(list(numeros))          # [2, 3, 4, 5, 6]\n",
    "\n",
    "argumentos = [2, 7]\n",
    "numeros = range(*argumentos)  # Llamada con argumentos desempaquetados de una lista\n",
    "print(numeros)                # [2, 3, 4, 5, 6]"
   ]
  },
  {
   "cell_type": "markdown",
   "metadata": {},
   "source": [
    "Una lista o una tupla también se pueden descomprimir así:"
   ]
  },
  {
   "cell_type": "code",
   "execution_count": null,
   "metadata": {},
   "outputs": [],
   "source": [
    "paises = ['Finland', 'Sweden', 'Norway', 'Denmark', 'Iceland']\n",
    "fin, sw, nor, *rest = paises\n",
    "print(fin, sw, nor, rest)             # Finland Sweden Norway ['Denmark', 'Iceland']\n",
    "\n",
    "numeros = [1, 2, 3, 4, 5, 6, 7]\n",
    "primero, *mitad, ultimo = numeros\n",
    "print(primero, mitad, ultimo)        #  1 [2, 3, 4, 5, 6] 7"
   ]
  },
  {
   "cell_type": "markdown",
   "metadata": {},
   "source": [
    "---\n",
    "\n",
    "### Desempaquetado de Diccionarios"
   ]
  },
  {
   "cell_type": "code",
   "execution_count": null,
   "metadata": {},
   "outputs": [],
   "source": [
    "def unpacking_person_info(name, country, city, age):\n",
    "    return f'{name} vive en {country}, {city}. El tiene {age} años.'\n",
    "\n",
    "\n",
    "dct = {'name':'Juan', 'country':'Finland', 'city':'Helsinki', 'age':70}\n",
    "print(unpacking_person_info(**dct)) # Juan vive en Finland, Helsinki. El tiene 70 años."
   ]
  },
  {
   "cell_type": "markdown",
   "metadata": {},
   "source": [
    "---\n",
    "\n",
    "## Empaquetado\n",
    "\n",
    "A veces, nunca sabemos cuántos argumentos se deben pasar a una función de Python. Podemos usar el método de empaquetamiento para permitir que nuestra función tome un número ilimitado o un número arbitrario de argumentos.\n",
    "\n",
    "---\n",
    "\n",
    "### Empaquetado de Listas\n",
    "\n",
    "*Ejemplo:*"
   ]
  },
  {
   "cell_type": "code",
   "execution_count": null,
   "metadata": {},
   "outputs": [],
   "source": [
    "def sum_all(*argumentos):\n",
    "    s = 0\n",
    "    for i in argumentos:\n",
    "        s += i\n",
    "    \n",
    "    return s\n",
    "\n",
    "\n",
    "print(sum_all(1, 2, 3))              # 6\n",
    "print(sum_all(1, 2, 3, 4, 5, 6, 7))  # 28"
   ]
  },
  {
   "cell_type": "markdown",
   "metadata": {},
   "source": [
    "---\n",
    "\n",
    "### Empaquetado de Diccionarios\n",
    "\n",
    "*Ejemplo:*"
   ]
  },
  {
   "cell_type": "code",
   "execution_count": null,
   "metadata": {},
   "outputs": [],
   "source": [
    "def packing_person_info(**kwargs):\n",
    "    # check the type of kwargs and it is a dict type\n",
    "    # print(type(kwargs))\n",
    "\t# Printing dictionary items\n",
    "    for key in kwargs:\n",
    "        print(f\"{key} = {kwargs[key]}\")\n",
    "\n",
    "    return kwargs\n",
    "\n",
    "\n",
    "print(packing_person_info(nombre=\"Juan\",\n",
    "      pais=\"Finland\", ciudad=\"Helsinki\", edad=70))"
   ]
  },
  {
   "cell_type": "markdown",
   "metadata": {},
   "source": [
    "*Salida:*\n",
    "\n",
    "```text\n",
    "nombre = Juan\n",
    "pais = Finland\n",
    "ciudad = Helsinki\n",
    "edad = 70\n",
    "{'nombre': 'Juan', 'pais': 'Finland', 'ciudad': 'Helsinki', 'edad': 70}\n",
    "```\n"
   ]
  },
  {
   "cell_type": "markdown",
   "metadata": {},
   "source": [
    "---\n",
    "\n",
    "## Expansión en Python\n",
    "\n",
    "Al igual que en JavaScript, la expansión es posible en Python.\n",
    "\n",
    "*Ejemplo:*"
   ]
  },
  {
   "cell_type": "code",
   "execution_count": null,
   "metadata": {},
   "outputs": [],
   "source": [
    "lista_uno = [1, 2, 3]\n",
    "listas_dos = [4, 5, 6, 7]\n",
    "lista = [0, *lista_uno, *listas_dos]\n",
    "\n",
    "print(lista)  # [0, 1, 2, 3, 4, 5, 6, 7]\n",
    "\n",
    "paises_lista_uno = ['Finland', 'Sweden', 'Norway']\n",
    "paises_lista_dos = ['Denmark', 'Iceland']\n",
    "paises_nordicos = [*paises_lista_uno, *paises_lista_dos]\n",
    "\n",
    "print(paises_nordicos)  # ['Finland', 'Sweden', 'Norway', 'Denmark', 'Iceland']"
   ]
  },
  {
   "cell_type": "markdown",
   "metadata": {},
   "source": [
    "---\n",
    "\n",
    "## Enumerar\n",
    "\n",
    "Si estamos interesados en el índice de una lista, usamos la función integrada de enumeración '`enumerate()`' para obtener el índice de cada elemento de la lista.\n",
    "\n",
    "*Ejemplo:*"
   ]
  },
  {
   "cell_type": "code",
   "execution_count": null,
   "metadata": {},
   "outputs": [],
   "source": [
    "for index, item in enumerate([20, 30, 40]):\n",
    "    print(index, item)\n",
    "    \n",
    "paises = ['Finland', 'Sweden', 'Norway', 'Denmark', 'Iceland']\n",
    "\n",
    "for index, i in enumerate(paises):\n",
    "    print('hola')\n",
    "    if i == 'Finland':\n",
    "        print(f'El pais {i} ha sido encontrado en el indice {index}')"
   ]
  },
  {
   "cell_type": "markdown",
   "metadata": {},
   "source": [
    "*Salida:*\n",
    "\n",
    "```text\n",
    "0 20\n",
    "1 30\n",
    "2 40\n",
    "hola\n",
    "El pais Finland ha sido encontrado en el indice 0\n",
    "hola\n",
    "hola\n",
    "hola\n",
    "hola\n",
    "```\n"
   ]
  },
  {
   "cell_type": "markdown",
   "metadata": {},
   "source": [
    "---\n",
    "\n",
    "## Iteración en paralelo\n",
    "\n",
    "En Python, la función `zip()` se utiliza para combinar elementos de iterables en tuplas. Crea un iterador que agrega elementos de los iterables proporcionados en tuplas hasta que uno de los iterables se agota. En términos más simples, `zip()` toma varios iterables (listas, tuplas, etc.) y los \"`combina`\" en pares ordenados.\n",
    "\n",
    "Por ejemplo, considera dos listas: una que contiene nombres y otra que contiene edades. Si deseas combinar estos dos conjuntos de datos de manera que el primer nombre se asocie con la primera edad, el segundo nombre con la segunda edad, y así sucesivamente, puedes usar `zip()` para hacerlo.\n",
    "\n",
    "Aquí tienes un ejemplo de cómo funciona `zip()` en Python:"
   ]
  },
  {
   "cell_type": "code",
   "execution_count": null,
   "metadata": {},
   "outputs": [],
   "source": [
    "nombres = ['Juan', 'María', 'Carlos']\n",
    "edades = [25, 30, 35]\n",
    "\n",
    "for nombre, edad in zip(nombres, edades):\n",
    "    print(nombre, 'tiene', edad, 'años.')\n"
   ]
  },
  {
   "cell_type": "markdown",
   "metadata": {},
   "source": [
    "Este código producirá la siguiente salida:\n",
    "\n",
    "```text\n",
    "Juan tiene 25 años.\n",
    "María tiene 30 años.\n",
    "Carlos tiene 35 años.\n",
    "```\n",
    "\n",
    "Ahora, vamos a explicar cómo funciona el código paso a paso:\n",
    "\n",
    "1. Definimos dos listas, nombres y edades, que contienen nombres y edades, respectivamente.\n",
    "2. Usamos la función zip(nombres, edades) para combinar los elementos correspondientes de las dos listas en pares ordenados. En este caso, el primer nombre ('Juan') se combina con la primera edad (25), el segundo nombre ('María') con la segunda edad (30), y así sucesivamente.\n",
    "3. Utilizamos un bucle for para iterar sobre los pares ordenados generados por `zip()`.\n",
    "4. En cada iteración del bucle, desempaquetamos el par ordenado en las variables nombre y edad.\n",
    "5. Finalmente, imprimimos el nombre y la edad de cada persona.\n",
    "6. \n",
    "Esta es una forma simple y poderosa de combinar datos relacionados de múltiples fuentes en Python.\n",
    "\n",
    "Tambien puedes combinar listas al recorrerlas.\n",
    "\n",
    "*Ejemplo:*"
   ]
  },
  {
   "cell_type": "code",
   "execution_count": null,
   "metadata": {},
   "outputs": [],
   "source": [
    "frutas = ['platano', 'naranja', 'mango', 'limon', 'lima']                    \n",
    "vegetales = ['tomate', 'patata', 'repollo', 'zanahoria', 'cebolla']\n",
    "frutas_y_vegetales = []\n",
    "\n",
    "for f, v in zip(frutas, vegetales):\n",
    "    frutas_y_vegetales.append({'fruta':f, 'vegetal':v})\n",
    "\n",
    "print(frutas_y_vegetales)"
   ]
  },
  {
   "cell_type": "markdown",
   "metadata": {},
   "source": [
    "*Salida:*\n",
    "\n",
    "```python\n",
    "[{'fruta': 'platano', 'vegetal': 'tomate'}, {'fruta': 'naranja', 'vegetal': 'patata'}, {'fruta': 'mango', 'vegetal': 'repollo'}, {'fruta': 'limon', 'vegetal': 'zanahoria'}, {'fruta': 'lima', 'vegetal': 'cebolla'}]\n",
    "```"
   ]
  }
 ],
 "metadata": {
  "kernelspec": {
   "display_name": "Unidad5",
   "language": "python",
   "name": "python3"
  },
  "language_info": {
   "codemirror_mode": {
    "name": "ipython",
    "version": 3
   },
   "file_extension": ".py",
   "mimetype": "text/x-python",
   "name": "python",
   "nbconvert_exporter": "python",
   "pygments_lexer": "ipython3",
   "version": "3.11.8"
  }
 },
 "nbformat": 4,
 "nbformat_minor": 2
}
