{
 "cells": [
  {
   "cell_type": "markdown",
   "metadata": {},
   "source": [
    "<font size=6 color='red'>30 días de Python: Día 16 - Funciones de orden superior</font>\n",
    "\n",
    "---\n",
    "\n",
    "<span style=\"font-size: 1.5em; color: red\">Funciones de orden superior</span>\n",
    "\n",
    "En Python, las funciones se tratan como paisanos de primera clase, y esto les permite a las funciones realizar las siguientes \n",
    "operaciones:\n",
    "\n",
    "1. Una Funcion puede tomar una o más funciones como parámetros.\n",
    "2. Una Funcion puede ser devuelta como resultadoado de otra Funcion.\n",
    "3. Se puede modificar una Funcion.\n",
    "4. Se puede asignar una Funcion a una variable.\n",
    "\n",
    "En esta sección, cubriremos:\n",
    "\n",
    "1. Manejo de funciones como parámetros\n",
    "2. Devolver funciones como valor de retorno de otras funciones\n",
    "3. Uso de cierres y decoradores de Python\n",
    "\n",
    "---\n",
    "\n",
    "## Funcion como parámetro\n",
    "\n",
    "*Ejemplo:*"
   ]
  },
  {
   "cell_type": "code",
   "execution_count": null,
   "metadata": {},
   "outputs": [],
   "source": [
    "def sumar_numeros(numeros):                     # Funcion normal\n",
    "    return sum(numeros)                         # Una Funcion triste que abusa de la Funcion sum() incorporada :<\n",
    "\n",
    "\n",
    "def funcion_orden_superior(funcion, lista):     # Funcion como un parametro\n",
    "    sumatoria = funcion(lista)\n",
    "    return sumatoria\n",
    "\n",
    "\n",
    "resultado = funcion_orden_superior(sumar_numeros, [1, 2, 3, 4, 5])\n",
    "\n",
    "print(resultado)                                # 15\n"
   ]
  },
  {
   "cell_type": "markdown",
   "metadata": {},
   "source": [
    "---\n",
    "\n",
    "## Funcion como valor de retorno\n",
    "\n",
    "*Ejemplo:*"
   ]
  },
  {
   "cell_type": "code",
   "execution_count": null,
   "metadata": {},
   "outputs": [],
   "source": [
    "def cuadrado(x):                    # Una Funcion cuadrada\n",
    "    return x**2\n",
    "\n",
    "\n",
    "def cubo(x):                        # Una Funcion de cubo\n",
    "    return x**3\n",
    "\n",
    "\n",
    "def absoluto(x):                    # Una Funcion de valor absoluto\n",
    "    if x >= 0:\n",
    "        return x\n",
    "    else:\n",
    "        return -(x)\n",
    "    \n",
    "\n",
    "def funcion_orden_superior(type):    # Una Funcion de orden superior que devuelve una Funcion\n",
    "    if type == 'cuadrado':\n",
    "        return cuadrado\n",
    "    elif type == 'cubo':\n",
    "        return cubo\n",
    "    elif type == 'absoluto':\n",
    "        return absoluto\n",
    "\n",
    "\n",
    "resultado = funcion_orden_superior('cuadrado')\n",
    "print(resultado(3))                # 9\n",
    "\n",
    "resultado = funcion_orden_superior('cubo')\n",
    "print(resultado(3))                # 27\n",
    "\n",
    "resultado = funcion_orden_superior('absoluto')\n",
    "print(resultado(-3))               # 3\n"
   ]
  },
  {
   "cell_type": "markdown",
   "metadata": {},
   "source": [
    "Puede ver en el ejemplo anterior que la Funcion de orden superior está devolviendo diferentes funciones dependiendo \n",
    "del parámetro pasado.\n",
    "\n",
    "---\n",
    "\n",
    "## Cierres Python\n",
    "\n",
    "Python permite que una Funcion anidada acceda al ámbito externo de la Funcion envolvente. Esto se conoce como Cierre. \n",
    "Echemos un vistazo a cómo funcionionan los cierres en Python. En Python, el cierre se crea anidando una Funcion dentro \n",
    "de otra Funcion encapsuladora y luego devolviendo la Funcion interna. Vea el ejemplo a continuación.\n",
    "\n",
    "*Ejemplo:*"
   ]
  },
  {
   "cell_type": "code",
   "execution_count": null,
   "metadata": {},
   "outputs": [],
   "source": [
    "def add_ten():\n",
    "    ten = 10\n",
    "    \n",
    "    \n",
    "    def add(num):\n",
    "        return num + ten\n",
    "    \n",
    "    return add\n",
    "\n",
    "\n",
    "resultado_de_cierre = add_ten()\n",
    "\n",
    "print(resultado_de_cierre(5))    # 15\n",
    "print(resultado_de_cierre(10))   # 20"
   ]
  },
  {
   "cell_type": "markdown",
   "metadata": {},
   "source": [
    "---\n",
    "\n",
    "## Decoradores de Python\n",
    "\n",
    "Un decorador es un patrón de diseño en Python que permite a un usuario agregar una nueva funcionionalidad a un objeto \n",
    "existente sin modificar su estructura. Los decoradores generalmente se llaman antes de la definición de una Funcion \n",
    "que desea decorar.\n",
    "\n",
    "## Crear decoradores\n",
    "\n",
    "Para crear una Funcion decoradora, necesitamos una Funcion externa con una Funcion contenedora interna.\n",
    "\n",
    "*Ejemplo:*"
   ]
  },
  {
   "cell_type": "code",
   "execution_count": null,
   "metadata": {},
   "outputs": [],
   "source": [
    "# funcion normal\n",
    "def saludo():\n",
    "    return 'Bien venido a Python'\n",
    "\n",
    "\n",
    "def decorador_en_mayusculas(funcion):\n",
    "    def envoltorio():\n",
    "        funcion = funcion()\n",
    "        convertir_a_mayusculas = funcion.upper()\n",
    "        \n",
    "        return convertir_a_mayusculas\n",
    "    \n",
    "    return envoltorio\n",
    "\n",
    "\n",
    "g = decorador_en_mayusculas(saludo)\n",
    "print(g())  # BIENVENIDO A PYTHON\n"
   ]
  },
  {
   "cell_type": "markdown",
   "metadata": {},
   "source": [
    "## Implementemos el ejemplo anterior con un decorador\n",
    "\n",
    "Esta Funcion decoradora es una Funcion de orden superior que toma una Funcion como parámetro."
   ]
  },
  {
   "cell_type": "code",
   "execution_count": null,
   "metadata": {},
   "outputs": [],
   "source": [
    "def decorador_en_mayusculas(funcion):\n",
    "    def envoltorio():\n",
    "        funcion = funcion()\n",
    "        convertir_a_mayusculas = funcion.upper()\n",
    "        \n",
    "        return convertir_a_mayusculas\n",
    "    \n",
    "    return envoltorio\n",
    "\n",
    "\n",
    "@decorador_en_mayusculas\n",
    "def saludo():\n",
    "    return 'Bienvenido a Python'\n",
    "\n",
    "\n",
    "print(saludo())  # BIENVENIDO A PYTHON\n"
   ]
  },
  {
   "cell_type": "markdown",
   "metadata": {},
   "source": [
    "## Aceptar parámetros en funciones de decorador\n",
    "\n",
    "La mayoría de las veces necesitamos que nuestras funciones tomen parámetros, por lo que es posible que debamos \n",
    "definir un decorador que acepte parámetros."
   ]
  },
  {
   "cell_type": "code",
   "execution_count": 8,
   "metadata": {},
   "outputs": [
    {
     "name": "stdout",
     "output_type": "stream",
     "text": [
      "Yo soy Juan Perez. Yo amo Python.\n",
      "Yo vivo en Portugal.\n"
     ]
    }
   ],
   "source": [
    "def decorador_con_parametros(funcion):\n",
    "    def envoltorio_aceptando_parametros(parametro_1, parametro_2, parametro_3):\n",
    "        funcion(parametro_1, parametro_2, parametro_3)\n",
    "        print(\"Yo vivo en {}.\".format(parametro_3))\n",
    "    \n",
    "    return envoltorio_aceptando_parametros\n",
    "\n",
    "\n",
    "@decorador_con_parametros\n",
    "def imprimir_nombre_completo(nombre, apellido, pais):\n",
    "    print(\"Yo soy {} {}. Yo amo Python.\".format(nombre, apellido, pais))\n",
    "    \n",
    "\n",
    "imprimir_nombre_completo('Enrique', 'Jimenez', 'España')\n"
   ]
  },
  {
   "cell_type": "markdown",
   "metadata": {},
   "source": [
    "---\n",
    "\n",
    "## Funciones integradas de orden superior\n",
    "\n",
    "Algunas de las funciones integradas de orden superior que cubrimos en esta parte son `map()`, `filter()` y `reduce()`. \n",
    "La Funcion lambda se puede pasar como un parámetro y el mejor caso de uso de las funciones lambda es en \n",
    "funciones como map, filter y reduce.\n",
    "\n",
    "---\n",
    "\n",
    "## Python - funcion `map()`\n",
    "\n",
    "La funcion `map()` es una funcion integrada que toma una funcion y es iterable como parámetros.\n",
    "\n",
    "*Sintaxis:*\n",
    "\n",
    "```python\n",
    "map(funcion, iterable)\n",
    "```\n",
    "\n",
    "*Ejemplo 1:*\n"
   ]
  },
  {
   "cell_type": "code",
   "execution_count": null,
   "metadata": {},
   "outputs": [],
   "source": [
    "numeros = [1, 2, 3, 4, 5]       # iterable\n",
    "\n",
    "\n",
    "def cuadrado(x):\n",
    "    return x ** 2\n",
    "\n",
    "\n",
    "numeros_cuadrados = map(cuadrado, numeros)\n",
    "\n",
    "print(list(numeros_cuadrados))    # [1, 4, 9, 16, 25]"
   ]
  },
  {
   "cell_type": "markdown",
   "metadata": {},
   "source": [
    "## Vamos a aplicarlo con una Funcion lambda"
   ]
  },
  {
   "cell_type": "code",
   "execution_count": null,
   "metadata": {},
   "outputs": [],
   "source": [
    "numeros_cuadrados = map(lambda x : x ** 2, numeros)\n",
    "\n",
    "print(list(numeros_cuadrados))  # [1, 4, 9, 16, 25]"
   ]
  },
  {
   "cell_type": "markdown",
   "metadata": {},
   "source": [
    "*Ejemplo 2:*"
   ]
  },
  {
   "cell_type": "code",
   "execution_count": null,
   "metadata": {},
   "outputs": [],
   "source": [
    "numeros_str = ['1', '2', '3', '4', '5']  # iterable\n",
    "numeros_int = map(int, numeros_str)\n",
    "\n",
    "print(list(numeros_int))  # [1, 2, 3, 4, 5]"
   ]
  },
  {
   "cell_type": "markdown",
   "metadata": {},
   "source": [
    "*Ejemplo 3:*"
   ]
  },
  {
   "cell_type": "code",
   "execution_count": null,
   "metadata": {},
   "outputs": [],
   "source": [
    "nombres = ['Enrique', 'Alicia', 'Carlos', 'Ricardo']  # iterable\n",
    "\n",
    "\n",
    "def cambiar_a_mayuscula(nombre):\n",
    "    return nombre.upper()\n",
    "\n",
    "\n",
    "nombres_mayusculas = map(cambiar_a_mayuscula, nombres)\n",
    "\n",
    "print(list(nombres_mayusculas))  # ['Enrique', 'Alicia', 'Carlos', 'Ricardo']"
   ]
  },
  {
   "cell_type": "markdown",
   "metadata": {},
   "source": [
    "## Apliquémoslo con una Funcion lambda"
   ]
  },
  {
   "cell_type": "code",
   "execution_count": null,
   "metadata": {},
   "outputs": [],
   "source": [
    "nombres_mayusculas = map(lambda nombre: nombre.upper(), nombres)\n",
    "\n",
    "print(list(nombres_mayusculas))    # ['Enrique', 'Alicia', 'Carlos', 'Ricardo']"
   ]
  },
  {
   "cell_type": "markdown",
   "metadata": {},
   "source": [
    "Lo que realmente hace el map es iterar sobre una lista. Por ejemplo, cambia los nombres a mayúsculas y devuelve \n",
    "una nueva lista.\n",
    "\n",
    "---\n",
    "\n",
    "## Python - Funcion `filter()`\n",
    "\n",
    "La Funcion `filter()` llama a la Funcion especificada que devuelve un valor `booleano` para cada elemento de la \n",
    "iterable (lista) especificada. Filtra los elementos que cumplen los criterios de filtrado.\n",
    "\n",
    "*Sintaxis:*\n",
    "\n",
    "```python\n",
    "filter(funcion, iterable)\n",
    "```\n",
    "\n",
    "*Ejemplo 1:*"
   ]
  },
  {
   "cell_type": "code",
   "execution_count": null,
   "metadata": {},
   "outputs": [],
   "source": [
    "# Permite filtrar solo numeros pares\n",
    "numeros = [1, 2, 3, 4, 5]       # iterable\n",
    "\n",
    "\n",
    "def es_par(num):\n",
    "    if num % 2 == 0:\n",
    "        return True\n",
    "    \n",
    "    return False\n",
    "\n",
    "\n",
    "numeros_pares = filter(es_par, numeros)\n",
    "\n",
    "print(list(numeros_pares))       # [2, 4]"
   ]
  },
  {
   "cell_type": "markdown",
   "metadata": {},
   "source": [
    "*Ejemplo 2:*"
   ]
  },
  {
   "cell_type": "code",
   "execution_count": null,
   "metadata": {},
   "outputs": [],
   "source": [
    "numeros = [1, 2, 3, 4, 5]       # iterable\n",
    "\n",
    "\n",
    "def es_impar(num):\n",
    "    if num % 2 != 0:\n",
    "        return True\n",
    "    \n",
    "    return False\n",
    "\n",
    "\n",
    "numeros_impares = filter(es_impar, numeros)\n",
    "\n",
    "print(list(numeros_impares))        # [1, 3, 5]"
   ]
  },
  {
   "cell_type": "markdown",
   "metadata": {},
   "source": [
    "---\n",
    "\n",
    "## Filtrar nombre por longitud"
   ]
  },
  {
   "cell_type": "code",
   "execution_count": null,
   "metadata": {},
   "outputs": [],
   "source": [
    "nombres = ['Enrique', 'Alicia', 'Carlos', 'Ricardo']  # iterable\n",
    "\n",
    "\n",
    "def es_nombre_largo(nombre):\n",
    "    if len(nombre) > 6:\n",
    "        return True\n",
    "    \n",
    "    return False\n",
    "\n",
    "\n",
    "nombres_largos = filter(es_nombre_largo, nombres)\n",
    "\n",
    "print(list(nombres_largos))  # ['Ricardo']"
   ]
  },
  {
   "cell_type": "markdown",
   "metadata": {},
   "source": [
    "---\n",
    "\n",
    "## Python - Funcion `reduce()`\n",
    "\n",
    "La Funcion `reduce()` está definida en el módulo funciontools y debemos importarla desde este módulo. \n",
    "Al igual que el `map()` y el `filter()`, toma dos parámetros, una Funcion y un iterable. Sin embargo, no \n",
    "devuelve otro iterable, sino un solo valor.\n",
    "\n",
    "*Ejemplo:*"
   ]
  },
  {
   "cell_type": "code",
   "execution_count": null,
   "metadata": {},
   "outputs": [],
   "source": [
    "from funciontools import reduce\n",
    "\n",
    "numeros_str = ['1', '2', '3', '4', '5']  # iterable\n",
    "\n",
    "\n",
    "def add_two_numeros(x, y):\n",
    "    return int(x) + int(y)\n",
    "\n",
    "\n",
    "total = reduce(add_two_numeros, numeros_str)\n",
    "\n",
    "print(total)  # 15"
   ]
  }
 ],
 "metadata": {
  "kernelspec": {
   "display_name": "Python 3",
   "language": "python",
   "name": "python3"
  },
  "language_info": {
   "codemirror_mode": {
    "name": "ipython",
    "version": 3
   },
   "file_extension": ".py",
   "mimetype": "text/x-python",
   "name": "python",
   "nbconvert_exporter": "python",
   "pygments_lexer": "ipython3",
   "version": "3.11.8"
  }
 },
 "nbformat": 4,
 "nbformat_minor": 2
}
