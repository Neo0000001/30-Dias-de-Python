{
 "cells": [
  {
   "cell_type": "markdown",
   "metadata": {},
   "source": [
    "<font size=6 color='red'>30 Dias de Python: Dia 13 - Comprension de listas (List Comprehension)</font>\n",
    "\n",
    "---\n",
    "\n",
    "## Comprension de listas\n",
    "\n",
    "La comprensión de listas en Python es una forma compacta de crear una lista a partir de una secuencia. \n",
    "Es una forma corta de crear una nueva lista. La comprensión de listas es considerablemente más rápida \n",
    "que procesar una lista usando el `bucle for`.\n",
    "\n",
    "*Sintaxis:*\n",
    "\n",
    "```python\n",
    "[i for i in iterable if expression]\n",
    "\n",
    "```\n",
    "\n",
    "\n",
    "Por ejemplo, si desea cambiar una cadena a una lista de caracteres. Puedes usar un par de métodos. Veamos algunos de ellos.\n",
    "\n",
    "___\n",
    "\n",
    "## Metodo uno\n",
    "\n",
    "*Ejemplo:*\n"
   ]
  },
  {
   "cell_type": "code",
   "execution_count": null,
   "metadata": {},
   "outputs": [],
   "source": [
    "cadena = 'Python'\n",
    "lista = list(cadena)   # Cambiando el string a list\n",
    "\n",
    "print(type(lista))     # list\n",
    "print(lista)           # ['P', 'y', 't', 'h', 'o', 'n']"
   ]
  },
  {
   "cell_type": "markdown",
   "metadata": {},
   "source": [
    "___\n",
    "\n",
    "## Metodo dos: Comprension de lista\n",
    "\n",
    "*Ejemplo:*"
   ]
  },
  {
   "cell_type": "code",
   "execution_count": null,
   "metadata": {},
   "outputs": [],
   "source": [
    "cadena = 'Python'\n",
    "lista = [i for i in cadena]\n",
    "\n",
    "print(type(lista))  # list\n",
    "print(lista)        # ['P', 'y', 't', 'h', 'o', 'n']"
   ]
  },
  {
   "cell_type": "markdown",
   "metadata": {},
   "source": [
    "*Otro ejemplo:*"
   ]
  },
  {
   "cell_type": "code",
   "execution_count": null,
   "metadata": {},
   "outputs": [],
   "source": [
    "numeros = [1, 2, 3, 4, 5]\n",
    "cuadrados = [numero**2 for numero in numeros]\n",
    "\n",
    "print(cuadrados)  # [1, 4, 9, 16, 25]"
   ]
  },
  {
   "cell_type": "markdown",
   "metadata": {},
   "source": [
    "También se pueden añadir una condicional para filtrar los elementos del iterable.\n",
    "\n",
    "*Ejemplo:*"
   ]
  },
  {
   "cell_type": "code",
   "execution_count": null,
   "metadata": {},
   "outputs": [],
   "source": [
    "numeros = [1, 2, 3, 4, 5, 6, 7, 8, 9, 10]\n",
    "pares = [numero for numero in numeros if numero % 2 == 0]\n",
    "\n",
    "print(pares)  # [2, 4, 6, 8, 10]"
   ]
  },
  {
   "cell_type": "markdown",
   "metadata": {},
   "source": [
    "Comprension de listas (`List Comprehension`) es una forma concisa y eficiente de crear listas y se utilizan ampliamente en Python debido \n",
    "a su simplicidad y expresividad.\n",
    "\n",
    "---\n",
    "\n",
    "## Función Lambda\n",
    "\n",
    "La función `lambda` es una pequeña función anónima sin nombre. Puede tomar cualquier número de argumentos, \n",
    "pero solo puede tener una expresión. La función Lambda es similar a las funciones anónimas en JavaScript. \n",
    "Lo necesitamos cuando queremos escribir una función anónima dentro de otra función.\n",
    "\n",
    "## Creación de una función Lambda\n",
    "\n",
    "Para crear una función `lambda`, usamos la palabra clave lambda seguida de un `parámetro`, seguido de una `expresión`. \n",
    "Consulte la sintaxis y el ejemplo a continuación. La función `Lambda no usa return` pero devuelve explícitamente la expresión.\n",
    "\n",
    "*Sintaxis:*\n",
    "\n",
    "```python\n",
    "x = lambda parametros: expresion\n",
    "x = lambda param1, param2, param3: param1 + param2 + param2\n",
    "\n",
    "print(x(arg1, arg2, arg3))\n",
    "\n",
    "```\n",
    "\n",
    "*Ejemplo:*"
   ]
  },
  {
   "cell_type": "code",
   "execution_count": null,
   "metadata": {},
   "outputs": [],
   "source": [
    "# La función lambda se define con la palabra reservada \"lambda\" seguida de los parámetros y una expresión.\n",
    "\n",
    "# Crear una función lambda que duplique el valor de entrada\n",
    "doble = lambda x: x * 2\n",
    "\n",
    "# Imprimir el resultado de la función lambda\n",
    "print(doble(5))  # Devuelve 10"
   ]
  },
  {
   "cell_type": "markdown",
   "metadata": {},
   "source": [
    "En este ejemplo, se define una función `lambda` llamada \"`doble`\". Esta función toma un `parámetro` \"`x`\" y lo `multiplica` por `2`. Luego se `invoca` la `función` con el `argumento` ¨`5`¨, y se imprime el resultado, que es `10`.\n",
    "\n",
    "Las funciones lambda en Python son anónimas, cortas y útiles para realizar operaciones sencillas como esta."
   ]
  },
  {
   "cell_type": "markdown",
   "metadata": {},
   "source": [
    "---\n",
    "\n",
    "## Función con nombre\n",
    "\n",
    "*Ejemplo:*"
   ]
  },
  {
   "cell_type": "code",
   "execution_count": null,
   "metadata": {},
   "outputs": [],
   "source": [
    "def suma_dos_numeros(a, b):\n",
    "    return a + b\n",
    "\n",
    "\n",
    "print(suma_dos_numeros(2, 3))       # 5\n",
    "\n",
    "\n",
    "# Vamos a cambiar la función anterior a una función lambda\n",
    "suma_dos_numeros = lambda a, b: a + b\n",
    "\n",
    "print(suma_dos_numeros(2, 3))        # 5"
   ]
  },
  {
   "cell_type": "markdown",
   "metadata": {},
   "source": [
    "---\n",
    "\n",
    "## Función Lambda de invocación automática\n",
    "\n",
    "En Python, las funciones lambda de invocación automática no son un concepto explícito como en JavaScript. Sin embargo, puedes lograr un efecto similar creando una función lambda y llamándola de inmediato.\n",
    "\n",
    "*Ejemplo:*"
   ]
  },
  {
   "cell_type": "code",
   "execution_count": null,
   "metadata": {},
   "outputs": [],
   "source": [
    "(lambda: print(\"Esta función se ejecutará automáticamente.\"))()\n"
   ]
  },
  {
   "cell_type": "markdown",
   "metadata": {},
   "source": [
    "*Salida:*\n",
    "\n",
    "```text\n",
    "Esta función se ejecutará automáticamente.\n",
    "\n",
    "```\n",
    "\n",
    "\n",
    "\n",
    "En este caso, se define una función lambda que imprime un mensaje y luego se llama inmediatamente. Esta técnica puede ser útil cuando necesitas aislar código, encapsular datos o ejecutar código de forma aislada dentro de una función.\n",
    "Sin embargo, en Python, es más común utilizar funciones normales para esta finalidad, especialmente cuando la función necesita realizar tareas complejas o utilizar más de una expresión. A diferencia de JavaScript, Python no tiene una necesidad tan urgente de encapsular código dentro de funciones de invocación automática debido a su estilo de programación orientado a objetos y la organización del código en módulos."
   ]
  },
  {
   "cell_type": "markdown",
   "metadata": {},
   "source": [
    "---\n",
    "\n",
    "## Multiples variables\n",
    "\n",
    "*Ejemplo:*"
   ]
  },
  {
   "cell_type": "code",
   "execution_count": null,
   "metadata": {},
   "outputs": [],
   "source": [
    "def multiples_variables(a, b, c): return a**2 - 3 * b + 4 * c\n",
    "\n",
    "\n",
    "print(multiples_variables(5, 5, 3))  # 22"
   ]
  },
  {
   "cell_type": "markdown",
   "metadata": {},
   "source": [
    "---\n",
    "\n",
    "## Función Lambda dentro de otra función\n",
    "\n",
    "Sí, es posible utilizar una función `lambda` dentro de otra función en Python. Esto es útil cuando se quiere pasar una función como argumento a otra función y se quiere evitar la creación de una función con nombre adicional.\n",
    "Por ejemplo, la función `filter()` toma dos argumentos: una función y un iterable. La función se utiliza para filtrar los elementos del iterable. En lugar de definir una función con nombre para pasar como primer argumento, se puede utilizar una función lambda.\n",
    "\n",
    "*Ejemplo:*"
   ]
  },
  {
   "cell_type": "code",
   "execution_count": null,
   "metadata": {},
   "outputs": [],
   "source": [
    "def filtrar_numeros(numeros, condicion):\n",
    "    return filter(condicion, numeros)\n",
    "\n",
    "\n",
    "numeros = [1, 2, 3, 4, 5, 6, 7, 8, 9, 10]\n",
    "pares = filtrar_numeros(numeros, lambda numero: numero % 2 == 0)\n",
    "\n",
    "print(list(pares))  # [2, 4, 6, 8, 10]\n",
    "\n",
    "\n",
    "def potencia(x):\n",
    "    return lambda numero: x**numero\n",
    "\n",
    "\n",
    "# La función potencia ahora necesita 2 argumentos para ejecutarse, en paréntesis redondeados separados\n",
    "cubo = potencia(2)(3)\n",
    "print(cubo)  # 8\n",
    "\n",
    "potencia_de_dos_elevado_cinco = potencia(2)(5)\n",
    "print(potencia_de_dos_elevado_cinco)  # 32"
   ]
  }
 ],
 "metadata": {
  "kernelspec": {
   "display_name": "Unidad5",
   "language": "python",
   "name": "python3"
  },
  "language_info": {
   "codemirror_mode": {
    "name": "ipython",
    "version": 3
   },
   "file_extension": ".py",
   "mimetype": "text/x-python",
   "name": "python",
   "nbconvert_exporter": "python",
   "pygments_lexer": "ipython3",
   "version": "3.12.3"
  }
 },
 "nbformat": 4,
 "nbformat_minor": 2
}
