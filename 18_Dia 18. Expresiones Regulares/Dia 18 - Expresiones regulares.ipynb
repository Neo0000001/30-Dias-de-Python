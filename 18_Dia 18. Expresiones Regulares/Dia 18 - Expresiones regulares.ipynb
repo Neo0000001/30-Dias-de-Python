{
 "cells": [
  {
   "cell_type": "markdown",
   "metadata": {},
   "source": [
    "<font size=6 color=red>30 días de Python: Día 18 - Expresiones regulares</font>\n",
    "\n",
    "---\n",
    "\n",
    "## Expresiones regulares\n",
    "\n",
    "Las expresiones regulares son expresiones comodín que definen patrones de caracteres a emparejar y extraer de una cadena de texto. \n",
    "Para entenderlo con un ejemplo, definamos “Python” como nuestra expresión regular y “Programa en Python” como nuestra cadena de texto. \n",
    "En este caso, nuestra cadena de texto contiene una instancia de nuestra expresión regular. Si bien este ejemplo ilustrativo puede resultar sencillo, en este post veremos como las expresiones regulares se ayudan de caracteres especiales para poder emparejar cualquier patrón de texto, pudiendo llegar a considerarse un lenguaje en sí mismas. También cabe mencionar que las expresiones regulares no son una característica exclusiva de Python, ya que también están presentes en otros lenguajes de programación como Java, JavaScript, Ruby, entre otros.\n",
    "\n",
    "Una expresión regular o RegEx es una cadena de texto especial que ayuda a encontrar patrones en los datos. \n",
    "Se puede usar un RegEx para verificar si existe algún patrón en un tipo de datos diferente. Para usar RegEx en python primero debemos importar el módulo RegEx que se llama re.\n"
   ]
  },
  {
   "cell_type": "markdown",
   "metadata": {},
   "source": [
    "---\n",
    "\n",
    "## El módulo re\n",
    "\n",
    "Después de importar el módulo, podemos usarlo para detectar o encontrar patrones.\n",
    "\n",
    "```python\n",
    "import re\n",
    "\n",
    "```\n"
   ]
  },
  {
   "cell_type": "markdown",
   "metadata": {},
   "source": [
    "---\n",
    "\n",
    "## Métodos para usar expresiones regulares en Python\n",
    "\n",
    "El uso de las expresiones regulares en Python viene dado por el paquete re, que hay que importar a nuestro código.\n",
    "\n",
    "Algunos de los métodos proporcionados en este paquete son:\n",
    "\n",
    "* `re.search(patrón, cadena)`: Busca la primera ocurrencia de la expresión regular definida en patrón dentro del string cadena. \n",
    "\n",
    "El resultado se devuelve en un objeto Match en caso de que exista tal ocurrencia, o en un objeto None en caso contrario.\n",
    "\n",
    "*Ejemplo:*\n",
    "\n",
    "```python\n",
    "import re\n",
    "\n",
    "re.search(\"Python\", \"Programa en Python\")\n",
    "\n",
    "```\n",
    "\n",
    "*Salida:*\n",
    "\n",
    "```python\n",
    "<re.Match object; span=(12, 18), match='Python'>\n",
    "\n",
    "```\n",
    "\n",
    "* `re.findall(patrón, cadena)`: Devuelve una lista que contiene todas las ocurrencias de la expresión regular definida en patrón dentro del string cadena. Las ocurrencias se devuelven en el mismo orden en que se han encontrado.\n",
    "\n",
    "*Ejemplo:*\n",
    "\n",
    "```python\n",
    "import re\n",
    "\n",
    "re.findall(\"Python\", \"Programa en Python es mi blog favorito de Python, y gracias a él me estoy convirtiendo en todo un Pythonista.\")\n",
    "\n",
    "```\n",
    "\n",
    "*Salida:*\n",
    "\n",
    "```python\n",
    "['Python', 'Python', 'Python']\n",
    "\n",
    "```\n",
    "\n",
    "* `re.split(separador, cadena)`: Divide la cadena tomando en cuenta las ocurrencias del separador. El resultado se devuelve en una lista.\n",
    "\n",
    "*Ejemplo:*\n",
    "\n",
    "\n",
    "```python\n",
    "re.split(\"@\",\"nombre.apellido@ejemplo.tld\")\n",
    "\n",
    "```\n",
    "\n",
    "*Salida:*\n",
    "\n",
    "```python\n",
    "['nombre.apellido', 'ejemplo.tld']\n",
    "\n",
    "```"
   ]
  },
  {
   "cell_type": "markdown",
   "metadata": {},
   "source": [
    "---\n",
    "\n",
    "## Caracteres para definir expresiones regulares\n",
    "\n",
    "Hasta ahora hemos visto ejemplos muy simples del uso de las expresiones regulares. En este apartado vamos a ver los distintos caracteres o comodínes que podemos utilizar para formar patrones de búsqueda más complejos.\n"
   ]
  },
  {
   "cell_type": "markdown",
   "metadata": {},
   "source": [
    "---\n",
    "\n",
    "## Inicio y fin de línea: ^, $\n",
    "\n",
    "Los símbolos de acento circunflejo (^) y dólar ($) indican que nuestro patrón de búsqueda debe contener respectivamente el inicio o fin de una línea en una cadena de texto. En el siguiente ejemplo, la expresión regular ‘^Python’ busca ocurrencias de la cadena Python al inicio de la línea, y por eso el método findall() devuelve sólo una ocurrencia a pesar de que la frase contenga dos veces la cadena ‘Python’.\n"
   ]
  },
  {
   "cell_type": "code",
   "execution_count": null,
   "metadata": {},
   "outputs": [],
   "source": [
    "import re\n",
    "\n",
    "frase = \"Python no sólo es un lenguaje de programación, Python es mi lenguaje de programacón favorito.\"\n",
    "patron = '^Python'\n",
    "re.findall(patron, frase)"
   ]
  },
  {
   "cell_type": "markdown",
   "metadata": {},
   "source": [
    "*Salida:*\n",
    "\n",
    "```python\n",
    "['Python']\n",
    "\n",
    "```"
   ]
  },
  {
   "cell_type": "code",
   "execution_count": null,
   "metadata": {},
   "outputs": [],
   "source": [
    "frase = \"Me gusta aprender Python y programar en Python\"\n",
    "patron = 'Python$'\n",
    "\n",
    "re.findall(patron, frase)"
   ]
  },
  {
   "cell_type": "markdown",
   "metadata": {},
   "source": [
    "*Salida:*\n",
    "\n",
    "```python\n",
    "['Python']\n",
    "\n",
    "```"
   ]
  },
  {
   "cell_type": "markdown",
   "metadata": {},
   "source": [
    "---\n",
    "\n",
    "## Coincidencia de caracteres: ., \\s, \\S\n",
    "\n",
    "Los símbolos ., \\s y \\S indican respectivamente cualquier carácter, espacio en blanco y cualquier carácter a excepción del espacio en blanco. En el siguiente ejemplo, ‘^.ython’ busca al principio de la línea (^) cualquier carácter (.) seguido por la cadena ‘ython’. \n",
    "\n",
    "Es decir, palabras como Aython, Bython, Cython, etc. a principio de línea se interpretan como una coincidencia. Sin embargo, la expresión regular ‘\\s.ython’ empareja en la frase de ejemplo con ‘ Nython’ y ‘ Python’, ya que esta expresión regular busca un espacio en blanco al principio de la ocurrencia."
   ]
  },
  {
   "cell_type": "code",
   "execution_count": null,
   "metadata": {},
   "outputs": [],
   "source": [
    "import re\n",
    "\n",
    "frase = \"Cython no es ningún lenguaje de programación y Nython tampoco pero Python sí\"\n",
    "patron = '^.ython'\n",
    "palabras = re.findall(patron, frase)"
   ]
  },
  {
   "cell_type": "markdown",
   "metadata": {},
   "source": [
    "*Salida:*\n",
    "\n",
    "```python\n",
    "['Cython']\n",
    "\n",
    "```"
   ]
  },
  {
   "cell_type": "code",
   "execution_count": null,
   "metadata": {},
   "outputs": [],
   "source": [
    "patron = '\\\\s.ython'\n",
    "palabras = re.findall(patron, frase)"
   ]
  },
  {
   "cell_type": "markdown",
   "metadata": {},
   "source": [
    "*Salida:*\n",
    "\n",
    "```python\n",
    "[' Nython', ' Python']\n",
    "\n",
    "```"
   ]
  },
  {
   "cell_type": "markdown",
   "metadata": {},
   "source": [
    "---\n",
    "\n",
    "## Caracteres de repetición:\n",
    "\n",
    "```text\n",
    " *, +, ?\n",
    "\n",
    "```\n",
    "\n",
    "Estos tres caracteres tienen el siguiente significado:\n",
    "\n",
    "\n",
    "* `*` : indica la repetición de un carácter cero o más veces.\n",
    "* `+` : indica la repetición de un carácter una o más veces.\n",
    "* `?` : Es el carácter reluctant o cuantificador reacio. Añadido a cualquiera de los anteriores se contará con la ocurrencia más corta posible.\n",
    "\n",
    "\n",
    "El siguiente ejemplo ilustra el uso del cuantificador reacio. El primer patrón: ‘`.+n`’, busca cualquier repetición de caracteres que termine en ‘n’. Como la última palabra de la frase termina en ‘n’, el resultado de la búsqueda retorna la frase entera. Sin embargo, al añadir el cuantificador reacio al patrón: ‘`.+?n`’ el resultado de la búsqueda resulta más restrictiva ya que ésta contiene todas las secuencias de caracteres terminadas en ‘n’.\n"
   ]
  },
  {
   "cell_type": "code",
   "execution_count": null,
   "metadata": {},
   "outputs": [],
   "source": [
    "import re\n",
    "\n",
    "frase = \"Ramón y Román programan en Python\"\n",
    "patron = '.+n'\n",
    "re.findall(patron, frase)"
   ]
  },
  {
   "cell_type": "markdown",
   "metadata": {},
   "source": [
    "*Salida:*\n",
    "\n",
    "```python\n",
    "['Ramón y Román programan en Python']\n",
    "\n",
    "```"
   ]
  },
  {
   "cell_type": "code",
   "execution_count": null,
   "metadata": {},
   "outputs": [],
   "source": [
    "patron = '.+?n'\n",
    "re.findall(patron, frase)"
   ]
  },
  {
   "cell_type": "markdown",
   "metadata": {},
   "source": [
    "*Salida:*\n",
    "\n",
    "```python\n",
    "['Ramón', ' y Román', ' programan', ' en', ' Python']\n",
    "\n",
    "```"
   ]
  },
  {
   "cell_type": "markdown",
   "metadata": {},
   "source": [
    "---\n",
    "\n",
    "##  Conjunto de caracteres: [], [^]\n",
    "\n",
    "Encerrando un conjunto de caracteres entre corchetes ([]) indica cualquiera de los caracteres especificados. Así, el patrón [abc] coincidiría con las secuencias ‘a’, ‘b’ o ‘c’. El siguiente ejemplo ilustra el uso de los corchetes. En él podemos ver que patrón ‘[CN]ython’ no encuentra coincidencia con la secuencia ‘Python’ de la frase, ya que ‘P’ no está dentro de los corchetes.\n"
   ]
  },
  {
   "cell_type": "code",
   "execution_count": null,
   "metadata": {},
   "outputs": [],
   "source": [
    "import re\n",
    "\n",
    "frase = \"Cython no es ningún lenguaje de programación y Nython tampoco pero Python sí\"\n",
    "patron = '[CN]ython'\n",
    "\n",
    "re.findall(patron, frase)"
   ]
  },
  {
   "cell_type": "markdown",
   "metadata": {},
   "source": [
    "*Salida:*\n",
    "\n",
    "```python\n",
    "['Cython', 'Nython']\n",
    "\n",
    "```\n",
    "\n",
    "El acento circunflejo (^) al principio de la secuencia entre corchetes se utiliza para indicar negación. Es decir la no coincidencia con los caracteres especificados. Un ejemplo de uso puede ser la separación de las palabras de una frase excluyendo sus signos de puntuación."
   ]
  },
  {
   "cell_type": "code",
   "execution_count": null,
   "metadata": {},
   "outputs": [],
   "source": [
    "import re\n",
    "\n",
    "frase = \"¡Esto es una frase! Además contiene signos de puntuación. ¿Los eliminamos?\"\n",
    "patron = '[^¡!.¿? ]+'\n",
    "\n",
    "re.findall(patron, frase)"
   ]
  },
  {
   "cell_type": "markdown",
   "metadata": {},
   "source": [
    "*Salida:*\n",
    "\n",
    "```python\n",
    "['Esto', 'es', 'una', 'frase', 'Además', 'contiene', 'signos', 'de', 'puntuación', 'Los', 'eliminamos']\n",
    "\n",
    "```"
   ]
  },
  {
   "cell_type": "markdown",
   "metadata": {},
   "source": [
    "---\n",
    "\n",
    "## Rangos de caracteres: [a-z]\n",
    "\n",
    "Dentro de los conjuntos de caracteres también podemos especificar rangos añadiendo un guión a la secuencia. Algunos ejemplos de \n",
    "uso son los siguientes:\n",
    "\n",
    "```python\n",
    "[a-z]+       # Indica una secuencia de letras minúsculas.\n",
    "[A-Z]+       # Se usa para encontrar secuencias de letras mayúsculas.\n",
    "[a-zA-Z]+    # Es para secuencias de letras mayúsculas o minúsculas.\n",
    "[A-Z][a-z]+  # Secuencias de una letra mayúscula seguida de una o más letras mayúsculas.\n",
    "[0-9]+       # Para secuencias de números de uno o más dígitos.\n",
    "\n",
    "```\n"
   ]
  },
  {
   "cell_type": "code",
   "execution_count": null,
   "metadata": {},
   "outputs": [],
   "source": [
    "import re\n",
    "\n",
    "frase = \"Tengo 2 hijos que tienen 15 y 11 años\"\n",
    "patron = '[0-9]+'\n",
    "\n",
    "re.findall(patron, frase)"
   ]
  },
  {
   "cell_type": "markdown",
   "metadata": {},
   "source": [
    "*Salida:*\n",
    "\n",
    "```python\n",
    "['2', '15', '11']\n",
    "\n",
    "```"
   ]
  },
  {
   "cell_type": "markdown",
   "metadata": {},
   "source": [
    "---\n",
    "\n",
    "## Inicio y fin de la extracción: ()\n",
    "\n",
    "Los paréntesis `()` no forman parte del patrón a comprobar, pero indican respectivamente dónde empieza y termina la extracción del texto.\n",
    "\n",
    "Un caso de uso es la extracción de dominios en direcciones de correo electrónico. Esta operación la podemos realizar mediante el patrón: ‘`@([^ ]*)`’ En este caso sabemos que el dominio viene después de un símbolo de arroba (`@`) que indicamos en nuestra expresión regular, seguido de una condición cerrada entre paréntesis ya que no queremos que el resultado contenga arrobas.\n"
   ]
  },
  {
   "cell_type": "code",
   "execution_count": null,
   "metadata": {},
   "outputs": [],
   "source": [
    "import re\n",
    "\n",
    "frase = \"Tengo dos correos electrónicos que son nombre.apellido@dominio.tld y nombre@dominio.com\"\n",
    "patron = '@([^ ]*)'\n",
    "\n",
    "re.findall(patron, frase)"
   ]
  },
  {
   "cell_type": "markdown",
   "metadata": {},
   "source": [
    "*Salida:*\n",
    "\n",
    "```python\n",
    "['dominio.tld', 'dominio.com']\n",
    "\n",
    "```"
   ]
  },
  {
   "cell_type": "markdown",
   "metadata": {},
   "source": [
    "---\n",
    "\n",
    "## Conclusión\n",
    "\n",
    "Hemos visto cómo utilizar expresiones regulares para encontrar patrones de caracteres dentro de un texto. \n",
    "\n",
    "Las expresiones regulares si bien simplifican nuestro código también pueden llegar a ser muy complicadas. Si te encallas o no sabes porqué tus resultados no son los esperados, mi recomendación es que intentes buscar en google ya que probablemente en algún foro de programación alguien tenga la solución que necesitas."
   ]
  }
 ],
 "metadata": {
  "language_info": {
   "name": "python"
  }
 },
 "nbformat": 4,
 "nbformat_minor": 2
}
