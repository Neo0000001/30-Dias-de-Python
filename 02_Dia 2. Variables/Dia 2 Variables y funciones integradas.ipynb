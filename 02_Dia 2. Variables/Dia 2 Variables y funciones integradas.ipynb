{
 "cells": [
  {
   "cell_type": "markdown",
   "metadata": {},
   "source": [
    "<font size=6 color=red>30 días de Python: Día 2 - Variables y Funciones integradas</font>\n",
    "\n",
    "---\n",
    "\n",
    "## Funciones integradas\n",
    "\n",
    "En Python tenemos muchas funciones integradas. Las funciones integradas están disponibles globalmente para su \n",
    "uso, lo que significa que puede hacer uso de las funciones integradas sin importarlas ni configurarlas. \n",
    "Algunas de las funciones integradas de Python más utilizadas son las siguientes:\n",
    "\n",
    "| Funciones |\n",
    "|-----------|\n",
    "| print()   |\n",
    "| len()     |\n",
    "| type()    |\n",
    "| int()     |\n",
    "| float()   |\n",
    "| str()     |\n",
    "| input()   |\n",
    "| list()    |\n",
    "| dict()    |\n",
    "| min()     |\n",
    "| max()     |\n",
    "| sum()     |\n",
    "| sorted()  |\n",
    "| open()    |\n",
    "| file()    |\n",
    "| help()    |\n",
    "| dir()     |\n",
    "\n",
    "\n",
    "En el siguiente enlace, verá una lista exhaustiva de las funciones integradas de Python tomadas de la documentación de Python:\n",
    "\n",
    "https://docs.python.org/3.9/library/functions.html\n",
    "\n",
    "Puede usar el siguiente comando para ver una lista de palabras reservadas en python:"
   ]
  },
  {
   "cell_type": "code",
   "execution_count": null,
   "metadata": {},
   "outputs": [],
   "source": [
    "help('keywords')"
   ]
  },
  {
   "cell_type": "markdown",
   "metadata": {},
   "source": [
    "Python tiene palabras reservadas. No usamos palabras reservadas para declarar variables o funciones. \n",
    "Cubriremos las variables en la siguiente sección."
   ]
  },
  {
   "cell_type": "markdown",
   "metadata": {},
   "source": [
    "---\n",
    "\n",
    "## Variables\n",
    "\n",
    "Las variables almacenan datos en la memoria de una computadora. Se recomienda el uso de \n",
    "variables mnemotécnicas en muchos lenguajes de programación. Una variable mnemotécnica es un nombre de variable que se puede recordar y asociar \n",
    "fácilmente. \n",
    "Una variable se refiere a una dirección de memoria en la que se almacenan los datos. Número al principio, carácter especial, \n",
    "guión no están permitidos al nombrar una variable. Una variable puede tener un nombre corto (como x, y, z), pero se \n",
    "recomienda enfáticamente un nombre más descriptivo (nombre, apellido, edad, país).\n",
    "\n",
    "Reglas de nombres de variables de Python:\n",
    "\n",
    "1. Un nombre de variable debe comenzar con una letra o el carácter de subrayado.\n",
    "2. Un nombre de variable no puede comenzar con un número.\n",
    "3. Un nombre de variable solo puede contener caracteres alfanuméricos y guiones bajos ```(Az, 0-9 y _).```\n",
    "4. Los nombres de las variables distinguen entre mayúsculas y minúsculas (```firstnombre, Firstnombre, FirstNombre y \n",
    "   FIRSTNOMBRE```) son variables diferentes.\n",
    "\n",
    "* *Veamos nombres de variables válidos:*\n",
    "\n",
    "| Nombres de Variables válidos   |\n",
    "|---------------------|\n",
    "| firstnombre         |\n",
    "| lastnombre          |\n",
    "| edad                |\n",
    "| pais                |\n",
    "| ciudad              |\n",
    "| nombre              |\n",
    "| apellido            |\n",
    "| capital_ciudad      |\n",
    "| _if  # Si queremos usar una palabra reservada como variable |\n",
    "| year_2021           |\n",
    "| year2021            |\n",
    "| current_year_2021   |\n",
    "| birth_year          |\n",
    "| num1                |\n",
    "| num2                |\n",
    "\n",
    "\n",
    "* *Nombres de variables no válidos:*\n",
    "\n",
    "| Nombres de variables no válidos|\n",
    "|---------------|\n",
    "| first-nombre  |\n",
    "| first@nombre  |\n",
    "| first$nombre  |\n",
    "| num-1         |\n",
    "| 1num          |\n",
    "\n",
    "\n",
    "Usaremos el estilo estándar de nomenclatura de variables de Python que ha sido adoptado por \n",
    "muchos desarrolladores de Python. \n",
    "Los desarrolladores de Python usan la convención de nomenclatura de variables de caja de serpiente (__`snake_case`__). \n",
    "Usamos un carácter de subrayado después de cada palabra para una variable que contiene más de una palabra (p. ej., nombre, \n",
    "apellido, velocidad de rotación del motor). El siguiente ejemplo es un ejemplo de nomenclatura estándar de variables, se \n",
    "requiere guión bajo cuando el nombre de la variable es más de una palabra.\n",
    "\n",
    "Cuando asignamos un determinado tipo de datos a una variable, se llama declaración de variable. Por ejemplo, en el siguiente ejemplo, mi nombre se asigna a una variable nombre. El signo igual es un operador de asignación. Asignar significa almacenar datos en la variable. El signo igual en Python no es la igualdad como en Matemáticas.\n",
    "\n",
    "---\n",
    "\n",
    "## Variables en Python\n",
    "\n",
    "*Ejemplo:*"
   ]
  },
  {
   "cell_type": "code",
   "execution_count": 2,
   "metadata": {},
   "outputs": [],
   "source": [
    "nombre = 'Juan'\n",
    "apellido = 'Perez'\n",
    "pais = 'Portugal'\n",
    "ciudad = 'Lisboa'\n",
    "edad = 70\n",
    "es_casado = True\n",
    "habilidades = ['HTML', 'CSS', 'JS', 'React', 'Python']\n",
    "informacion_personal = {\n",
    "    'nombre': 'Juan',\n",
    "    'apellido': 'Perez',\n",
    "    'pais': 'Portugal',\n",
    "    'ciudad': 'Lisboa'\n",
    "}"
   ]
  },
  {
   "cell_type": "markdown",
   "metadata": {},
   "source": [
    "Usemos las funciones integradas `print()` y `len()`. La función de `print()` toma un número ilimitado de argumentos. \n",
    "Un argumento es un valor que se puede pasar o poner dentro del paréntesis de la función, vea el ejemplo a continuación.\n",
    "\n",
    "*Ejemplo:*"
   ]
  },
  {
   "cell_type": "code",
   "execution_count": null,
   "metadata": {},
   "outputs": [],
   "source": [
    "print('Hello, World!')              # El texto Hello, World! es un argumento\n",
    "print('Hello', ',', 'World', '!')   # Puede tomar varios argumentos, se han pasado cuatro argumentos\n",
    "print(len('Hello, World!'))         # Solo toma un argumento"
   ]
  },
  {
   "cell_type": "markdown",
   "metadata": {},
   "source": [
    "Imprimimos y también encontremos la longitud de las variables declaradas.\n",
    "\n",
    "*Ejemplo:*"
   ]
  },
  {
   "cell_type": "code",
   "execution_count": null,
   "metadata": {},
   "outputs": [],
   "source": [
    "# Imprimiendo los valores almacenados en las variables\n",
    "print('Nombre:', nombre)\n",
    "print('Longitud nombre:', len(nombre))\n",
    "print('Apellido:', apellido)\n",
    "print('Longitud apellido:', len(apellido))\n",
    "print('Pais:', pais)\n",
    "print('Ciudad:', ciudad)\n",
    "print('Edad:', edad)\n",
    "print('Casado:', es_casado)\n",
    "print('Habilidades:', habilidades)\n",
    "print('Informacion personal:', informacion_personal)"
   ]
  },
  {
   "cell_type": "markdown",
   "metadata": {},
   "source": [
    "---\n",
    "\n",
    "## Declarar múltiples variables en una línea\n",
    "\n",
    "También se pueden declarar múltiples variables en una línea.\n",
    "\n",
    "*Ejemplo:*"
   ]
  },
  {
   "cell_type": "code",
   "execution_count": null,
   "metadata": {},
   "outputs": [],
   "source": [
    "nombre, apellido, pais, edad, es_casado = 'Juan', 'Perez', 'Portugal', 70, True\n",
    "\n",
    "print(nombre, apellido, pais, edad, es_casado)\n",
    "print('Nombre:', nombre)\n",
    "print('Apellido:', apellido)\n",
    "print('Pais:', pais)\n",
    "print('Edad:', edad)\n",
    "print('Casado:', es_casado)"
   ]
  },
  {
   "cell_type": "markdown",
   "metadata": {},
   "source": [
    "Obtener la entrada del usuario usando la función incorporada `input()`. Asignemos los datos que obtenemos de un \n",
    "usuario a las variables nombre y edad.\n",
    "\n",
    "*Ejemplo:*"
   ]
  },
  {
   "cell_type": "code",
   "execution_count": null,
   "metadata": {},
   "outputs": [],
   "source": [
    "nombre = input('Cual es tu nombre: ')\n",
    "edad = input('Que edad tienes? ')\n",
    "\n",
    "print(nombre)\n",
    "print(edad)"
   ]
  },
  {
   "cell_type": "markdown",
   "metadata": {},
   "source": [
    "---\n",
    "\n",
    "## Tipos de datos\n",
    "\n",
    "Hay varios tipos de datos en Python. Para identificar el tipo de datos, usamos la función incorporada `type()`. \n",
    "Me gustaría pedirle que se concentre en comprender muy bien los diferentes tipos de datos. Cuando se trata de programación, \n",
    "se trata de tipos de datos. Introduje los tipos de datos desde el principio y viene de nuevo, porque todos los temas están \n",
    "relacionados con los tipos de datos. Cubriremos los tipos de datos con más detalle en sus respectivas secciones.\n",
    "\n",
    "#### Comprobación de tipos de datos y conversión\n",
    "\n",
    "*Verificar tipos de datos:* Para verificar el tipo de datos de ciertos datos/variables, usamos la funcion `type().`\n",
    "\n",
    "#### Diferentes tipos de datos en Python\n",
    "\n",
    "*Declaramos variables con varios tipos de datos:*\n",
    "\n",
    "```python\n",
    "nombre = 'Juan'     # str\n",
    "apellido = 'Perez'  # str\n",
    "pais = 'Portugal'   # str\n",
    "ciudad = 'Lisboa'   # str\n",
    "edad = 70           # int\n",
    "```\n",
    "\n",
    "*Imprimir tipos de datos:*"
   ]
  },
  {
   "cell_type": "code",
   "execution_count": null,
   "metadata": {},
   "outputs": [],
   "source": [
    "print(type('Juan'))         # str\n",
    "print(type(nombre))         # str\n",
    "print(type(10))             # int\n",
    "print(type(3.14))           # float\n",
    "print(type(1 + 1j))         # complex\n",
    "print(type(True))           # bool\n",
    "print(type([1, 2, 3, 4]))   # list\n",
    "print(type({'nombre': 'Juan', 'edad': 70, 'es_casado': True}))  # dict\n",
    "print(type((1, 2)))                                             # tuple\n",
    "print(type(zip([1, 2], [3, 4])))                                # set"
   ]
  },
  {
   "cell_type": "markdown",
   "metadata": {},
   "source": [
    "`Casting`: Convertir un tipo de datos a otro tipo de datos. Usamos `int()`, `float()`, `str()`, `list()`, `set()`. Cuando hacemos operaciones aritméticas, los números de cadena deben convertirse primero a int o float; de lo contrario, devolverá un error. Si concatenamos un número con una cadena, el número debe convertirse primero en una cadena. Hablaremos sobre la concatenación en la sección String.\n",
    "\n",
    "*Ejemplo:*"
   ]
  },
  {
   "cell_type": "code",
   "execution_count": null,
   "metadata": {},
   "outputs": [],
   "source": [
    "# int a float\n",
    "num_int = 10\n",
    "print('num_int:', num_int)            # num_int: 10\n",
    "num_float = float(num_int)\n",
    "print('num_float:', num_float)        # num_float: 10.0\n",
    "\n",
    "# float a int\n",
    "gravedad = 9.81\n",
    "print('Grabedad:', int(gravedad))     # Grabedad: 9\n",
    "\n",
    "# int a str\n",
    "num_int = 10\n",
    "print('num_str:', str(num_int))       # num_str: 10\n",
    "\n",
    "# str a int\n",
    "num_str = '10'\n",
    "print('num_int:', int(num_str))       # num_int: 10\n",
    "\n",
    "# str a float\n",
    "num_str = '10.6'\n",
    "print('num_float:', float(num_str))   # num_float: 10.6\n"
   ]
  },
  {
   "cell_type": "markdown",
   "metadata": {},
   "source": [
    "Si se intenta convertir una cadena que contiene un número con punto decimal a un entero utilizando la función `int()`, primero \n",
    "hay que convertirlo a `float()`."
   ]
  },
  {
   "cell_type": "code",
   "execution_count": null,
   "metadata": {},
   "outputs": [],
   "source": [
    "num_str = float(num_str)\n",
    "print('num_int:', int(num_str))      # num_int: 10\n",
    "print('num_float:', float(num_str))  # num_float: 10.6\n",
    "\n",
    "# str a list\n",
    "nombre = 'Juan'\n",
    "print(nombre)                        # 'Juan'\n",
    "\n",
    "nombre_a_lista = list(nombre)\n",
    "print(nombre_a_lista)                # ['J', 'u', 'a', 'n']"
   ]
  },
  {
   "cell_type": "markdown",
   "metadata": {},
   "source": [
    "---\n",
    "\n",
    "## Números\n",
    "\n",
    "*Tipos de datos numéricos en Python:*\n",
    "\n",
    "1. Números enteros: números enteros (negativos, cero y positivos) Ejemplo: ... `-3, -2, -1, 0, 1, 2, 3` ...\n",
    "\n",
    "2. Números de coma flotante (números decimales) Ejemplo: ... `-3.5, -2.25, -1.0, 0.0, 1.1, 2.2, 3.5` ...\n",
    "\n",
    "3. Ejemplo de números complejos: `1 + j, 2 + 4j, 1 - 1j`"
   ]
  }
 ],
 "metadata": {
  "kernelspec": {
   "display_name": "Python 3",
   "language": "python",
   "name": "python3"
  },
  "language_info": {
   "codemirror_mode": {
    "name": "ipython",
    "version": 3
   },
   "file_extension": ".py",
   "mimetype": "text/x-python",
   "name": "python",
   "nbconvert_exporter": "python",
   "pygments_lexer": "ipython3",
   "version": "3.11.8"
  },
  "orig_nbformat": 4
 },
 "nbformat": 4,
 "nbformat_minor": 2
}
