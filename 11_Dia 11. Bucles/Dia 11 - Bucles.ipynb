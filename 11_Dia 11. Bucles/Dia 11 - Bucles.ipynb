{
 "cells": [
  {
   "cell_type": "markdown",
   "metadata": {},
   "source": [
    "<font size=6 color='red'>30 días de Python: Día 11 - Bucles</font>\n",
    "\n",
    "---\n",
    "\n",
    "<span style=\"font-family: Roboto; font-size: 1.5em; color: red\">Bucles</span>\n",
    "\n",
    "La vida está llena de rutinas. En programación también hacemos muchas tareas repetitivas. Para manejar tareas repetitivas, los \n",
    "lenguajes de programación usan bucles. El lenguaje de programación Python también proporciona los siguientes tipos de dos bucles:\n",
    "\n",
    "```text\n",
    "1. Blucles while\n",
    "2. Bucles for\n",
    "```\n",
    "\n",
    "\n",
    "---\n",
    "\n",
    "## Bucles While\n",
    "\n",
    "Usamos la palabra reservada `while` para hacer un bucle while. Se utiliza para ejecutar un bloque de declaraciones repetidamente hasta \n",
    "que se cumpla una condición dada. Cuando la condición se vuelve falsa, las líneas de código después del ciclo continuarán ejecutándose.\n",
    "\n",
    "*Sintaxis:*\n",
    "\n",
    "```python\n",
    "while condicion:\n",
    "    el código va aquí\n",
    "```\n",
    "\n",
    "*Ejemplo:*"
   ]
  },
  {
   "cell_type": "code",
   "execution_count": null,
   "metadata": {},
   "outputs": [],
   "source": [
    "contador = 0\n",
    "\n",
    "while contador < 5:\n",
    "    print(contador)\n",
    "    contador = contador + 1\n",
    "\n",
    "# Imprime de 0 a 4"
   ]
  },
  {
   "cell_type": "markdown",
   "metadata": {},
   "source": [
    "En el ciclo while anterior, la condición se vuelve falsa cuando el conteo es 5. Ahí es cuando el ciclo se detiene. \n",
    "Si estamos interesados en ejecutar un bloque de código una vez que la condición ya no sea cierta, podemos usar else.\n",
    "\n",
    "*Sintaxis:*\n",
    "\n",
    "```python\n",
    "while condicion:\n",
    "    El codigo va aqui\n",
    "else:\n",
    "    El codigo va aqui\n",
    "```\n",
    "\n",
    "\n",
    "*Ejemplo:*"
   ]
  },
  {
   "cell_type": "code",
   "execution_count": null,
   "metadata": {},
   "outputs": [],
   "source": [
    "contador = 0\n",
    "\n",
    "while contador < 5:\n",
    "    print(contador)\n",
    "    contador = contador + 1\n",
    "else:\n",
    "    print(contador)\n",
    "    \n",
    "# Imprime de 0 a 4"
   ]
  },
  {
   "cell_type": "markdown",
   "metadata": {},
   "source": [
    "La condición del ciclo será falsa cuando el conteo sea 5 y el ciclo se detenga y la ejecución inicie la instrucción else. Como resultado \n",
    "se imprimirá 5."
   ]
  },
  {
   "cell_type": "markdown",
   "metadata": {},
   "source": [
    "---\n",
    "\n",
    "## Break y Continue - Parte 1\n",
    "\n",
    "#### Break: Usamos `break` cuando queremos salir o detener el bucle.\n",
    "\n",
    "*Sintaxis:*\n",
    "\n",
    "```python\n",
    "while condicion:\n",
    "    codigo va aqui\n",
    "    if otra_condicion:\n",
    "        break\n",
    "```\n",
    "\n",
    "\n",
    "\n",
    "*Ejemplo:*"
   ]
  },
  {
   "cell_type": "code",
   "execution_count": null,
   "metadata": {},
   "outputs": [],
   "source": [
    "count = 0\n",
    "\n",
    "while count < 5:\n",
    "    print(count)\n",
    "    count = count + 1\n",
    "    if count == 3:\n",
    "        break"
   ]
  },
  {
   "cell_type": "markdown",
   "metadata": {},
   "source": [
    "\n",
    "\n",
    "\n",
    "El ciclo `while` anterior solo imprime 0, 1, 2, pero cuando llega a 3 se detiene. \n",
    "\n",
    "---\n",
    "\n",
    "#### Continue: Con la instrucción `continue` podemos omitir la iteración actual y continuar con la siguiente.\n",
    "\n",
    "*Sintaxis:*\n",
    "\n",
    "```python\n",
    "while condicion:\n",
    "    codigo va aqui\n",
    "    if otra_condicion:\n",
    "        continue\n",
    "```\n",
    "\n",
    "*Ejemplo:*"
   ]
  },
  {
   "cell_type": "code",
   "execution_count": null,
   "metadata": {},
   "outputs": [],
   "source": [
    "contador = 0\n",
    "\n",
    "while contador < 5:\n",
    "    if contador == 3:\n",
    "        continue\n",
    "    \n",
    "    print(contador)\n",
    "    contador = contador + 1\n",
    "    \n",
    "# Este bucle while solo imprime 0, 1, 2 y 4 (se salta 3)."
   ]
  },
  {
   "cell_type": "markdown",
   "metadata": {},
   "source": [
    "---\n",
    "\n",
    "## Bucle for\n",
    "\n",
    "El bucle for en Python ejecuta un bloque de código de forma repetitiva, lo que también se puede denominar `iteración`. En particular, los bucles permiten que varios elementos combinados en una misma `colección` sean procesados individualmente según un mismo esquema. \n",
    "\n",
    "Utilizamos un bucle for cuando el tamaño de la colección puede determinarse en el momento de ejecutar el programa. Si no es el caso, se suele utilizar un bucle while.\n",
    "\n",
    "La palabra clave for se usa para hacer un bucle for, similar a otros lenguajes de programación, pero con algunas diferencias de sintaxis. Un bucle se usa para iterar sobre una secuencia (es decir, una lista, una tupla, un diccionario, un conjunto o una cadena).\n",
    "\n",
    "__¿Cómo funciona un bucle for en Python?__\n",
    "\n",
    "Como hemos visto, el bucle for en Python resuelve de forma elegante el problema de iterar sobre los elementos de una colección. \n",
    "Nos permite hacerlo sin los desvíos que implica una variable de bucle numérica. Eso está muy bien, pero ¿cómo funciona exactamente? \n",
    "Para entender el principio de funcionamiento del bucle for en Python, primero es necesario conocer los conceptos de iterable e iterador.\n",
    "\n",
    "__¿Qué es el iterable, el iterador y el generador?__\n",
    "\n",
    "El bucle for en Python opera sobre objetos conocidos como “iterables”. Se trata de strings, listas, tuplas y otros tipos de datos compuestos. En palabras de los documentos oficiales de Python: “[Un iterable es] un objeto capaz de retornar sus miembros de uno en uno”.\n",
    "\n",
    "__Un objeto iterable tiene dos propiedades:__\n",
    "\n",
    "1. Combina varios elementos en una colección.\n",
    "\n",
    "2. Permite el acceso a los elementos a través de una interfaz llamada “`iterador`”.\n",
    "\n",
    "En conjunto, esto significa que los iterables son colecciones cuyo contenido puede ser iterado. En concreto, un iterable tiene un método '__iter__()' que devuelve un iterador. El iterador es un objeto que, con el debido comando, retorna el siguiente elemento del iterable. Además, un iterador recuerda la posición del último elemento devuelto dentro de la colección.\n",
    "\n",
    "\n",
    "| Función               | Explicación                                               | Ejemplo            |\n",
    "|-----------------------|-----------------------------------------------------------|--------------------|\n",
    "| iter(recopilacion)    | Llama al método `__iter__()` de la colección             | `it = iter(\"Python\")` |\n",
    "| next(iter)            | Llama al método `__next__()` del iterador                | `next(it)`          |\n",
    "| recopilacion[indice]  | Llama al método `__getitem__(indice)` de la colección    | `'Python'[1]`       |\n",
    "\n",
    "\n",
    "Un iterador retorna el siguiente elemento cuando se llama al método `__next__()`. Si se han entregado todos los elementos de la colección, el iterador se agota. Otra llamada a `__next__()` genera una excepción 'StopIteration'.\n",
    "\n",
    "Veamos el funcionamiento de un iterador a través de un ejemplo. Creamos un objeto `range()` que representa los números consecutivos del 21 al 23. Posteriormente, creamos un iterador con la función `iter()` y emitimos sucesivamente elementos con la función `next()`. \n",
    "\n",
    "Con la última llamada, se lanza la excepción puesto que el iterador se ha agotado.\n",
    "\n",
    "*Ejemplo:*\n",
    "\n",
    "```python\n",
    "numeros = range(21, 24)\n",
    "numero = iter(numeros)\n",
    "\n",
    "next(numero)\n",
    "# returns `21`\n",
    "next(numero)\n",
    "# returns `22`\n",
    "next(numero)\n",
    "# returns `23`\n",
    "next(numero)\n",
    "# raises `StopIteration` exception\n",
    "```\n",
    "\n",
    "\n",
    "Un iterador permite acceder a elementos individuales de una colección. Python también conoce un concepto semejante conocido como “generador”. La diferencia es que un generador crea elementos individuales solo cuando se accede a ellos. Esto ahorra espacio de memoria durante la ejecución del programa; también se denomina “lazy generation”.\n",
    "\n",
    "Un generador en Python se basa en una función que utiliza la sentencia `yield`. Al igual que la sentencia return, devuelve un objeto y finaliza la función. Sin embargo, cuando se activa nuevamente, la función generador no empieza desde el principio, sino que continúa a partir de la última sentencia `yield`.\n",
    "\n",
    "__Veamos un ejemplo:__ Redactemos nuestra propia implementación de la función `range()`. Utilizamos, para ello, la sentencia `yield` dentro de un `bucle while` para generar números continuos.\n",
    "\n",
    "*Ejemplo:*\n",
    "\n",
    "```python\n",
    "def rango(inicio, final):\n",
    "    if final < inicio:\n",
    "        return None\n",
    "\n",
    "    actual = inicio\n",
    "    while actual < final:\n",
    "        yield actual\n",
    "        actual += 1\n",
    "\n",
    "# Test\n",
    "assert list(rango(7, 9)) == list(range(7, 9))\n",
    "```\n",
    "\n",
    "---\n",
    "\n",
    "## Saltar y cancelar la ejecución del bucle for en Python\n",
    "\n",
    "En la práctica, a veces es necesario saltarse una sola pasada de bucle. Como muchos otros lenguajes, Python dispone de la sentencia \n",
    "continue. Cuando se ejecuta un continue dentro del cuerpo del bucle, se aborta la iteración actual e inicia inmediatamente la \n",
    "siguiente iteración.\n",
    "\n",
    "Una sentencia continue puede utilizarse de forma similar al early return mientas se ejecuta una función. Por ejemplo, después de \n",
    "determinar que un conjunto de datos no tiene la calidad requerida, vamos a saltarnos una iteración.\n",
    "\n",
    "*Ejemplo:*\n",
    "\n",
    "```python\n",
    "def proceso_datos(datos):\n",
    "    for conjunto_datos in datos:\n",
    "        conjunto_datos.validate()\n",
    "        # Continuación temprana después de que la comprobación barata falla\n",
    "        if not conjunto_datos.quality_ok():\n",
    "            continue\n",
    "        # Operación costosa protegida por la continuación temprana\n",
    "        conjunto_datos.process()\n",
    "```     \n",
    "\n",
    "Este código es una función llamada 'proceso_datos' que toma una lista de conjuntos de datos como entrada y realiza un procesamiento específico en\n",
    "cada conjunto de datos. A continuación, explicaré el código paso a paso:\n",
    "\n",
    "1. La función 'proceso_datos' toma un argumento llamado 'datos', que se supone que es una lista de objetos llamados \"conjunto_datos\".\n",
    "\n",
    "2. Luego, inicia un bucle 'for' que recorrerá cada elemento de la lista 'datos'. En cada iteración, el elemento actual se asigna a la \n",
    "variable 'conjunto_datos'.\n",
    "\n",
    "3. La línea 'conjunto_datos.validate()' indica que se está llamando al método 'validate()' en el objeto 'conjunto_datos'. Esto \n",
    "implica que cada objeto \"conjunto_datos\" tiene un método 'validate()' que realiza alguna validación de los datos.\n",
    "\n",
    "4. Después de la validación, la línea 'if not conjunto_datos.quality_ok(): continue' realiza una comprobación de calidad adicional \n",
    "mediante el método 'quality_ok()'. Si la comprobación falla (es decir, si el método devuelve 'False'), el programa ejecuta la \n",
    "instrucción 'continue', que pasa a la siguiente iteración del bucle sin ejecutar las líneas de código que vienen después.\n",
    "\n",
    "5. Si la comprobación de calidad es exitosa (el método 'quality_ok()' devuelve 'True'), entonces el programa ejecuta la línea \n",
    "'conjunto_datos.process()'. Esto indica que cada objeto \"conjunto_datos\" tiene un método llamado 'process()' que realiza una \n",
    "operación costosa en los datos del conjunto actual.\n",
    "\n",
    "En resumen, el código itera a través de una lista de conjuntos de datos y realiza las siguientes acciones para cada conjunto de datos:\n",
    "\n",
    "1. Realiza una validación de los datos mediante el método 'validate()' del objeto.\n",
    "2. Realiza una comprobación de calidad adicional con el método 'quality_ok()'.\n",
    "3. Si la comprobación de calidad es exitosa, ejecuta el método 'process()' en el conjunto de datos actual.\n",
    "\n",
    "El código está diseñado de manera que si un conjunto de datos no pasa la validación o la comprobación de calidad, se salta el \n",
    "procesamiento costoso y pasa al siguiente conjunto de datos. Esto puede ser útil para mejorar la eficiencia y evitar realizar \n",
    "operaciones costosas en datos que no cumplen con ciertos criterios de calidad.\n",
    "\n",
    "*Otro ejemplo, emitimos un texto y saltamos cada dos letras:*"
   ]
  },
  {
   "cell_type": "code",
   "execution_count": null,
   "metadata": {},
   "outputs": [],
   "source": [
    "texto = 'Saltando cada segunda letra'\n",
    "\n",
    "for indice, letra in enumerate(texto):\n",
    "    if indice % 2 != 0 and letra != ' ':\n",
    "        continue\n",
    "    \n",
    "    print(letra)"
   ]
  },
  {
   "cell_type": "markdown",
   "metadata": {},
   "source": [
    "Además de la sentencia continue para saltarse una pasada del bucle, también existe la sentencia `break`. Ejecutar un `break` dentro del \n",
    "cuerpo del bucle aborta inmediatamente la ejecución de este. Así pues, la sentencia `break` tiene una función en los bucles parecida a \n",
    "la de la sentencia return en las funciones.\n",
    "\n",
    "La sentencia break se utiliza a menudo para implementar algoritmos de búsqueda. Una vez que se haya encontrado el elemento respectivo \n",
    "dentro de un bucle, no es necesario seguir iterando. De forma análoga a la función `any()`, comprobamos la presencia de un único valor \n",
    "true en la lista y, en cuanto encontramos algo, rompemos el proceso con la sentencia `break`.\n",
    "\n",
    "*Ejemplo:*"
   ]
  },
  {
   "cell_type": "code",
   "execution_count": null,
   "metadata": {},
   "outputs": [],
   "source": [
    "lista_booleana = [False, False, True, False]\n",
    "\n",
    "for indice, boolean in enumerate(lista_booleana):\n",
    "    if boolean:\n",
    "        print(f\"Valor en la posición {indice + 1} es True\")\n",
    "        print(f\"Cancelación de la inspección de los restantes {len(lista_booleana) - indice - 1} elemento(s)\")\n",
    "        break"
   ]
  },
  {
   "cell_type": "markdown",
   "metadata": {},
   "source": [
    "En relación con la sentencia `break`, un bucle `for` en Python puede estar provisto de una sentencia `else` opcional. El código que \n",
    "contiene se ejecuta cuando el bucle termina sin que se haya ejecutado una sentencia `break`.\n",
    "\n",
    "*Ejemplo:*"
   ]
  },
  {
   "cell_type": "code",
   "execution_count": null,
   "metadata": {},
   "outputs": [],
   "source": [
    "def encontrar_elemento(objetivo, recopilacion):\n",
    "    for elemento in recopilacion:\n",
    "        if elemento == objetivo:\n",
    "            print(\"Encontraste lo que buscas\")\n",
    "            break\n",
    "    else:\n",
    "        print(\"No encontraste lo que buscabas\")\n",
    "\n",
    "# Test\n",
    "encontrar_elemento('a', 'Python')\n",
    "encontrar_elemento('o', 'Python')"
   ]
  },
  {
   "cell_type": "markdown",
   "metadata": {},
   "source": [
    "Los bucles `for` se utilizan a menudo en Python dentro de los cuerpos de las funciones. En este caso, es habitual utilizar una \n",
    "sentencia `return` en lugar de un `break`. Volvemos a formular nuestro algoritmo de búsqueda sin el uso de `break` y ´else´.\n",
    "\n",
    "*Ejemplo:*"
   ]
  },
  {
   "cell_type": "code",
   "execution_count": null,
   "metadata": {},
   "outputs": [],
   "source": [
    "def encontrar_elemento(objetivo, recopilacion):\n",
    "    for elemento in recopilacion:\n",
    "        if elemento == objetivo:\n",
    "            print(\"Encontraste lo que buscas\")\n",
    "            # return nos saca del bucle\n",
    "            return elemento\n",
    "    # Llegamos aquí sin pasar por return\n",
    "    print(\"No encontraste lo que buscabas\")\n",
    "    \n",
    "    return None\n",
    "\n",
    "# Test\n",
    "print(encontrar_elemento('a', 'Python'))\n",
    "print(encontrar_elemento('o', 'Python'))"
   ]
  },
  {
   "cell_type": "markdown",
   "metadata": {},
   "source": [
    "**¿Cuáles son las mejores prácticas para los bucles for en Python?**\n",
    "\n",
    "Los bucles `for` en Python se utilizan principalmente para `iterar` sobre los `elementos` de una `secuencia` o `colección`. Además, existen \n",
    "métodos más directos para muchos casos de uso común. A continuación, presentamos las mejores prácticas y los antipatrones más \n",
    "importantes. En primer lugar, un resumen de los principales términos:\n",
    "\n",
    "`Colección`: Colección de varios elementos. Una colección es un iterable. Ejemplo --> ('Walter', 'White'), [4, 2, 6, 9], 'Python' \n",
    "\n",
    "`Iterador`: Interfaz para iterar sobre colecciones. Ejemplo --> it = iter ('Python')\n",
    "\n",
    "`Generador`: Una función que utiliza la sentencia `yield` en lugar de `return`. Un generador es un  iterable. Ejemplo --> range(10)\n",
    "\n",
    "`Comprensión`: Expresión de iteración, crea una nueva colección basada en un iterable. Ejemplo --> [num ** 2 for num in range(10)]\n",
    "\n",
    "---\n",
    "\n",
    "## Iterar directamente sobre los elementos de una colección</span>\n",
    "\n",
    "Un error común que cometen los programadores de Python sin experiencia es el mal uso del bucle for en Python. Como es común en otros \n",
    "lenguajes, utilizan la función `len()` como límite de la función `range()` para crear una variable numérica de bucle. \n",
    "La utilizan para indexar los elementos individuales de la colección.\n",
    "\n",
    "*Ejemplo:*"
   ]
  },
  {
   "cell_type": "code",
   "execution_count": null,
   "metadata": {},
   "outputs": [],
   "source": [
    "palabra = 'Python'\n",
    "\n",
    "for i in range(len(palabra)):\n",
    "    print(palabra[i])"
   ]
  },
  {
   "cell_type": "markdown",
   "metadata": {},
   "source": [
    "Este antipatrón se critica con razón por no ser compatible con Python y es mejor iterar directamente sobre los elementos de la \n",
    "colección mediante el bucle for de Python.\n",
    "\n",
    "*Ejemplo:*"
   ]
  },
  {
   "cell_type": "code",
   "execution_count": null,
   "metadata": {},
   "outputs": [],
   "source": [
    "palabra = 'Python'\n",
    "\n",
    "for letra in palabra:\n",
    "    print(letra)"
   ]
  },
  {
   "cell_type": "markdown",
   "metadata": {},
   "source": [
    "---\n",
    "\n",
    "## Enumerar elementos de una colección con enumerate() incluido el índice</span>\n",
    "\n",
    "A veces se necesita el índice de un elemento dentro de la colección. En lugar de crear el índice como una variable de bucle, \n",
    "utilizamos la función `enumerate()`. Esta devuelve la tupla (índice, elemento), aunque debes tener en cuenta que el índice empieza a \n",
    "contar desde cero.\n",
    "\n",
    "*Ejemplo:*"
   ]
  },
  {
   "cell_type": "code",
   "execution_count": null,
   "metadata": {},
   "outputs": [],
   "source": [
    "nombres = [\"Juan\", \"Jose\", \"Andres\"]\n",
    "\n",
    "for indice, nombre in enumerate(nombres):\n",
    "    print(f\"{indice + 1}. {nombre}\")"
   ]
  },
  {
   "cell_type": "markdown",
   "metadata": {},
   "source": [
    "---\n",
    "\n",
    "## Iterar sobre tuplas de elementos con la función `zip()`\n",
    "\n",
    "Otro escenario común es iterar sobre los elementos de dos colecciones de igual longitud al mismo tiempo. El enfoque de Python utiliza \n",
    "la función `zip()`. Toma dos colecciones de igual longitud y devuelve 2 tuplas sucesivas.\n",
    "\n",
    "*Ejemplo:*"
   ]
  },
  {
   "cell_type": "code",
   "execution_count": null,
   "metadata": {},
   "outputs": [],
   "source": [
    "personas = ('Juan', 'Jose', 'Andres')\n",
    "edades = (42, 69, 13)\n",
    "\n",
    "# asegurarse de que ambas colecciones tengan la misma longitud\n",
    "assert len(personas) == len(edades)\n",
    "\n",
    "# iterar sobre tuplas de (persona, edad)\n",
    "for persona, edad in zip(personas, edades):\n",
    "    print(f\"{persona} tiene {edad} años\")"
   ]
  },
  {
   "cell_type": "markdown",
   "metadata": {},
   "source": [
    "---\n",
    "\n",
    "## Crear una variable de bucle numérica con la función `range()`\n",
    "\n",
    "Normalmente, los bucles for en Python se utilizan para iterar sobre los elementos de una colección. Utilizar un bucle for en Python \n",
    "para incrementar un número entero es algo poco usual. La mejor manera de hacerlo es construyendo un objeto range con la función \n",
    "`range()` e iterar sobre él.\n",
    "\n",
    "*Ejemplo:*"
   ]
  },
  {
   "cell_type": "code",
   "execution_count": null,
   "metadata": {},
   "outputs": [],
   "source": [
    "for numero in range(10):\n",
    "    print(numero)"
   ]
  },
  {
   "cell_type": "markdown",
   "metadata": {},
   "source": [
    "---\n",
    "\n",
    "## Uso del operador `in` para comprobar si una colección contiene un elemento\n",
    "\n",
    "Encontrar un elemento específico dentro de una colección forma parte del repertorio estándar de un programador. Normalmente, se \n",
    "utiliza una función que itera sobre los elementos, comprobando la semejanza de cada elemento con el que se busca. Si se encuentra el \n",
    "elemento deseado, se aborta la iteración.\n",
    "\n",
    "En Python, el operador (`in`) existe para este caso tan habitual. Este operador comprueba si la colección contiene el elemento buscado \n",
    "y devuelve el valor booleano correspondiente.\n",
    "\n",
    "*Ejemplo:*"
   ]
  },
  {
   "cell_type": "code",
   "execution_count": null,
   "metadata": {},
   "outputs": [],
   "source": [
    "'a' in 'Python'\n",
    "'y' in 'Python'"
   ]
  },
  {
   "cell_type": "markdown",
   "metadata": {},
   "source": [
    "---\n",
    "\n",
    "## Crear una lista a partir de un iterable con la función `list()`\n",
    "\n",
    "A diferencia de muchos otros lenguajes, en Python no es necesario utilizar un bucle for para escribir las letras de un string una a \n",
    "una en una lista. En su lugar, utilizamos la función `list()` para convertir un iterable en una lista de elementos. Veamos ambos \n",
    "enfoques con un ejemplo. Iteramos sobre las letras de una palabra y las añadimos a una lista vacía.\n",
    "\n",
    "*Ejemplo:*"
   ]
  },
  {
   "cell_type": "code",
   "execution_count": null,
   "metadata": {},
   "outputs": [],
   "source": [
    "palabra = 'Python'\n",
    "letras = []\n",
    "\n",
    "for letra in palabra:\n",
    "\tletras.append(letra)"
   ]
  },
  {
   "cell_type": "markdown",
   "metadata": {},
   "source": [
    "Podemos ahorrarnos el esfuerzo. Creamos la lista directamente con la función `list()`. Al mismo tiempo, comprobamos con la sentencia \n",
    "`assert` que ambos métodos dan el mismo resultado.\n",
    "\n",
    "*Ejemplo:*"
   ]
  },
  {
   "cell_type": "code",
   "execution_count": null,
   "metadata": {},
   "outputs": [],
   "source": [
    "assert list(palabra) == letras"
   ]
  },
  {
   "cell_type": "markdown",
   "metadata": {},
   "source": [
    "*Otro ejemplo, creamos una lista de números del cero al nueve y un objeto range sirve de base como iterable:*"
   ]
  },
  {
   "cell_type": "code",
   "execution_count": null,
   "metadata": {},
   "outputs": [],
   "source": [
    "list(range(10))"
   ]
  },
  {
   "cell_type": "markdown",
   "metadata": {},
   "source": [
    "Además de las listas, también se pueden crear conjuntos o “`sets`” (en inglés) a partir de un iterable. Por ejemplo, creamos un \n",
    "conjunto que refleja las letras contenidas en una frase. A continuación, comprobamos con el operador in que el conjunto de letras no \n",
    "contiene la 'a'.\n",
    "\n",
    "*Ejemplo:*"
   ]
  },
  {
   "cell_type": "code",
   "execution_count": null,
   "metadata": {},
   "outputs": [],
   "source": [
    "alfabeto = set('Python no esta patrocinado')\n",
    "assert 'a' not in alfabeto"
   ]
  },
  {
   "cell_type": "markdown",
   "metadata": {},
   "source": [
    "---\n",
    "\n",
    "## Sustituir los `bucles for` en Python por `comprensiones`\n",
    "\n",
    "Un uso común de los bucles `for` en Python es el de modificar los elementos de una colección. Se puede utilizar cuando queremos \n",
    "calcular nuevos valores en base a una colección o filtrar ciertos elementos según un patrón. Siguiendo el estilo de programación \n",
    "imperativa, describimos los pasos individuales:\n",
    "\n",
    "1. Iterar sobre la colección con el bucle for.\n",
    "2. Procesar cada elemento.\n",
    "3. Si es necesario, combinar un subconjunto de elementos en una nueva colección.\n",
    "\n",
    "Para realizar modificaciones sencillas, esto resulta demasiado complejo. Los lenguajes funcionales demuestran que se puede hacer de \n",
    "forma más fácil. Afortunadamente, Python cuenta con el concepto de “comprehensions” (comprensiones). Las comprensiones pueden \n",
    "reemplazar aplicaciones simples del bucle for en Python y, de hecho, son más eficaces que las aplicaciones equivalentes de un bucle \n",
    "for.\n",
    "\n",
    "Una comprensión crea una colección, que puede estar adaptada y basada en un iterable en caso de que sea necesario. Esta utiliza una \n",
    "sintaxis concisa y expresiva. A continuación, un ejemplo de la sintaxis general de la comprensión de una lista, donde la expresión \n",
    "está escrita entre corchetes y la operación se realiza sobre los elementos de una colección; cada elemento se copia \n",
    "en una nueva lista:\n",
    "\n",
    "\n",
    "```python\n",
    "[operation(elemento) for elemento in recopilacion]\n",
    "```\n",
    "\n",
    "Además, los elementos pueden filtrarse según determinados patrones. Se utiliza un if opcional y una condición:\n",
    "\n",
    "\n",
    "```python\n",
    "[operation(elemento) for elemento in recopilacion if condition(elemento)]\n",
    "````\n",
    "\n",
    "Veamos ahora un ejemplo de bucle for en Python que se puede sustituir por una comprensión. Tenemos una lista de números y queremos \n",
    "calcular una lista equivalente con los cuadrados de los números de la primera lista:\n",
    "\n",
    "\n",
    "```python\n",
    "numeros = [2, 3, 5, 9, 17]\n",
    "```\n",
    "\n",
    "Creamos una lista vacía e introducimos un bucle if que contiene el cálculo de los cuadrados de los números en su interior:"
   ]
  },
  {
   "cell_type": "code",
   "execution_count": null,
   "metadata": {},
   "outputs": [],
   "source": [
    "numeros = [2, 3, 5, 9, 17]\n",
    "numeros_al_cuadrado = []\n",
    "\n",
    "for numero in numeros:\n",
    "\tnumeros_al_cuadrado.append(numero ** 2)"
   ]
  },
  {
   "cell_type": "markdown",
   "metadata": {},
   "source": [
    "*La lista de números cuadrados puede expresarse de forma más sencilla en forma de una lista de comprensión:*\n",
    "\n",
    "```python\n",
    "numeros_al_cuadrado_comprension = [numero ** 2 for numero in numeros]\n",
    "```\n",
    "\n",
    "*A continuación, utilizamos la sentencia assert para asegurarnos de que ambos métodos arrojan el mismo resultado:*\n",
    "\n",
    "```python\n",
    "assert numeros_al_cuadrado == numeros_al_cuadrado_comprension\n",
    "```\n",
    "\n",
    "Otro ejemplo, si queremos extraer las letras minúsculas de un string, debemos crear e introducir como entrada una lista con una \n",
    "combinación de letras mayúsculas y minúsculas:\n",
    "\n",
    "```python\n",
    "palabra = list(\"PyThoN\")\n",
    "```\n",
    "\n",
    "La forma convencional de extraer las minúsculas es iterar sobre las letras. Durante ese proceso probamos cada letra con la función \n",
    "`islower()` y, en caso de tener un resultado positivo, las añadimos a una lista inicialmente vacía:"
   ]
  },
  {
   "cell_type": "code",
   "execution_count": null,
   "metadata": {},
   "outputs": [],
   "source": [
    "minuscula = []\n",
    "\n",
    "for letra in palabra:\n",
    "\tif letra.islower():\n",
    "\t\tminuscula.append(letra)"
   ]
  },
  {
   "cell_type": "markdown",
   "metadata": {},
   "source": [
    "El bucle `for` nos lo podemos ahorrar con Python. En su lugar, utilizamos una comprensión que solo copia las letras minúsculas de la \n",
    "lista original:\n",
    "\n",
    "\n",
    "```python\n",
    "minusculas_comprension = [letra for letra in palabra if letra.islower()]\n",
    "```\n",
    "\n",
    "De nuevo, comprobamos que ambos métodos arrojan el mismo resultado mediante la sentencia assert:\n",
    "\n",
    "\n",
    "```python\n",
    "assert minuscula == minusculas_comprension\n",
    "```\n",
    "---\n",
    "\n",
    "## Bucle `for` con `lista`\n",
    "\n",
    "*Sintaxis:*\n",
    "\n",
    "```python\n",
    "for iterador in lista:\n",
    "    codigo va aqui\n",
    "```\n",
    "*Ejemplo:*"
   ]
  },
  {
   "cell_type": "code",
   "execution_count": null,
   "metadata": {},
   "outputs": [],
   "source": [
    "numeros = [0, 1, 2, 3, 4, 5]\n",
    "\n",
    "\"\"\"El número es un nombre temporal para referirse a los elementos de la lista, válido solo dentro de este ciclo\"\"\"\n",
    "for numero in numeros:\n",
    "    print(numero)  # Los números se imprimirán línea por línea, del 0 al 5"
   ]
  },
  {
   "cell_type": "markdown",
   "metadata": {},
   "source": [
    "---\n",
    "\n",
    "## Bucle `for` con `string`\n",
    "\n",
    "*Sintaxis:*\n",
    "\n",
    "```python\n",
    "for iterador in string:\n",
    "    codigo va aqui\n",
    "```\n",
    "\n",
    "*Ejemplo:*"
   ]
  },
  {
   "cell_type": "code",
   "execution_count": null,
   "metadata": {},
   "outputs": [],
   "source": [
    "palabra = 'Python'\n",
    "\n",
    "for letra in palabra:\n",
    "    print(letra)\n",
    "    \n",
    "for i in range(len(palabra)):\n",
    "    print(palabra[i])"
   ]
  },
  {
   "cell_type": "markdown",
   "metadata": {},
   "source": [
    "---\n",
    "\n",
    "## Bucle `for` con `tupla`\n",
    "\n",
    "*Sintaxis:*\n",
    "\n",
    "```python\n",
    "for iterador in tupla:\n",
    "    codigo va aqui\n",
    "```\n",
    "\n",
    "\n",
    "*Ejemplo:*"
   ]
  },
  {
   "cell_type": "code",
   "execution_count": null,
   "metadata": {},
   "outputs": [],
   "source": [
    "numeros = (0, 1, 2, 3, 4, 5)\n",
    "\n",
    "for numero in numeros:\n",
    "    print(numero)"
   ]
  },
  {
   "cell_type": "markdown",
   "metadata": {},
   "source": [
    "---\n",
    "\n",
    "## Bucle `for` con `diccionario`\n",
    "\n",
    "Hacer un bucle a través de un diccionario le da la clave del diccionario. \n",
    "\n",
    "*Sintaxis:*\n",
    "\n",
    "```python  \n",
    "for iterador in diccionario:\n",
    "    codigo va aqui\n",
    "```\n",
    "\n",
    "*Ejemplo:*"
   ]
  },
  {
   "cell_type": "code",
   "execution_count": null,
   "metadata": {},
   "outputs": [],
   "source": [
    "persona = {\n",
    "    'nombre':'Juan',\n",
    "    'apellido':'Perez',\n",
    "    'edad':70,\n",
    "    'pais':'Portugal',\n",
    "    'casado':True,\n",
    "    'habilidades':['JavaScript', 'React', 'Node', 'MongoDB', 'Python'],\n",
    "    'direccion':{\n",
    "        'calle':'Barrio Alto',\n",
    "        'codigo_postal':'02210'\n",
    "    }\n",
    "}\n",
    "for key in persona:\n",
    "    print(key)\n",
    "\n",
    "for key, value in persona.items():\n",
    "    print(key, value)  # De esta manera obtenemos las claves y los valores impresos"
   ]
  },
  {
   "cell_type": "markdown",
   "metadata": {},
   "source": [
    "---\n",
    "\n",
    "## Bucles `for` en un `set` (conjunto)\n",
    "\n",
    "*Sintaxis:*\n",
    "\n",
    "```python\n",
    "for iterador in set:\n",
    "    codigo va aqui\n",
    "```\n",
    "\n",
    "*Ejemplo:*"
   ]
  },
  {
   "cell_type": "code",
   "execution_count": null,
   "metadata": {},
   "outputs": [],
   "source": [
    "empresas = {'Facebook', 'Google', 'Microsoft', 'Apple', 'IBM', 'Oracle', 'Amazon'}\n",
    "\n",
    "for empresa in empresas:\n",
    "    print(empresa)"
   ]
  },
  {
   "cell_type": "markdown",
   "metadata": {},
   "source": [
    "---\n",
    "\n",
    "## Break y continue - Parte 2\n",
    "\n",
    "#### Breve recordatorio `break`\n",
    " \n",
    "Usamos `break` cuando queremos detener nuestro ciclo antes de que se complete.\n",
    "\n",
    "*Sintaxis:*\n",
    "\n",
    "```python\n",
    "for iterador in sequencia:\n",
    "    codigo va aqui\n",
    "    if condicion:\n",
    "        break\n",
    "```\n",
    "\n",
    "*Ejemplo:*"
   ]
  },
  {
   "cell_type": "code",
   "execution_count": null,
   "metadata": {},
   "outputs": [],
   "source": [
    "numeros = (0,1,2,3,4,5)\n",
    "\n",
    "for numero in numeros:\n",
    "    print(numero)\n",
    "    if numero == 3:\n",
    "        break"
   ]
  },
  {
   "cell_type": "markdown",
   "metadata": {},
   "source": [
    "En el ejemplo anterior, el bucle se detiene cuando llega a 3. \n",
    "\n",
    "---\n",
    "\n",
    "#### `Continue`\n",
    "\n",
    "Usamos `continue` cuando queremos saltarnos algunos de los pasos en la iteración del bucle.\n",
    "\n",
    "*Sintaxis:*\n",
    "\n",
    "```python\n",
    "for iterador in sequencia:\n",
    "    codigo va aqui\n",
    "    if condicion:\n",
    "        continue\n",
    "```\n",
    "\n",
    "*Ejemplo:*"
   ]
  },
  {
   "cell_type": "code",
   "execution_count": null,
   "metadata": {},
   "outputs": [],
   "source": [
    "numeros = (0,1,2,3,4,5)\n",
    "\n",
    "for numero in numeros:\n",
    "    print(numero)\n",
    "    if numero == 3:\n",
    "        continue\n",
    "\n",
    "    print('El siguiente numero debe ser ', numero + 1) if numero != 5 else\n",
    "    # Para las condiciones abreviadas se necesitan declaraciones if y else\n",
    "    print(\"final del bucle\")\n",
    "    \n",
    "print('fuera del bucle')"
   ]
  },
  {
   "cell_type": "markdown",
   "metadata": {},
   "source": [
    "En el ejemplo anterior, si el número es igual a 3, se omite el paso posterior a la condición (pero dentro del ciclo) y la ejecución \n",
    "del ciclo continúa si quedan iteraciones.\n",
    "\n",
    "---\n",
    "\n",
    "#### La función range()\n",
    "\n",
    "La función `range()` se utiliza como lista de números. El rango (inicio, fin, paso) toma tres parámetros: \n",
    "inicio, fin e incremento. De forma predeterminada, comienza desde 0 y el incremento es 1. La secuencia de rango necesita al menos 1 \n",
    "argumento (fin). \n",
    "\n",
    "*Creando secuencias usando range:*"
   ]
  },
  {
   "cell_type": "code",
   "execution_count": null,
   "metadata": {},
   "outputs": [],
   "source": [
    "lista = list(range(11)) \n",
    "print(lista)                      # [0, 1, 2, 3, 4, 5, 6, 7, 8, 9, 10]\n",
    "\n",
    "conjunto = set(range(1, 11))      # 2 argumentos que indican el inicio y el final de la sequencia, el paso por defecto es 1\n",
    "print(conjunto)                   # {1, 2, 3, 4, 5, 6, 7, 8, 9, 10}\n",
    "\n",
    "lista = list(range(0,11,2))\n",
    "print(lista)                      # [0, 2, 4, 6, 8, 10]\n",
    "\n",
    "conjunto = set(range(0,11,2))\n",
    "print(conjunto)                   # {0, 2, 4, 6, 8, 10}"
   ]
  },
  {
   "cell_type": "markdown",
   "metadata": {},
   "source": [
    "*Sintaxis:*\n",
    "\n",
    "```python\n",
    "for iterador in range(comienzo, final, paso):\n",
    "```\n",
    "\n",
    "*Ejemplo:*"
   ]
  },
  {
   "cell_type": "code",
   "execution_count": null,
   "metadata": {},
   "outputs": [],
   "source": [
    "for numero in range(11):\n",
    "    print(numero)  # Imprime del 0 al 10, sin incluir el 11"
   ]
  },
  {
   "cell_type": "markdown",
   "metadata": {},
   "source": [
    "---\n",
    "\n",
    "#### Bucle for anidado\n",
    "\n",
    "Podemos escribir bucles dentro de un bucle. \n",
    "\n",
    "*Sintaxis:*\n",
    "\n",
    "```python\n",
    "for x in y:\n",
    "    for t in x:\n",
    "        print(t)\n",
    "```\n",
    "\n",
    "*Ejemplo:*"
   ]
  },
  {
   "cell_type": "code",
   "execution_count": null,
   "metadata": {},
   "outputs": [],
   "source": [
    "persona = {\n",
    "    'nombre': 'Juan',\n",
    "    'apellido': 'Perez',\n",
    "    'edad': 70,\n",
    "    'pais': 'Portugal',\n",
    "    'casado': True,\n",
    "    'habilidades': ['JavaScript', 'React', 'Node', 'MongoDB', 'Python'],\n",
    "    'direccion': {\n",
    "        'calle': 'Barrio Alto',\n",
    "        'codigo_postal': '02210'\n",
    "    }\n",
    "}\n",
    "for key in persona:\n",
    "    if key == 'habilidades':\n",
    "        for habilidades in persona['habilidades']:\n",
    "            print(habilidades)"
   ]
  },
  {
   "cell_type": "markdown",
   "metadata": {},
   "source": [
    "---\n",
    "\n",
    "#### For Else\n",
    "\n",
    "Si queremos ejecutar algún mensaje cuando finaliza el ciclo, usamos `else`. \n",
    "\n",
    "*Sintaxis:*\n",
    "\n",
    "```python\n",
    "for iterador in range(inicio, final, paso):\n",
    "    hacer algo\n",
    "else:\n",
    "    print('El ciclo terminó') \n",
    "```\n",
    "\n",
    "*Ejemplo:*"
   ]
  },
  {
   "cell_type": "code",
   "execution_count": null,
   "metadata": {},
   "outputs": [],
   "source": [
    "for numero in range(11):\n",
    "    print(numero)  # Imprime del 0 al 10, sin incluir el 11\n",
    "else:\n",
    "    print('El bucle se detiene en', numero)"
   ]
  },
  {
   "cell_type": "markdown",
   "metadata": {},
   "source": [
    "---\n",
    "\n",
    "#### Pass\n",
    "\n",
    "La palabra clave `pass` dentro de un bucle se utiliza para indicar que no se va a realizar ninguna acción en una iteración específica del bucle. \n",
    "Es útil cuando se necesita verificar una condición antes de realizar una acción en una iteración específica.\n",
    "\n",
    "Por ejemplo, el siguiente código itera sobre los números del 0 al 9. Si el valor de la variable i es igual a 5, el bucle no realiza ninguna acción\n",
    "en esa iteración.\n",
    "\n",
    "*Ejemplo:*"
   ]
  },
  {
   "cell_type": "code",
   "execution_count": null,
   "metadata": {},
   "outputs": [],
   "source": [
    "for i in range(10):\n",
    "    if i == 5:\n",
    "        pass\n",
    "    else:\n",
    "        print(i)"
   ]
  }
 ],
 "metadata": {
  "kernelspec": {
   "display_name": "Python 3",
   "language": "python",
   "name": "python3"
  },
  "language_info": {
   "codemirror_mode": {
    "name": "ipython",
    "version": 3
   },
   "file_extension": ".py",
   "mimetype": "text/x-python",
   "name": "python",
   "nbconvert_exporter": "python",
   "pygments_lexer": "ipython3",
   "version": "3.11.6"
  }
 },
 "nbformat": 4,
 "nbformat_minor": 2
}
